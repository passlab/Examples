{
 "cells": [
  {
   "cell_type": "markdown",
   "metadata": {},
   "source": [
    "# Synchronization"
   ]
  },
  {
   "cell_type": "markdown",
   "metadata": {},
   "source": [
    "The __barrier__ construct is a stand-alone directive that requires all threads of a team (within a contention group) to execute the barrier and complete execution of all tasks within the region, before continuing past the barrier."
   ]
  },
  {
   "cell_type": "markdown",
   "metadata": {},
   "source": [
    "The __critical__ construct is a directive that contains a structured block.  The construct allows only a single thread at a time to execute the structured block (region). Multiple critical regions may exist in a parallel region, and may act cooperatively (only one thread at a time in all __critical__ regions), or separately (only one thread at a time in each __critical__ regions when a unique name is supplied on each __critical__ construct). An optional (lock) __hint__ clause may be specified on a named __critical__  construct to provide the OpenMP runtime guidance in selection a locking  mechanism."
   ]
  },
  {
   "cell_type": "markdown",
   "metadata": {},
   "source": [
    "On a finer scale the __atomic__ construct allows only a single thread at  a time to have atomic access to a storage location involving a single read,  write, update or capture statement, and a limited number of combinations  when specifying the __capture__  _atomic-clause_  clause.  The  _atomic-clause_  clause is required for some expression statements, but is not required for __update__ statements. The  _memory-order_  clause can be used to specify the degree of memory ordering enforced by an __atomic__ construct. From weakest to strongest, they are __relaxed__ (the default), acquire and/or release clauses (specified with __acquire__, __release__, or __acq_rel__), and __seq_cst__.  Please see the details in the  _atomic Construct_  subsection of the  _Directives_  chapter in the OpenMP Specifications document."
   ]
  },
  {
   "cell_type": "markdown",
   "metadata": {},
   "source": [
    "The __ordered__ construct either specifies a structured block in a loop,  simd, or loop SIMD region that will be executed in the order of the loop  iterations.  The ordered construct sequentializes and orders the execution  of ordered regions while allowing code outside the region to run in parallel."
   ]
  },
  {
   "cell_type": "markdown",
   "metadata": {},
   "source": [
    "Since OpenMP 4.5 the __ordered__ construct can also be a stand-alone  directive that specifies cross-iteration dependences in a doacross loop nest.   The __depend__ clause uses a __sink__  _dependence-type_ , along with an  iteration vector argument (vec) to indicate the iteration that satisfies the  dependence.  The __depend__ clause with a __source__  _dependence-type_  specifies dependence satisfaction."
   ]
  },
  {
   "cell_type": "markdown",
   "metadata": {},
   "source": [
    "The __flush__ directive is a stand-alone construct for enforcing consistency between a thread's view of memory and the view of memory for other threads (see the Memory Model chapter of this document for more details). When the construct is used with an explicit variable list, a  _strong flush_  that forces a thread's temporary view of memory to be consistent with the actual memory is applied to all listed variables. When the construct is used without an explicit variable list and without a  _memory-order_  clause, a strong flush is applied to all locally thread-visible data as defined by the base language, and additionally the construct provides both acquire and release memory ordering semantics.  When an explicit variable list is not present and a  _memory-order_  clause is present, the construct provides acquire and/or release memory ordering semantics according to the  _memory-order_  clause, but no strong flush is performed. A resulting strong flush that applies to a set of variables effectively ensures that no memory (load or store) operation for the affected variables may be reordered across the __flush__ directive."
   ]
  },
  {
   "cell_type": "markdown",
   "metadata": {},
   "source": [
    "General-purpose routines provide mutual exclusion semantics through locks,  represented by lock variables.   The semantics allows a task to  _set_ , and hence   _own_  a lock, until it is  _unset_  by the task that set it. A   _nestable_  lock can be set multiple times by a task, and is used when in code requires nested control of locks.  A  _simple lock_  can only be set once by the owning task. There are specific calls for the two types of locks, and the variable of a specific lock type cannot be used by the other lock type."
   ]
  },
  {
   "cell_type": "markdown",
   "metadata": {},
   "source": [
    "Any explicit task will observe the synchronization prescribed in a  __barrier__ construct and an implied barrier.  Also, additional synchronizations  are available for tasks.  All children of a task will wait at a __taskwait__ (for  their siblings to complete).  A __taskgroup__ construct creates a region in which the current task is suspended at the end of the region until all sibling tasks,  and their descendants, have completed.  Scheduling constraints on task execution can be prescribed by the __depend__ clause to enforce dependence on previously generated tasks. More details on controlling task executions can be found in the  _Tasking_  Chapter in the OpenMP Specifications document."
   ]
  }
 ],
 "metadata": {
  "kernelspec": {
   "display_name": "Native",
   "language": "native",
   "name": "native"
  },
  "language_info": {
   "file_extension": ".c",
   "mimetype": "text/plain",
   "name": "c"
  }
 },
 "nbformat": 4,
 "nbformat_minor": 4
}
