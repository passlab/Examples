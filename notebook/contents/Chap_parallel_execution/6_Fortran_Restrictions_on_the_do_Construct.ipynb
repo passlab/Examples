{
 "cells": [
  {
   "cell_type": "markdown",
   "metadata": {},
   "source": [
    "## Fortran Restrictions on the __do__ Construct"
   ]
  },
  {
   "cell_type": "markdown",
   "metadata": {},
   "source": [
    "If an __end do__ directive follows a  _do-construct_   in which several  __DO__ statements share a __DO__ termination statement, then a  __do__  directive can only be specified for the outermost of these __DO__ statements.  The following example contains correct usages of loop constructs:"
   ]
  },
  {
   "cell_type": "code",
   "execution_count": null,
   "metadata": {},
   "outputs": [],
   "source": [
    "!!%compiler: gfortran\n",
    "!!%cflags: -fopenmp\n",
    "\n",
    "! name: fort_do.1\n",
    "! type: F-fixed\n",
    "      SUBROUTINE WORK(I, J)\n",
    "      INTEGER I,J\n",
    "      END SUBROUTINE WORK\n",
    "\n",
    "      SUBROUTINE DO_GOOD()\n",
    "        INTEGER I, J\n",
    "        REAL A(1000)\n",
    "\n",
    "        DO 100 I = 1,10\n",
    "!$OMP     DO\n",
    "          DO 100 J = 1,10\n",
    "            CALL WORK(I,J)\n",
    "100     CONTINUE      !  !$OMP ENDDO implied here\n",
    "\n",
    "!$OMP   DO\n",
    "        DO 200 J = 1,10\n",
    "200       A(I) = I + 1\n",
    "!$OMP   ENDDO\n",
    "\n",
    "!$OMP   DO\n",
    "        DO 300 I = 1,10\n",
    "          DO 300 J = 1,10\n",
    "            CALL WORK(I,J)\n",
    "300     CONTINUE\n",
    "!$OMP   ENDDO\n",
    "      END SUBROUTINE DO_GOOD\n",
    "\n"
   ]
  },
  {
   "cell_type": "markdown",
   "metadata": {},
   "source": [
    "The following example is non-conforming because the matching __do__ directive  for the __end do__ does not precede the outermost loop:"
   ]
  },
  {
   "cell_type": "code",
   "execution_count": null,
   "metadata": {},
   "outputs": [],
   "source": [
    "!!%compiler: gfortran\n",
    "!!%cflags: -fopenmp\n",
    "\n",
    "! name: fort_do.2\n",
    "! type: F-fixed\n",
    "      SUBROUTINE WORK(I, J)\n",
    "      INTEGER I,J\n",
    "      END SUBROUTINE WORK\n",
    "\n",
    "      SUBROUTINE DO_WRONG\n",
    "        INTEGER I, J\n",
    "\n",
    "        DO 100 I = 1,10\n",
    "!$OMP     DO\n",
    "          DO 100 J = 1,10\n",
    "            CALL WORK(I,J)\n",
    "100     CONTINUE\n",
    "!$OMP   ENDDO\n",
    "      END SUBROUTINE DO_WRONG"
   ]
  }
 ],
 "metadata": {
  "kernelspec": {
   "display_name": "Native",
   "language": "native",
   "name": "native"
  },
  "language_info": {
   "file_extension": ".c",
   "mimetype": "text/plain",
   "name": "c"
  }
 },
 "nbformat": 4,
 "nbformat_minor": 4
}