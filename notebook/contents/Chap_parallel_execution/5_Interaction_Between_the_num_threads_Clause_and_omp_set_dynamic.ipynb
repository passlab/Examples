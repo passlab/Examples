{
 "cells": [
  {
   "cell_type": "markdown",
   "metadata": {},
   "source": [
    "## Interaction Between the __num_threads__ Clause and __omp_set_dynamic__"
   ]
  },
  {
   "cell_type": "markdown",
   "metadata": {},
   "source": [
    "The following example demonstrates the __num_threads__ clause  and the effect  of the  __omp_set_dynamic__ routine  on it."
   ]
  },
  {
   "cell_type": "markdown",
   "metadata": {},
   "source": [
    "The call to the __omp_set_dynamic__ routine with argument __0__ in  C/C++, or __.FALSE.__ in Fortran, disables the dynamic adjustment of the number  of threads in OpenMP implementations that support it. In this case, 10 threads  are provided. Note that in case of an error the OpenMP implementation is free to  abort the program or to supply any number of threads available."
   ]
  },
  {
   "cell_type": "code",
   "execution_count": null,
   "metadata": {},
   "outputs": [],
   "source": [
    "//%compiler: clang\n",
    "//%cflags: -fopenmp\n",
    "\n",
    "/*\n",
    "* name: nthrs_dynamic.1\n",
    "* type: C\n",
    "*/\n",
    "#include <omp.h>\n",
    "int main()\n",
    "{\n",
    "  omp_set_dynamic(0);\n",
    "  #pragma omp parallel num_threads(10)\n",
    "  {\n",
    "    /* do work here */\n",
    "  }\n",
    "  return 0;\n",
    "}\n",
    "\n"
   ]
  },
  {
   "cell_type": "code",
   "execution_count": null,
   "metadata": {},
   "outputs": [],
   "source": [
    "!!%compiler: gfortran\n",
    "!!%cflags: -fopenmp\n",
    "\n",
    "! name: nthrs_dynamic.1\n",
    "! type: F-fixed\n",
    "      PROGRAM EXAMPLE\n",
    "        INCLUDE \"omp_lib.h\"      ! or USE OMP_LIB\n",
    "        CALL OMP_SET_DYNAMIC(.FALSE.)\n",
    "!$OMP     PARALLEL NUM_THREADS(10)\n",
    "            ! do work here\n",
    "!$OMP     END PARALLEL\n",
    "      END PROGRAM EXAMPLE"
   ]
  },
  {
   "cell_type": "markdown",
   "metadata": {},
   "source": [
    "The call to the __omp_set_dynamic__ routine with a non-zero argument in  C/C++, or __.TRUE.__ in Fortran, allows the OpenMP implementation to choose  any number of threads between 1 and 10."
   ]
  },
  {
   "cell_type": "code",
   "execution_count": null,
   "metadata": {},
   "outputs": [],
   "source": [
    "//%compiler: clang\n",
    "//%cflags: -fopenmp\n",
    "\n",
    "/*\n",
    "* name: nthrs_dynamic.2\n",
    "* type: C\n",
    "*/\n",
    "#include <omp.h>\n",
    "int main()\n",
    "{\n",
    "  omp_set_dynamic(1);\n",
    "  #pragma omp parallel num_threads(10)\n",
    "  {\n",
    "    /* do work here */\n",
    "  }\n",
    "  return 0;\n",
    "}\n",
    "\n"
   ]
  },
  {
   "cell_type": "code",
   "execution_count": null,
   "metadata": {},
   "outputs": [],
   "source": [
    "!!%compiler: gfortran\n",
    "!!%cflags: -fopenmp\n",
    "\n",
    "! name: nthrs_dynamic.2\n",
    "! type: F-fixed\n",
    "      PROGRAM EXAMPLE\n",
    "        INCLUDE \"omp_lib.h\"      ! or USE OMP_LIB\n",
    "        CALL OMP_SET_DYNAMIC(.TRUE.)\n",
    "!$OMP     PARALLEL NUM_THREADS(10)\n",
    "            ! do work here\n",
    "!$OMP     END PARALLEL\n",
    "      END PROGRAM EXAMPLE"
   ]
  },
  {
   "cell_type": "markdown",
   "metadata": {},
   "source": [
    "It is good practice to set the  _dyn-var_  ICV explicitly by calling the __omp_set_dynamic__  routine, as its default setting is implementation defined."
   ]
  }
 ],
 "metadata": {
  "kernelspec": {
   "display_name": "Native",
   "language": "native",
   "name": "native"
  },
  "language_info": {
   "file_extension": ".c",
   "mimetype": "text/plain",
   "name": "c"
  }
 },
 "nbformat": 4,
 "nbformat_minor": 4
}