{
 "cells": [
  {
   "cell_type": "markdown",
   "metadata": {},
   "source": [
    "# Parallel Execution"
   ]
  },
  {
   "cell_type": "markdown",
   "metadata": {},
   "source": [
    "A single thread, the  _initial thread_ , begins sequential execution of  an OpenMP enabled program, as if the whole program is in an implicit parallel region consisting of an implicit task executed by the  _initial thread_ ."
   ]
  },
  {
   "cell_type": "markdown",
   "metadata": {},
   "source": [
    "A __parallel__ construct encloses code,  forming a parallel region.  An  _initial thread_  encountering a __parallel__  region forks (creates) a team of threads at the beginning of the  __parallel__ region, and joins them (removes from execution) at the  end of the region.  The initial thread becomes the primary thread of the team in a  __parallel__ region with a  _thread_  number equal to zero, the other  threads are numbered from 1 to number of threads minus 1.  A team may be comprised of just a single thread."
   ]
  },
  {
   "cell_type": "markdown",
   "metadata": {},
   "source": [
    "Each thread of a team is assigned an implicit task consisting of code within the  parallel region. The task that creates a parallel region is suspended while the tasks of the team are executed.  A thread is tied to its task; that is, only the thread assigned to the task can execute that task.  After completion  of the __parallel__ region, the primary thread resumes execution of the generating task."
   ]
  },
  {
   "cell_type": "markdown",
   "metadata": {},
   "source": [
    "Any task within a __parallel__ region is allowed to encounter another __parallel__ region to form a nested __parallel__ region. The  parallelism of a nested __parallel__ region (whether it forks additional  threads, or is executed serially by the encountering task) can be controlled by the __OMP_NESTED__ environment variable or the __omp_set_nested()__  API routine with arguments indicating true or false."
   ]
  },
  {
   "cell_type": "markdown",
   "metadata": {},
   "source": [
    "The number of threads of a __parallel__ region can be set by the __OMP_NUM_THREADS__ environment variable, the __omp_set_num_threads()__ routine, or on the __parallel__  directive with the __num_threads__ clause. The routine overrides the environment variable, and the clause overrides all.  Use the __OMP_DYNAMIC__ or the __omp_set_dynamic()__ function to specify that the OpenMP implementation dynamically adjust the number of threads for __parallel__ regions.  The default setting for dynamic adjustment is implementation defined. When dynamic adjustment is on and the number of threads is specified, the number of threads becomes an upper limit for the number of threads to be provided by the OpenMP runtime."
   ]
  },
  {
   "cell_type": "markdown",
   "metadata": {},
   "source": [
    "WORKSHARING CONSTRUCTS"
   ]
  },
  {
   "cell_type": "markdown",
   "metadata": {},
   "source": [
    "A worksharing construct distributes the execution of the associated region among the members of the team that encounter it.  There is an implied barrier at the end of the worksharing region (there is no barrier at the beginning). The worksharing constructs are:"
   ]
  },
  {
   "cell_type": "markdown",
   "metadata": {},
   "source": [
    "- loop constructs: __for__ and __do__\n",
    "- __sections__\n",
    "- __single__\n",
    "- __workshare__"
   ]
  },
  {
   "cell_type": "markdown",
   "metadata": {},
   "source": [
    "The __for__ and __do__ constructs (loop constructs) create a region  consisting of a loop.  A loop controlled by a loop construct is called  an  _associated_  loop.  Nested loops can form a single region when the  __collapse__ clause (with an integer argument) designates the number of   _associated_  loops to be executed in parallel, by forming a  \"single iteration space\" for the specified number of nested loops.   The __ordered__ clause can also control multiple associated loops."
   ]
  },
  {
   "cell_type": "markdown",
   "metadata": {},
   "source": [
    "An associated loop must adhere to a \"canonical form\" (specified in the   _Canonical Loop Form_  of the OpenMP Specifications document) which allows the  iteration count (of all associated loops) to be computed before the  (outermost) loop is executed. Most common loops comply with the canonical form, including C++ iterators."
   ]
  },
  {
   "cell_type": "markdown",
   "metadata": {},
   "source": [
    "A __single__ construct forms a region in which only one thread (any one  of the team) executes the region.  The other threads wait at the implied  barrier at the end, unless the __nowait__ clause is specified."
   ]
  },
  {
   "cell_type": "markdown",
   "metadata": {},
   "source": [
    "The __sections__ construct forms a region that contains one or more  structured blocks.  Each block of a __sections__ directive is  constructed with a __section__ construct, and executed once by  one of the threads (any one) in the team.  (If only one block is  formed in the region, the __section__ construct, which is used to separate blocks, is not required.) The other threads wait at the implied  barrier at the end, unless the __nowait__ clause is specified."
   ]
  },
  {
   "cell_type": "markdown",
   "metadata": {},
   "source": [
    "The __workshare__ construct is a Fortran feature that consists of a region with a single structure block (section of code). Statements in the __workshare__ region are divided into units of work, and executed (once) by threads of the team."
   ]
  },
  {
   "cell_type": "markdown",
   "metadata": {},
   "source": [
    "MASKED CONSTRUCT"
   ]
  },
  {
   "cell_type": "markdown",
   "metadata": {},
   "source": [
    "The __masked__ construct is not a worksharing construct.  The __masked__ region is executed only by the primary thread. There is no implicit barrier (and flush)  at the end of the __masked__ region; hence the other threads of the team continue execution beyond code statements beyond the __masked__ region. The __master__ construct, which has been deprecated in OpenMP 5.1, has identical semantics to the __masked__ construct with no __filter__ clause."
   ]
  }
 ],
 "metadata": {
  "kernelspec": {
   "display_name": "Native",
   "language": "native",
   "name": "native"
  },
  "language_info": {
   "file_extension": ".c",
   "mimetype": "text/plain",
   "name": "none"
  }
 },
 "nbformat": 4,
 "nbformat_minor": 4
}
