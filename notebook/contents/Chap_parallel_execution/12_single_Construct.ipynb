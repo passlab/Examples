{
 "cells": [
  {
   "cell_type": "markdown",
   "metadata": {},
   "source": [
    "## __single__ Construct"
   ]
  },
  {
   "cell_type": "markdown",
   "metadata": {},
   "source": [
    "The following example demonstrates the __single__ construct. In the example,  only one thread prints each of the progress messages. All other threads will skip  the __single__ region and stop at the barrier at the end of the __single__  construct until all threads in the team have reached the barrier. If other threads  can proceed without waiting for the thread executing the __single__ region,  a __nowait__ clause can be specified, as is done in the third __single__  construct in this example. The user must not make any assumptions as to which thread  will execute a __single__ region."
   ]
  },
  {
   "cell_type": "code",
   "execution_count": null,
   "metadata": {},
   "outputs": [],
   "source": [
    "//%compiler: clang\n",
    "//%cflags: -fopenmp\n",
    "\n",
    "/*\n",
    "* name: single.1\n",
    "* type: C\n",
    "*/\n",
    "#include <stdio.h>\n",
    "\n",
    "void work1() {}\n",
    "void work2() {}\n",
    "\n",
    "void single_example()\n",
    "{\n",
    "  #pragma omp parallel\n",
    "  {\n",
    "    #pragma omp single\n",
    "      printf(\"Beginning work1.\\n\");\n",
    "\n",
    "    work1();\n",
    "\n",
    "    #pragma omp single\n",
    "      printf(\"Finishing work1.\\n\");\n",
    "\n",
    "    #pragma omp single nowait\n",
    "      printf(\"Finished work1 and beginning work2.\\n\");\n",
    "\n",
    "    work2();\n",
    "  }\n",
    "}\n",
    "\n"
   ]
  },
  {
   "cell_type": "code",
   "execution_count": null,
   "metadata": {},
   "outputs": [],
   "source": [
    "!!%compiler: gfortran\n",
    "!!%cflags: -fopenmp\n",
    "\n",
    "! name: single.1\n",
    "! type: F-fixed\n",
    "      SUBROUTINE WORK1()\n",
    "      END SUBROUTINE WORK1\n",
    "\n",
    "      SUBROUTINE WORK2()\n",
    "      END SUBROUTINE WORK2\n",
    "\n",
    "      PROGRAM SINGLE_EXAMPLE\n",
    "!$OMP PARALLEL\n",
    "\n",
    "!$OMP SINGLE\n",
    "        print *, \"Beginning work1.\"\n",
    "!$OMP END SINGLE\n",
    "\n",
    "        CALL WORK1()\n",
    "\n",
    "!$OMP SINGLE\n",
    "        print *, \"Finishing work1.\"\n",
    "!$OMP END SINGLE\n",
    "\n",
    "!$OMP SINGLE\n",
    "        print *, \"Finished work1 and beginning work2.\"\n",
    "!$OMP END SINGLE NOWAIT\n",
    "\n",
    "        CALL WORK2()\n",
    "\n",
    "!$OMP END PARALLEL\n",
    "\n",
    "      END PROGRAM SINGLE_EXAMPLE"
   ]
  }
 ],
 "metadata": {
  "kernelspec": {
   "display_name": "Native",
   "language": "native",
   "name": "native"
  },
  "language_info": {
   "file_extension": ".c",
   "mimetype": "text/plain",
   "name": "c"
  }
 },
 "nbformat": 4,
 "nbformat_minor": 4
}