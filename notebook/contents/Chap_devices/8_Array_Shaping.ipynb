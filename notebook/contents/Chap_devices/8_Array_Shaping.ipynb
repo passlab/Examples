{
 "cells": [
  {
   "cell_type": "markdown",
   "metadata": {},
   "source": [
    "## Array Shaping"
   ]
  },
  {
   "cell_type": "markdown",
   "metadata": {},
   "source": [
    "A pointer variable can be shaped to a multi-dimensional array to facilitate data access. This is achieved by a  _shape-operator_  casted in front of  a pointer (lvalue expression):  \n",
    "__([ s<sub>1</sub>][ s<sub>2</sub>]...[ s<sub>n</sub>])__ _pointer_   \n",
    "where each  s<sub>i</sub>  is an integral-type expression of positive value. The shape-operator can appear in either the  _motion-clause_  of the __target__ __update__ directive or the __depend__ clause."
   ]
  },
  {
   "cell_type": "markdown",
   "metadata": {},
   "source": [
    "The following example shows the use of the shape-operator in the  __target__ __update__ directive. The shape-operator __([nx][ny+2])__ casts pointer variable _a_ to a 2-dimentional array of size  _nx_  x  _(ny+2)_ .  The resulting array is then accessed as array sections (such as __[0:nx][1]__ and __[0:nx][ny]__)  in the __from__ or __to__ clause for transferring two columns of  noncontiguous boundary data from or to the device.   Note the use of additional parentheses around the shape-operator and _a_ to ensure the correct precedence  over array-section operations."
   ]
  },
  {
   "cell_type": "code",
   "execution_count": null,
   "metadata": {},
   "outputs": [],
   "source": [
    "//%compiler: clang\n",
    "//%cflags: -fopenmp\n",
    "\n",
    "/*\n",
    "* name: array_shaping.1\n",
    "* type: C\n",
    "* version: omp_5.1\n",
    "*/\n",
    "#pragma omp begin declare target\n",
    "  int do_work(double *a, int nx, int ny);\n",
    "  int other_work(double *a, int nx, int ny);\n",
    "#pragma omp end declare target\n",
    "\n",
    "void exch_data(double *a, int nx, int ny);\n",
    "\n",
    "void array_shaping(double *a, int nx, int ny)\n",
    "{\n",
    "   // map data to device and do work\n",
    "   #pragma omp target data map(a[0:nx*(ny+2)])\n",
    "   {\n",
    "      // do work on the device\n",
    "      #pragma omp target  // map(a[0:nx*(ny+2)]) is optional here\n",
    "      do_work(a, nx, ny);\n",
    "\n",
    "      // update boundary points (two columns of 2D array) on the host\n",
    "      // pointer is shaped to 2D array using the shape-operator\n",
    "      #pragma omp target update from( (([nx][ny+2])a)[0:nx][1], \\\n",
    "                                      (([nx][ny+2])a)[0:nx][ny] )\n",
    "\n",
    "      // exchange ghost points with neighbors\n",
    "      exch_data(a, nx, ny);\n",
    "\n",
    "      // update ghost points (two columns of 2D array) on the device\n",
    "      // pointer is shaped to 2D array using the shape-operator\n",
    "      #pragma omp target update to( (([nx][ny+2])a)[0:nx][0], \\\n",
    "                                    (([nx][ny+2])a)[0:nx][ny+1] )\n",
    "\n",
    "      // perform other work on the device\n",
    "      #pragma omp target  // map(a[0:nx*(ny+2)]) is optional here\n",
    "      other_work(a, nx, ny);\n",
    "   }\n",
    "}"
   ]
  },
  {
   "cell_type": "markdown",
   "metadata": {},
   "source": [
    "The shape operator is not defined for Fortran.  Explicit array shaping of procedure arguments can be used instead to achieve a similar goal. Below is the Fortran-equivalent of the above example that illustrates the support of transferring two rows of noncontiguous boundary data in the __target__ __update__ directive."
   ]
  },
  {
   "cell_type": "code",
   "execution_count": null,
   "metadata": {},
   "outputs": [],
   "source": [
    "!!%compiler: gfortran\n",
    "!!%cflags: -fopenmp\n",
    "\n",
    "! name: array_shaping.1\n",
    "! type: F-free\n",
    "! version: omp_5.2\n",
    "\n",
    "module m\n",
    "   interface\n",
    "      subroutine do_work(a, nx, ny)\n",
    "         !$omp declare target enter(do_work)\n",
    "         integer, intent(in) :: nx, ny\n",
    "         double precision a(0:nx+1,ny)\n",
    "      end subroutine do_work\n",
    "\n",
    "      subroutine other_work(a, nx, ny)\n",
    "         !$omp declare target enter(other_work)\n",
    "         integer, intent(in) :: nx, ny\n",
    "         double precision a(0:nx+1,ny)\n",
    "      end subroutine other_work\n",
    "\n",
    "      subroutine exch_data(a, nx, ny)\n",
    "         integer, intent(in) :: nx, ny\n",
    "         double precision a(0:nx+1,ny)\n",
    "      end subroutine exch_data\n",
    "   end interface\n",
    "end module m\n",
    "\n",
    "subroutine array_shaping(a, nx, ny)\n",
    "   use m\n",
    "   implicit none\n",
    "   integer, intent(in) :: nx, ny\n",
    "   double precision a(0:nx+1,ny)\n",
    "\n",
    "   ! map data to device and do work\n",
    "   !$omp target data map(a)\n",
    "\n",
    "      ! do work on the device\n",
    "      !$omp target      ! map(a) is optional here\n",
    "      call do_work(a, nx, ny)\n",
    "      !$omp end target\n",
    "\n",
    "      ! update boundary points (two rows of 2D array) on the host.\n",
    "      ! data transferred are noncontiguous\n",
    "      !$omp target update from( a(1,1:ny), a(nx,1:ny) )\n",
    "\n",
    "      ! exchange ghost points with neighbors\n",
    "      call exch_data(a, nx, ny)\n",
    "\n",
    "      ! update ghost points (two rows of 2D array) on the device.\n",
    "      ! data transferred are noncontiguous\n",
    "      !$omp target update to( a(0,1:ny), a(nx+1,1:ny) )\n",
    "\n",
    "      ! perform other work on the device\n",
    "      !$omp target      ! map(a) is optional here\n",
    "      call other_work(a, nx, ny)\n",
    "      !$omp end target\n",
    "\n",
    "   !$omp end target data\n",
    "\n",
    "end subroutine"
   ]
  }
 ],
 "metadata": {
  "kernelspec": {
   "display_name": "Native",
   "language": "native",
   "name": "native"
  },
  "language_info": {
   "file_extension": ".c",
   "mimetype": "text/plain",
   "name": "c"
  }
 },
 "nbformat": 4,
 "nbformat_minor": 4
}