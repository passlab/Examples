{
 "cells": [
  {
   "cell_type": "markdown",
   "metadata": {},
   "source": [
    "# Devices"
   ]
  },
  {
   "cell_type": "markdown",
   "metadata": {},
   "source": [
    "The __target__ construct consists of a __target__ directive  and an execution region. The __target__ region is executed on the default device or the device specified in the __device__  clause."
   ]
  },
  {
   "cell_type": "markdown",
   "metadata": {},
   "source": [
    "In OpenMP version 4.0, by default, all variables within the lexical scope of the construct are copied  _to_  and  _from_  the device, unless the device is the host, or the data exists on the device from a previously executed data-type construct that has created space on the device and possibly copied host data to the device storage."
   ]
  },
  {
   "cell_type": "markdown",
   "metadata": {},
   "source": [
    "The constructs that explicitly create storage, transfer data, and free storage on the device are categorized as structured and unstructured. The __target__ __data__ construct is structured. It creates a data region around __target__ constructs, and is convenient for providing persistent data throughout multiple __target__ regions. The __target__ __enter__ __data__ and  __target__ __exit__ __data__ constructs are unstructured, because  they can occur anywhere and do not support a \"structure\"  (a region) for enclosing __target__ constructs, as does the __target__ __data__ construct."
   ]
  },
  {
   "cell_type": "markdown",
   "metadata": {},
   "source": [
    "The __map__ clause is used on __target__  constructs and the data-type constructs to map host data. It  specifies the device storage and data movement __to__ and __from__ the device, and controls on the storage duration."
   ]
  },
  {
   "cell_type": "markdown",
   "metadata": {},
   "source": [
    "There is an important change in the OpenMP 4.5 specification that alters the data model for scalar variables and C/C++ pointer variables. The default behavior for scalar variables and C/C++ pointer variables in a 4.5 compliant code is __firstprivate__. Example codes that have been updated to reflect this new behavior are annotated with a description that describes changes required for correct execution. Often it is a simple matter of mapping the variable as __tofrom__ to obtain the intended 4.0 behavior."
   ]
  },
  {
   "cell_type": "markdown",
   "metadata": {},
   "source": [
    "In OpenMP version 4.5 the mechanism for target execution is specified as occurring through a  _target task_ .  When the __target__ construct is encountered a new   _target task_  is generated. The  _target task_   completes after the __target__ region has executed and all data  transfers have finished."
   ]
  },
  {
   "cell_type": "markdown",
   "metadata": {},
   "source": [
    "This new specification does not affect the execution of  pre-4.5 code; it is a necessary element for asynchronous  execution of the __target__ region when using the new __nowait__  clause introduced in OpenMP 4.5."
   ]
  }
 ],
 "metadata": {
  "kernelspec": {
   "display_name": "Native",
   "language": "native",
   "name": "native"
  },
  "language_info": {
   "file_extension": ".c",
   "mimetype": "text/plain",
   "name": "c"
  }
 },
 "nbformat": 4,
 "nbformat_minor": 4
}
