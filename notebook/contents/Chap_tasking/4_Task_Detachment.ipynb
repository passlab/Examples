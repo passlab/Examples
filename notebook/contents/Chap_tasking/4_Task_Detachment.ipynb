{
 "cells": [
  {
   "cell_type": "markdown",
   "metadata": {},
   "source": [
    "## Task Detachment"
   ]
  },
  {
   "cell_type": "markdown",
   "metadata": {},
   "source": [
    "The __detach__ clause on a __task__ construct provides a mechanism for an asynchronous routine to be called within a task block, and for the routine's callback to signal completion to the OpenMP runtime, through an  event fulfillment, triggered by a call to the __omp_fulfill_event__ routine. When a __detach__ clause is used on a task construct, completion of the **detachable** task occurs when the task's structured block is completed AND an  _allow-completion_  event is fulfilled by a call to the __omp_fulfill_event__  routine with the  _event-handle_  argument."
   ]
  },
  {
   "cell_type": "markdown",
   "metadata": {},
   "source": [
    "The first example illustrates the basic components used in a detachable task. The second example is a program that executes asynchronous IO, and illustrates  methods that are also inherent in asynchronous messaging within MPI and asynchronous commands in  streams within GPU codes. Interfaces to asynchronous operations found in IO, MPI and GPU parallel computing platforms and their programming models are not standardized."
   ]
  },
  {
   "cell_type": "markdown",
   "metadata": {},
   "source": [
    "-------------------------"
   ]
  },
  {
   "cell_type": "markdown",
   "metadata": {},
   "source": [
    "The first example creates a detachable task that executes the asynchronous  _async_work_  routine, passing the  _omp_fulfill_event_  function and the (firstprivate) event handle to the function. Here, the __omp_fulfill_event__ function is the \"callback'' function to be executed at the end of the  _async_work_  function's asynchronous operations, with the associated data,  _event_ ."
   ]
  },
  {
   "cell_type": "code",
   "execution_count": null,
   "metadata": {},
   "outputs": [],
   "source": [
    "//%compiler: clang\n",
    "//%cflags: -fopenmp\n",
    "\n",
    "/*\n",
    "* name:       task_detach.1\n",
    "* type:       C\n",
    "* version:    omp_5.0\n",
    "*/\n",
    "#include <omp.h>\n",
    "\n",
    "void async_work(void (*)(void*), void*);\n",
    "void work();\n",
    "\n",
    "int main() {\n",
    "  int async=1;\n",
    "  #pragma omp parallel\n",
    "  #pragma omp masked\n",
    "  {\n",
    "\n",
    "    omp_event_handle_t event;\n",
    "    #pragma omp task detach(event)\n",
    "    {\n",
    "      if(async) {\n",
    "        async_work( (void (*)(void*)) omp_fulfill_event, (void*) event );\n",
    "      } else {\n",
    "        work();\n",
    "        omp_fulfill_event(event);\n",
    "      }\n",
    "    }\n",
    "                  // Other work\n",
    "    #pragma omp taskwait\n",
    "  }\n",
    "  return 0;\n",
    "}"
   ]
  },
  {
   "cell_type": "code",
   "execution_count": null,
   "metadata": {},
   "outputs": [],
   "source": [
    "!!%compiler: gfortran\n",
    "!!%cflags: -fopenmp\n",
    "\n",
    "! name: task_detach.1\n",
    "! type: F-free\n",
    "! version:    omp_5.0\n",
    "program main\n",
    "  use omp_lib\n",
    "  implicit none\n",
    "\n",
    "  external :: async_work, work\n",
    "\n",
    "  logical :: async=.true.\n",
    "  integer(omp_event_handle_kind) :: event\n",
    "\n",
    "  !$omp parallel\n",
    "  !$omp masked\n",
    "\n",
    "    !$omp task detach(event)\n",
    "\n",
    "      if(async) then\n",
    "        call async_work(omp_fulfill_event, event)\n",
    "      else\n",
    "        call work()\n",
    "        call omp_fulfill_event(event)\n",
    "      endif\n",
    "\n",
    "    !$omp end task\n",
    "                  !! Other work\n",
    "\n",
    "    !$omp taskwait\n",
    "\n",
    "  !$omp end masked\n",
    "  !$omp end parallel\n",
    "\n",
    "end program"
   ]
  },
  {
   "cell_type": "markdown",
   "metadata": {},
   "source": [
    "In the following example, text data is written asynchronously to the file  _async_data_ , using POSIX asynchronous IO (aio). An aio \"control block'',  _cb_ , is set up to send a signal when IO is complete, and the  _sigaction_  function registers the signal action, a callback to  _callback_aioSigHandler_ ."
   ]
  },
  {
   "cell_type": "markdown",
   "metadata": {},
   "source": [
    "The first task (TASK1) starts the asynchronous IO and runs as a detachable task. The second and third tasks (TASK2 and TASK3) perform synchronous IO to stdout with print statements. The difference between the two types of tasks is that the thread for TASK1 is freed for  other execution within the parallel region, while the threads for TASK2 and TASK3 wait on the (synchronous) IO to complete, and cannot perform other work while the  operating system is performing the synchronous IO.  The __if__ clause ensures that the detachable task is launched  and the call to the  _aio_write_  function returns before TASK2 and TASK3 are generated (while the async IO occurs in the \"background'' and eventually executes the callback function).  The barrier at the end of the parallel region ensures that the detachable task has completed."
   ]
  },
  {
   "cell_type": "code",
   "execution_count": null,
   "metadata": {},
   "outputs": [],
   "source": [
    "//%compiler: clang\n",
    "//%cflags: -fopenmp\n",
    "\n",
    "/*\n",
    "* name:       task_detach.2\n",
    "* type:       C\n",
    "* version:    omp_5.0\n",
    "*/\n",
    "\n",
    "// use -lrt on loader line\n",
    "#include  <stdio.h>\n",
    "#include <unistd.h>\n",
    "#include  <fcntl.h>\n",
    "#include    <aio.h>\n",
    "#include  <errno.h>\n",
    "#include <signal.h>\n",
    "\n",
    "#include    <omp.h>\n",
    "\n",
    "#define IO_SIGNAL SIGUSR1        // Signal used to notify I/O completion\n",
    "\n",
    "                                 // Handler for I/O completion signal\n",
    "static void callback_aioSigHandler(int sig, siginfo_t *si,\n",
    "                                   void *ucontext) {\n",
    "   if (si->si_code == SI_ASYNCIO){\n",
    "      printf( \"OUT: I/O completion signal received.\\n\");\n",
    "      omp_fulfill_event( (omp_event_handle_t)(si->si_value.sival_ptr) );\n",
    "   }\n",
    "}\n",
    "\n",
    "void work(int i){ printf(\"OUT: Executing work(%d)\\n\", i);}\n",
    "\n",
    "int main() {\n",
    "   // Write \"Written Asynchronously.\" to file data, using POSIX\n",
    "   // asynchronous IO. Error checking not included for clarity\n",
    "   // and simplicity.\n",
    "\n",
    "   char      data[] = \"Written Asynchronously.\";\n",
    "\n",
    "   struct     aiocb cb;\n",
    "   struct sigaction sa;\n",
    "\n",
    "   omp_event_handle_t event;\n",
    "\n",
    "   int fd = open(  \"async_data\", O_CREAT|O_RDWR|O_TRUNC,0664);\n",
    "\n",
    "   // Setup async io (aio) control block (cb)\n",
    "   cb.aio_nbytes  = sizeof(data)-1;\n",
    "   cb.aio_fildes  = fd;\n",
    "   cb.aio_buf     = data;\n",
    "   cb.aio_reqprio = 0;\n",
    "   cb.aio_offset  = 0;\n",
    "   cb.aio_sigevent.sigev_notify = SIGEV_SIGNAL;\n",
    "   cb.aio_sigevent.sigev_signo  = IO_SIGNAL;\n",
    "\n",
    "   // Setup Signal Handler  Callback\n",
    "   sigemptyset(&sa.sa_mask);\n",
    "   sa.sa_flags = SA_RESTART | SA_SIGINFO;\n",
    "   sa.sa_sigaction = callback_aioSigHandler;   //callback\n",
    "   sigaction(IO_SIGNAL, &sa, NULL);\n",
    "\n",
    "   #pragma omp parallel num_threads(2)\n",
    "   #pragma omp masked\n",
    "   {\n",
    "\n",
    "      #pragma omp task detach(event) if(0)               // TASK1\n",
    "      {\n",
    "         cb.aio_sigevent.sigev_value.sival_ptr = (void *) event;\n",
    "         aio_write(&cb);\n",
    "      }\n",
    "\n",
    "      #pragma omp task                                   // TASK2\n",
    "         work(1);\n",
    "      #pragma omp task                                   // TASK3\n",
    "         work(2);\n",
    "\n",
    "   } // Parallel region barrier ensures completion of detachable task.\n",
    "\n",
    "   // Making sure the aio operation completed.\n",
    "   // With OpenMP detachable task the condition will always be false:\n",
    "   while(aio_error(&cb) == EINPROGRESS) {\n",
    "   printf(\" INPROGRESS\\n\");} //Safeguard\n",
    "\n",
    "   close(fd);\n",
    "   return 0;\n",
    "}\n",
    "/* Any Order:\n",
    "OUT: I/O completion signal received.\n",
    "OUT: Executing work(1)\n",
    "OUT: Executing work(2)\n",
    "*/"
   ]
  }
 ],
 "metadata": {
  "kernelspec": {
   "display_name": "Native",
   "language": "native",
   "name": "native"
  },
  "language_info": {
   "file_extension": ".c",
   "mimetype": "text/plain",
   "name": "c"
  }
 },
 "nbformat": 4,
 "nbformat_minor": 4
}