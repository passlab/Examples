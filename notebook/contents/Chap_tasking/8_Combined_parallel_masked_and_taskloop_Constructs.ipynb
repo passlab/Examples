{
 "cells": [
  {
   "cell_type": "markdown",
   "metadata": {},
   "source": [
    "## Combined __parallel__ __masked__ and __taskloop__ Constructs"
   ]
  },
  {
   "cell_type": "markdown",
   "metadata": {},
   "source": [
    "Just as the __for__ and __do__ constructs were combined with the __parallel__ construct for convenience, so too, the combined __parallel__ __masked__ __taskloop__ and  __parallel__ __masked__ __taskloop__ __simd__ constructs have been created for convenience when using the __taskloop__ construct."
   ]
  },
  {
   "cell_type": "markdown",
   "metadata": {},
   "source": [
    "In the following example the first __taskloop__ construct is enclosed by the usual __parallel__ and __masked__ constructs to form a team of threads, and a single task generator (primary thread) for the __taskloop__ construct."
   ]
  },
  {
   "cell_type": "markdown",
   "metadata": {},
   "source": [
    "The same OpenMP operations for the first taskloop are accomplished by the second taskloop with the __parallel__ __masked__ __taskloop__  combined construct.  The third taskloop uses the combined __parallel__ __masked__ __taskloop__ __simd__  construct to accomplish the same behavior as closely nested __parallel masked__, and __taskloop simd__ constructs."
   ]
  },
  {
   "cell_type": "markdown",
   "metadata": {},
   "source": [
    "As with any combined construct the clauses of the components may be used with appropriate restrictions. The combination of the __parallel__ __masked__ construct with the __taskloop__ or __taskloop__ __simd__ construct produces no additional  restrictions."
   ]
  },
  {
   "cell_type": "code",
   "execution_count": null,
   "metadata": {},
   "outputs": [],
   "source": [
    "//%compiler: clang\n",
    "//%cflags: -fopenmp\n",
    "\n",
    "/*\n",
    "* name: parallel_masked_taskloop.1\n",
    "* type: C\n",
    "* version: omp_5.1\n",
    "*/\n",
    "#include <stdio.h>\n",
    "#define N 100\n",
    "\n",
    "int main()\n",
    "{\n",
    "   int i, a[N],b[N],c[N];\n",
    "\n",
    "   for(int i=0; i<N; i++){ b[i]=i; c[i]=i; }  //init\n",
    "\n",
    "   #pragma omp parallel\n",
    "   #pragma omp masked\n",
    "   #pragma omp taskloop                      // taskloop 1\n",
    "   for(i=0;i<N;i++){ a[i] = b[i] + c[i]; }\n",
    "\n",
    "   #pragma omp parallel masked taskloop      // taskloop 2\n",
    "   for(i=0;i<N;i++){ b[i] = a[i] + c[i]; }\n",
    "\n",
    "   #pragma omp parallel masked taskloop simd // taskloop 3\n",
    "   for(i=0;i<N;i++){ c[i] = a[i] + b[i]; }\n",
    "\n",
    "   printf(\" %d %d\\n\",c[0],c[N-1]);  // 0 and 495\n",
    "}"
   ]
  },
  {
   "cell_type": "code",
   "execution_count": null,
   "metadata": {},
   "outputs": [],
   "source": [
    "!!%compiler: gfortran\n",
    "!!%cflags: -fopenmp\n",
    "\n",
    "! name:       parallel_masked_taskloop.1\n",
    "! type:       F-free\n",
    "! version:    omp_5.1\n",
    "program main\n",
    "\n",
    "   integer, parameter :: N=100\n",
    "   integer :: i, a(N),b(N),c(N)\n",
    "\n",
    "   do i=1,N                            !! initialize\n",
    "      b(i) = i\n",
    "      c(i) = i\n",
    "   enddo\n",
    "\n",
    "   !$omp parallel\n",
    "   !$omp masked\n",
    "   !$omp taskloop                      !! taskloop 1\n",
    "   do i=1,N\n",
    "      a(i) = b(i) + c(i)\n",
    "   enddo\n",
    "   !$omp end taskloop\n",
    "   !$omp end masked\n",
    "   !$omp end parallel\n",
    "\n",
    "   !$omp parallel masked taskloop      !! taskloop 2\n",
    "   do i=1,N\n",
    "      b(i) = a(i) + c(i)\n",
    "   enddo\n",
    "   !$omp end parallel masked taskloop\n",
    "\n",
    "   !$omp parallel masked taskloop simd !! taskloop 3\n",
    "   do i=1,N\n",
    "      c(i) = a(i) + b(i)\n",
    "   enddo\n",
    "   !$omp end parallel masked taskloop simd\n",
    "\n",
    "   print*,c(1),c(N)  !! 5 and 500\n",
    "\n",
    "end program"
   ]
  }
 ],
 "metadata": {
  "kernelspec": {
   "display_name": "Native",
   "language": "native",
   "name": "native"
  },
  "language_info": {
   "file_extension": ".c",
   "mimetype": "text/plain",
   "name": "c"
  }
 },
 "nbformat": 4,
 "nbformat_minor": 4
}