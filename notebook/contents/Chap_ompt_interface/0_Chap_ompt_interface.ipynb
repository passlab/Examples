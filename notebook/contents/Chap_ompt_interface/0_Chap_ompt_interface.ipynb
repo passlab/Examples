{
 "cells": [
  {
   "cell_type": "markdown",
   "metadata": {},
   "source": [
    "# OMPT Interface"
   ]
  },
  {
   "cell_type": "markdown",
   "metadata": {},
   "source": [
    "OMPT defines mechanisms and an API for interfacing with tools in the OpenMP program."
   ]
  },
  {
   "cell_type": "markdown",
   "metadata": {},
   "source": [
    "The OMPT API provides the following functionality:"
   ]
  },
  {
   "cell_type": "markdown",
   "metadata": {},
   "source": [
    "*   examines the state associated with an OpenMP thread\n",
    "*   interprets the call stack of an OpenMP thread\n",
    "*   receives notification about OpenMP events\n",
    "*   traces activity on OpenMP target devices\n",
    "*   assesses implementation-dependent details\n",
    "*   controls a tool from an OpenMP application"
   ]
  },
  {
   "cell_type": "markdown",
   "metadata": {},
   "source": [
    "The following sections will illustrate basic mechanisms and operations of the OMPT API."
   ]
  }
 ],
 "metadata": {
  "kernelspec": {
   "display_name": "Native",
   "language": "native",
   "name": "native"
  },
  "language_info": {
   "file_extension": ".c",
   "mimetype": "text/plain",
   "name": "c"
  }
 },
 "nbformat": 4,
 "nbformat_minor": 4
}
