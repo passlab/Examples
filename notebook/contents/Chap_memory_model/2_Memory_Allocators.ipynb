{
 "cells": [
  {
   "cell_type": "markdown",
   "metadata": {},
   "source": [
    "## Memory Allocators"
   ]
  },
  {
   "cell_type": "markdown",
   "metadata": {},
   "source": [
    "OpenMP memory allocators can be used to allocate memory with specific allocator traits.  In the following example an OpenMP allocator is used to specify an alignment for arrays  _x_  and  _y_ . The general approach for attributing traits to variables allocated by OpenMP is to create or specify a pre-defined  _memory space_ , create an array of  _traits_ , and then form an  _allocator_  from the memory space and trait. The allocator is then specified in an OpenMP allocation (using an API  _omp_alloc()_  function for C/C++ code and an __allocators__ directive for Fortran code in the  _allocators.1_  example)."
   ]
  },
  {
   "cell_type": "markdown",
   "metadata": {},
   "source": [
    "In the example below the  _xy_memspace_  variable is declared and assigned the default memory space ( _omp_default_mem_space_ ). Next, an array for  _traits_  is created. Since only one trait will be used, the array size is  _1_ . A trait is a structure in C/C++ and a derived type in Fortran, containing 2 components: a key and a corresponding value (key-value pair). The trait key used here is  _omp_atk_alignment_  (an enum for C/C++ and a parameter for Fortran) and the trait value of 64 is specified in the  _xy_traits_  declaration. These declarations are followed by a call to the  _omp_init_allocator()_  function to combine the memory space ( _xy_memspace_ ) and the traits ( _xy_traits_ ) to form an allocator ( _xy_alloc_ )."
   ]
  },
  {
   "cell_type": "markdown",
   "metadata": {},
   "source": [
    "In the C/C++ code the API   _omp_allocate()_  function is used to allocate space, similar to  _malloc_ , except that the allocator is specified as the second argument. In Fortran an __allocators__ directive is used to specify an allocator for the following Fortran  _allocate_  statement. A variable list in the __allocate__ clause may be supplied if the allocator is to be applied to a subset of variables in the Fortran allocate statement. Here, the  _xy_alloc_  allocator is specified in the modifier of the __allocator__ clause, and the set of all variables used in the  _allocate_  statement is specified in the list."
   ]
  },
  {
   "cell_type": "code",
   "execution_count": null,
   "metadata": {},
   "outputs": [],
   "source": [
    "//%compiler: clang\n",
    "//%cflags: -fopenmp\n",
    "\n",
    "/*\n",
    "* name: allocators.1\n",
    "* type: C\n",
    "* version: omp_5.0\n",
    "*/\n",
    "#include    <omp.h>\n",
    "#include  <stdio.h>\n",
    "#include <stdlib.h>\n",
    "#include <stdint.h>\n",
    "#define N 1000\n",
    "\n",
    "int main()\n",
    "{\n",
    "   float  *x, *y;\n",
    "   float s=2.0;\n",
    "\n",
    "   omp_memspace_handle_t  xy_memspace = omp_default_mem_space;\n",
    "   omp_alloctrait_t       xy_traits[1]= {omp_atk_alignment, 64};\n",
    "   omp_allocator_handle_t xy_alloc    =\n",
    "                           omp_init_allocator(xy_memspace,1,xy_traits);\n",
    "\n",
    "\n",
    "   x=(float *)omp_alloc(N*sizeof(float), xy_alloc);\n",
    "   y=(float *)omp_alloc(N*sizeof(float), xy_alloc);\n",
    "\n",
    "   if( ((intptr_t)(y))%64 != 0 || ((intptr_t)(x))%64 != 0 )\n",
    "   { printf(\"ERROR: x|y not 64-Byte aligned\\n\"); exit(1); }\n",
    "\n",
    "   #pragma omp parallel\n",
    "   {\n",
    "      #pragma omp for simd simdlen(16) aligned(x,y:64)\n",
    "      for(int i=0; i<N; i++){ x[i]=i+1; y[i]=i+1; } // initialize\n",
    "\n",
    "      #pragma omp for simd simdlen(16) aligned(x,y:64)\n",
    "      for(int i=0; i<N; i++) y[i] = s*x[i] + y[i];\n",
    "    }\n",
    "\n",
    "   printf(\"y[0],y[N-1]: %5.0f %5.0f\\n\",y[0],y[N-1]);\n",
    "   // output y[0],y[N-1]: 3 3000\n",
    "\n",
    "   omp_free(x, xy_alloc);\n",
    "   omp_free(y, xy_alloc);\n",
    "   omp_destroy_allocator(xy_alloc);\n",
    "\n",
    "   return 0;\n",
    "}"
   ]
  },
  {
   "cell_type": "code",
   "execution_count": null,
   "metadata": {},
   "outputs": [],
   "source": [
    "!!%compiler: gfortran\n",
    "!!%cflags: -fopenmp\n",
    "\n",
    "! name: allocators.1\n",
    "! type: F-free\n",
    "! version: omp_5.2\n",
    "program main\n",
    " use omp_lib\n",
    "\n",
    " integer, parameter :: N=1000\n",
    " real, allocatable  :: x(:),y(:)\n",
    " real               :: s = 2.0e0\n",
    " integer            :: i\n",
    "\n",
    " integer(omp_memspace_handle_kind ) :: xy_memspace = omp_default_mem_space\n",
    " type(   omp_alloctrait           ) :: xy_traits(1) = &\n",
    "                                    [omp_alloctrait(omp_atk_alignment,64)]\n",
    " integer(omp_allocator_handle_kind) :: xy_alloc\n",
    "\n",
    "   xy_alloc   =    omp_init_allocator(   xy_memspace, 1, xy_traits)\n",
    "\n",
    "   !$omp allocators allocate(allocator(xy_alloc): x, y)\n",
    "   allocate(x(N),y(N))\n",
    "                         !! loc is non-standard, but found everywhere\n",
    "                         !! remove these lines if not available\n",
    "   if(modulo(loc(x),64) /= 0 .and. modulo(loc(y),64) /=0 ) then\n",
    "      print*,\"ERROR: x|y not 64-byte aligned\"; stop\n",
    "   endif\n",
    "\n",
    "   !$omp parallel\n",
    "\n",
    "      !$omp do simd simdlen(16) aligned(x,y: 64) !! 64B aligned\n",
    "      do i=1,N  !! initialize\n",
    "        x(i)=i\n",
    "        y(i)=i\n",
    "      end do\n",
    "\n",
    "      !$omp do simd simdlen(16) aligned(x,y: 64) !! 64B aligned\n",
    "      do i = 1,N\n",
    "         y(i) = s*x(i) + y(i)\n",
    "      end do\n",
    "\n",
    "   !$omp end parallel\n",
    "\n",
    "   write(*,'(\"y(1),y(N):\",2f6.0)') y(1),y(N) !!output: y... 3. 3000.\n",
    "\n",
    "   deallocate(x,y)\n",
    "   call omp_destroy_allocator(xy_alloc)\n",
    "\n",
    "end program"
   ]
  },
  {
   "cell_type": "markdown",
   "metadata": {},
   "source": [
    "When using the __allocators__ construct with optional clauses in Fortran code,  users should be aware of the behavior of a reallocation."
   ]
  },
  {
   "cell_type": "markdown",
   "metadata": {},
   "source": [
    "In the following example, the  _a_  variable is allocated with 64-byte alignment through the __align__ clause of the __allocators__ construct. The alignment of the newly allocated object,  _a_ , in the (reallocation) assignment  _a = b_  will not be reallocated with the 64-byte alignment, but with the 32-byte alignment prescribed by the trait of the  _my_alloctr_   allocator. It is best to avoid this problem by constructing and using an allocator (not the __align__ clause) with the required alignment in  the __allocators__ construct. Note that in the subsequent deallocation of  _a_  the deallocation must precede the destruction of the allocator used in the allocation of  _a_ ."
   ]
  },
  {
   "cell_type": "code",
   "execution_count": null,
   "metadata": {},
   "outputs": [],
   "source": [
    "!!%compiler: gfortran\n",
    "!!%cflags: -fopenmp\n",
    "\n",
    "! name: allocators.2\n",
    "! type: F-free\n",
    "! version: omp_5.2\n",
    "program main\n",
    "   use omp_lib\n",
    "   implicit none\n",
    "\n",
    "   integer, parameter :: align_32=32\n",
    "   real, allocatable  :: a(:,:)\n",
    "   real               :: b(10,10)\n",
    "\n",
    "   integer(omp_memspace_handle_kind ) :: my_memspace\n",
    "   type(   omp_alloctrait           ) :: my_traits(1)\n",
    "   integer(omp_allocator_handle_kind) :: my_alloctr\n",
    "\n",
    "   my_memspace  =  omp_default_mem_space\n",
    "   my_traits    = [omp_alloctrait(omp_atk_alignment,align_32)]\n",
    "!                                     allocator alignment ^^\n",
    "   my_alloctr   =  omp_init_allocator(my_memspace, 1, my_traits)\n",
    "\n",
    "   !$omp allocators allocate(allocator(my_alloctr), align(64): a)\n",
    "   allocate(a(5,5)) ! 64-byte aligned by clause <---------^^\n",
    "\n",
    "   a = b  ! reallocation occurs with 32-byte alignment\n",
    "          ! uses just my_alloctr (32-byte align from allocator)\n",
    "\n",
    "   deallocate(a)  ! Uses my_alloctr in deallocation.\n",
    "   call omp_destroy_allocator(my_alloctr)\n",
    "\n",
    "end program main"
   ]
  },
  {
   "cell_type": "markdown",
   "metadata": {},
   "source": [
    "When creating and using an __allocators__ construct within a Fortran procedure for allocating storage (and subsequently freeing the allocator storage with an  __omp_destroy_allocator__ construct), users should be aware of the necessity of using an explicit Fortran deallocation instead of relying on auto-deallocation."
   ]
  },
  {
   "cell_type": "markdown",
   "metadata": {},
   "source": [
    "In the following example, a user-defined allocator is used in the allocation of the  _c_  variable, and then the allocator is destroyed. Auto-deallocation at the end of the  _broken_auto_deallocation_  procedure will fail without the allocator, hence an explicit deallocation should be used  (before the __omp_destroy_allocator__ construct). Note that an allocator may be specified directly in the __allocate__ clause without using the __allocator__ complex modifier, so long as no other modifier  is specified in the clause."
   ]
  },
  {
   "cell_type": "code",
   "execution_count": null,
   "metadata": {},
   "outputs": [],
   "source": [
    "!!%compiler: gfortran\n",
    "!!%cflags: -fopenmp\n",
    "\n",
    "! name: allocators.3\n",
    "! type: F-free\n",
    "! version: omp_5.2\n",
    "subroutine broken_auto_deallocation\n",
    "   use omp_lib\n",
    "   implicit none\n",
    "   integer, parameter :: align_32=32\n",
    "   real, allocatable  :: c(:)\n",
    "\n",
    "   integer(omp_memspace_handle_kind ) :: my_memspace\n",
    "   type(   omp_alloctrait           ) :: my_traits(1)\n",
    "   integer(omp_allocator_handle_kind) :: my_alloctr\n",
    "\n",
    "   my_memspace  =  omp_default_mem_space\n",
    "   my_traits    = [omp_alloctrait(omp_atk_alignment,align_32)]\n",
    "   my_alloctr   =  omp_init_allocator(my_memspace, 1, my_traits)\n",
    "\n",
    "   !$omp allocators allocate(my_alloctr: c)\n",
    "   allocate(c(100))\n",
    "\n",
    "   !...\n",
    "\n",
    "   call omp_destroy_allocator(my_alloctr)\n",
    "   ! Auto-deallocation of c fails,\n",
    "   ! because my_alloctr is no longer available.\n",
    "\n",
    "end subroutine"
   ]
  },
  {
   "cell_type": "markdown",
   "metadata": {},
   "source": [
    "The __allocate__ directive is a convenient way to apply an OpenMP  allocator to the allocation of declared variables."
   ]
  },
  {
   "cell_type": "markdown",
   "metadata": {},
   "source": [
    "This example illustrates the allocation of specific types of storage in a program  for use in libraries, privatized variables, and with offloading."
   ]
  },
  {
   "cell_type": "markdown",
   "metadata": {},
   "source": [
    "Two groups of variables, { _v1, v2_ } and { _v3, v4_ }, are used with the __allocate__  directive, and the { _v5, v6_ } pair is used with the __allocate__ clause.  Here we explicitly use predefined allocators __omp_high_bw_mem_alloc__ and __omp_default_mem_alloc__ with the __allocate__ directive in CASE 1. Similar effects are achieved for private variables of a task by using the __allocate__ clause, as shown in CASE 2."
   ]
  },
  {
   "cell_type": "markdown",
   "metadata": {},
   "source": [
    "Note, when the __allocate__ directive does not specify an __allocator__ clause, an implementation-defined default, stored in the  _def-allocator-var_  ICV, is used (not illustrated here). Users can set and get the default allocator with the __omp_set_default_allocator__ and __omp_get_default_allocator__ API routines."
   ]
  },
  {
   "cell_type": "code",
   "execution_count": null,
   "metadata": {},
   "outputs": [],
   "source": [
    "//%compiler: clang\n",
    "//%cflags: -fopenmp\n",
    "\n",
    "/*\n",
    "* name: allocators.4\n",
    "* type: C\n",
    "* version: omp_5.1\n",
    "*/\n",
    "#include <omp.h>\n",
    "#include <stdio.h>\n",
    "\n",
    "void my_init(double *,double *,int, double *,double *,int, \\\n",
    "             double *,double *,int);\n",
    "void lib_saxpy(double *,double *,double,int);\n",
    "void my_gather(double *,double *,int);\n",
    "\n",
    "#pragma omp begin declare target\n",
    "void my_gpu_vxv(double *, double *, int);\n",
    "#pragma omp end  declare target\n",
    "\n",
    "#define Nhb 1024*1024      // high bandwith\n",
    "#define Nbg 1024*1024*64   // big memory, default\n",
    "#define Nll 1024*1024      // low latency memory\n",
    "\n",
    "void test_allocate() {\n",
    "\n",
    "  double  v1[Nhb], v2[Nhb];\n",
    "  double  v3[Nbg], v4[Nbg];\n",
    "  double  v5[Nll], v6[Nll];\n",
    "\n",
    "/_* CASE 1: USING ALLOCATE DIRECTIVE _*/\n",
    "  #pragma omp allocate(v1,v2) allocator(omp_high_bw_mem_alloc)\n",
    "  #pragma omp allocate(v3,v4) allocator(omp_default_mem_alloc)\n",
    "\n",
    "  my_init(v1,v2,Nhb, v3,v4,Nbg, v5,v6,Nll);\n",
    "\n",
    "  lib_saxpy(v1,v2,5.0,Nhb);\n",
    "\n",
    "  #pragma omp target map(to: v3[0:Nbg], v4[0:Nbg]) map(from:v3[0:Nbg])\n",
    "  my_gpu_vxv(v3,v4,Nbg);\n",
    "\n",
    "/_* CASE 2: USING ALLOCATE CLAUSE _*/\n",
    "  #pragma omp task private(v5,v6) \\\n",
    "                   allocate(allocator(omp_low_lat_mem_alloc): v5,v6)\n",
    "  {\n",
    "    my_gather(v5,v6,Nll);\n",
    "  }\n",
    "\n",
    "}"
   ]
  },
  {
   "cell_type": "code",
   "execution_count": null,
   "metadata": {},
   "outputs": [],
   "source": [
    "!!%compiler: gfortran\n",
    "!!%cflags: -fopenmp\n",
    "\n",
    "! name: allocators.4\n",
    "! type: F-free\n",
    "! version: omp_5.1\n",
    "subroutine test_allocate\n",
    "   use omp_lib\n",
    "\n",
    "   interface\n",
    "     subroutine my_gpu_vxv(va,vb,n)\n",
    "     !$omp declare target\n",
    "     integer :: n\n",
    "     double precision  :: va(n), vb(n)\n",
    "     end subroutine\n",
    "   end interface\n",
    "\n",
    "   integer,parameter :: Nhb=1024*1024,   & !! high bandwith\n",
    "                        Nbg=1024*1024*64,& !! big memory, default\n",
    "                        Nll=1024*1024      !! low latency memory\n",
    "\n",
    "   double precision  ::  v1(Nhb), v2(Nhb)\n",
    "   double precision  ::  v3(Nbg), v4(Nbg)\n",
    "   double precision  ::  v5(Nll), v6(Nll)\n",
    "\n",
    " !_* CASE 1: USING ALLOCATE DIRECTIVE _*!\n",
    "   !$omp allocate(v1,v2) allocator(omp_high_bw_mem_alloc)\n",
    "   !$omp allocate(v3,v4) allocator(omp_default_mem_alloc)\n",
    "\n",
    "   call my_init(v1,v2,Nhb, v3,v4,Nbg, v5,v6,Nll)\n",
    "\n",
    "   call lib_saxpy(v1,v2,5.0,Nhb)\n",
    "\n",
    "   !$omp target map(to: v3, v4) map(from:v3)\n",
    "      call my_gpu_vxv(v3,v4,Nbg)\n",
    "   !$omp end target\n",
    "\n",
    " !_* CASE 2: USING ALLOCATE CLAUSE _*!\n",
    "   !$omp task private(v5,v6) &\n",
    "   !$omp&     allocate(allocator(omp_low_lat_mem_alloc): v5,v6)\n",
    "      call my_gather(v5,v6,Nll)\n",
    "   !$omp end task\n",
    "\n",
    "end subroutine test_allocate"
   ]
  }
 ],
 "metadata": {
  "kernelspec": {
   "display_name": "Native",
   "language": "native",
   "name": "native"
  },
  "language_info": {
   "file_extension": ".c",
   "mimetype": "text/plain",
   "name": "c"
  }
 },
 "nbformat": 4,
 "nbformat_minor": 4
}