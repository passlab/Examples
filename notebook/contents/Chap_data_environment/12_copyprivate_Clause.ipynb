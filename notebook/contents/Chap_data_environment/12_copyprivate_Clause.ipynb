{
 "cells": [
  {
   "cell_type": "markdown",
   "metadata": {},
   "source": [
    "## __copyprivate__ Clause"
   ]
  },
  {
   "cell_type": "markdown",
   "metadata": {},
   "source": [
    "The __copyprivate__ clause can be used to broadcast values acquired by a single  thread directly to all instances of the private variables in the other threads.  In this example, if the routine is called from the sequential part, its behavior  is not affected by the presence of the directives. If it is called from a __parallel__  region, then the actual arguments with which __a__ and __b__ are associated  must be private."
   ]
  },
  {
   "cell_type": "markdown",
   "metadata": {},
   "source": [
    "The thread that executes the structured block associated with the __single__   construct broadcasts the values of the private variables __a__, __b__,  __x__, and  __y__ from its implicit task's data environment to the data environments  of the other implicit tasks in the thread team. The broadcast completes before  any of the threads have left the barrier at the end of the construct."
   ]
  },
  {
   "cell_type": "code",
   "execution_count": null,
   "metadata": {},
   "outputs": [],
   "source": [
    "//%compiler: clang\n",
    "//%cflags: -fopenmp\n",
    "\n",
    "/*\n",
    "* name: copyprivate.1\n",
    "* type: C\n",
    "*/\n",
    "#include <stdio.h>\n",
    "float x, y;\n",
    "#pragma omp threadprivate(x, y)\n",
    "\n",
    "void init(float a, float b ) {\n",
    "    #pragma omp single copyprivate(a,b,x,y)\n",
    "    {\n",
    "        scanf(\"%f %f %f %f\", &a, &b, &x, &y);\n",
    "    }\n",
    "}"
   ]
  },
  {
   "cell_type": "code",
   "execution_count": null,
   "metadata": {},
   "outputs": [],
   "source": [
    "!!%compiler: gfortran\n",
    "!!%cflags: -fopenmp\n",
    "\n",
    "! name: copyprivate.1\n",
    "! type: F-fixed\n",
    "      SUBROUTINE INIT(A,B)\n",
    "      REAL A, B\n",
    "        COMMON /XY/ X,Y\n",
    "!$OMP   THREADPRIVATE (/XY/)\n",
    "\n",
    "!$OMP   SINGLE\n",
    "          READ (11) A,B,X,Y\n",
    "!$OMP   END SINGLE COPYPRIVATE (A,B,/XY/)\n",
    "\n",
    "      END SUBROUTINE INIT"
   ]
  },
  {
   "cell_type": "markdown",
   "metadata": {},
   "source": [
    "In this example, assume that the input must be performed by the primary thread.  Since the __masked__ construct does not support the __copyprivate__ clause,  it cannot broadcast the input value that is read. However, __copyprivate__  is used to broadcast an address where the input value is stored."
   ]
  },
  {
   "cell_type": "code",
   "execution_count": null,
   "metadata": {},
   "outputs": [],
   "source": [
    "//%compiler: clang\n",
    "//%cflags: -fopenmp\n",
    "\n",
    "/*\n",
    "* name: copyprivate.2\n",
    "* type: C\n",
    "* version:    omp_5.1\n",
    "*/\n",
    "#include <stdio.h>\n",
    "#include <stdlib.h>\n",
    "\n",
    "float read_next( ) {\n",
    "  float * tmp;\n",
    "  float return_val;\n",
    "\n",
    "  #pragma omp single copyprivate(tmp)\n",
    "  {\n",
    "    tmp = (float *) malloc(sizeof(float));\n",
    "  }  /* copies the pointer only */\n",
    "\n",
    "\n",
    "  #pragma omp masked\n",
    "  {\n",
    "    scanf(\"%f\", tmp);\n",
    "  }\n",
    "\n",
    "  #pragma omp barrier\n",
    "  return_val = *tmp;\n",
    "  #pragma omp barrier\n",
    "\n",
    "  #pragma omp single nowait\n",
    "  {\n",
    "    free(tmp);\n",
    "  }\n",
    "\n",
    "  return return_val;\n",
    "}"
   ]
  },
  {
   "cell_type": "code",
   "execution_count": null,
   "metadata": {},
   "outputs": [],
   "source": [
    "!!%compiler: gfortran\n",
    "!!%cflags: -fopenmp\n",
    "\n",
    "! name: copyprivate.2\n",
    "! type: F-fixed\n",
    "! version:    omp_5.1\n",
    "        REAL FUNCTION READ_NEXT()\n",
    "        REAL, POINTER :: TMP\n",
    "\n",
    "!$OMP   SINGLE\n",
    "          ALLOCATE (TMP)\n",
    "!$OMP   END SINGLE COPYPRIVATE (TMP)  ! copies the pointer only\n",
    "\n",
    "!$OMP   MASKED\n",
    "          READ (11) TMP\n",
    "!$OMP   END MASKED\n",
    "\n",
    "!$OMP   BARRIER\n",
    "          READ_NEXT = TMP\n",
    "!$OMP   BARRIER\n",
    "\n",
    "!$OMP   SINGLE\n",
    "          DEALLOCATE (TMP)\n",
    "!$OMP   END SINGLE NOWAIT\n",
    "        END FUNCTION READ_NEXT"
   ]
  },
  {
   "cell_type": "markdown",
   "metadata": {},
   "source": [
    "Suppose that the number of lock variables required within a __parallel__ region  cannot easily be determined prior to entering it. The __copyprivate__ clause  can be used to provide access to shared lock variables that are allocated within  that __parallel__ region."
   ]
  },
  {
   "cell_type": "code",
   "execution_count": null,
   "metadata": {},
   "outputs": [],
   "source": [
    "//%compiler: clang\n",
    "//%cflags: -fopenmp\n",
    "\n",
    "/*\n",
    "* name: copyprivate.3\n",
    "* type: C\n",
    "*/\n",
    "#include <stdio.h>\n",
    "#include <stdlib.h>\n",
    "#include <omp.h>\n",
    "\n",
    "omp_lock_t *new_lock()\n",
    "{\n",
    "  omp_lock_t *lock_ptr;\n",
    "\n",
    "  #pragma omp single copyprivate(lock_ptr)\n",
    "  {\n",
    "    lock_ptr = (omp_lock_t *) malloc(sizeof(omp_lock_t));\n",
    "    omp_init_lock( lock_ptr );\n",
    "  }\n",
    "\n",
    "  return lock_ptr;\n",
    "}"
   ]
  },
  {
   "cell_type": "code",
   "execution_count": null,
   "metadata": {},
   "outputs": [],
   "source": [
    "\n",
    "!!%compiler: gfortran\n",
    "!!%cflags: -fopenmp\n",
    "\n",
    "! name: copyprivate.3\n",
    "! type: F-fixed\n",
    "      FUNCTION NEW_LOCK()\n",
    "      USE OMP_LIB       ! or INCLUDE \"omp_lib.h\"\n",
    "        INTEGER(OMP_LOCK_KIND), POINTER :: NEW_LOCK\n",
    "\n",
    "!$OMP   SINGLE\n",
    "          ALLOCATE(NEW_LOCK)\n",
    "          CALL OMP_INIT_LOCK(NEW_LOCK)\n",
    "!$OMP   END SINGLE COPYPRIVATE(NEW_LOCK)\n",
    "      END FUNCTION NEW_LOCK"
   ]
  },
  {
   "cell_type": "markdown",
   "metadata": {},
   "source": [
    "Note that the effect of the __copyprivate__ clause on a variable with the  __allocatable__ attribute is different than on a variable with the __pointer__  attribute. The value of __A__ is copied (as if by intrinsic assignment) and  the pointer __B__ is copied (as if by pointer assignment) to the corresponding  list items in the other implicit tasks belonging to the __parallel__ region."
   ]
  },
  {
   "cell_type": "code",
   "execution_count": null,
   "metadata": {},
   "outputs": [],
   "source": [
    "!!%compiler: gfortran\n",
    "!!%cflags: -fopenmp\n",
    "\n",
    "! name: copyprivate.4\n",
    "! type: F-fixed\n",
    "      SUBROUTINE S(N)\n",
    "      INTEGER N\n",
    "\n",
    "        REAL, DIMENSION(:), ALLOCATABLE :: A\n",
    "        REAL, DIMENSION(:), POINTER :: B\n",
    "\n",
    "        ALLOCATE (A(N))\n",
    "!$OMP   SINGLE\n",
    "          ALLOCATE (B(N))\n",
    "          READ (11) A,B\n",
    "!$OMP   END SINGLE COPYPRIVATE(A,B)\n",
    "        ! Variable A is private and is\n",
    "        ! assigned the same value in each thread\n",
    "        ! Variable B is shared\n",
    "\n",
    "!$OMP   BARRIER\n",
    "!$OMP   SINGLE\n",
    "          DEALLOCATE (B)\n",
    "!$OMP   END SINGLE NOWAIT\n",
    "      END SUBROUTINE S"
   ]
  }
 ],
 "metadata": {
  "kernelspec": {
   "display_name": "Native",
   "language": "native",
   "name": "native"
  },
  "language_info": {
   "file_extension": ".c",
   "mimetype": "text/plain",
   "name": "c"
  }
 },
 "nbformat": 4,
 "nbformat_minor": 4
}