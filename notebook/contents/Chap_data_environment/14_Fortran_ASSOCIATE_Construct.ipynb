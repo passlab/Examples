{
 "cells": [
  {
   "cell_type": "markdown",
   "metadata": {},
   "source": [
    "## Fortran __ASSOCIATE__ Construct"
   ]
  },
  {
   "cell_type": "markdown",
   "metadata": {},
   "source": [
    "The following is an invalid example of specifying an associate name on a data-sharing attribute  clause. The constraint in the Data Sharing Attribute Rules section in the OpenMP  4.0 API Specifications states that an associate name preserves the association  with the selector established at the __ASSOCIATE__ statement. The associate  name  _b_  is associated with the shared variable  _a_ . With the predetermined data-sharing  attribute rule, the associate name  _b_  is not allowed to be specified on the __private__  clause."
   ]
  },
  {
   "cell_type": "code",
   "execution_count": null,
   "metadata": {},
   "outputs": [],
   "source": [
    "!!%compiler: gfortran\n",
    "!!%cflags: -fopenmp\n",
    "\n",
    "! name: associate.1\n",
    "! type: F-fixed\n",
    "! version: omp_4.0\n",
    "      program example_broken\n",
    "      real :: a, c\n",
    "      associate (b => a)\n",
    "!$omp parallel private(b, c)        ! invalid to privatize b\n",
    "      c = 2.0*b\n",
    "!$omp end parallel\n",
    "      end associate\n",
    "      end program"
   ]
  },
  {
   "cell_type": "markdown",
   "metadata": {},
   "source": [
    "In next example, within the __parallel__ construct, the association name  _thread_id_   is associated with the private copy of  _i_ . The print statement should output the  unique thread number."
   ]
  },
  {
   "cell_type": "code",
   "execution_count": null,
   "metadata": {},
   "outputs": [],
   "source": [
    "!!%compiler: gfortran\n",
    "!!%cflags: -fopenmp\n",
    "\n",
    "! name: associate.2\n",
    "! type: F-fixed\n",
    "! version: omp_4.0\n",
    "      program example\n",
    "      use omp_lib\n",
    "      integer  i\n",
    "!$omp parallel private(i)\n",
    "      i = omp_get_thread_num()\n",
    "      associate(thread_id => i)\n",
    "        print *, thread_id       ! print private i value\n",
    "      end associate\n",
    "!$omp end parallel\n",
    "      end program"
   ]
  },
  {
   "cell_type": "markdown",
   "metadata": {},
   "source": [
    "The following example illustrates the effect of specifying a selector name on a data-sharing  attribute clause. The associate name  _u_  is associated with  _v_  and the variable  _v_   is specified on the __private__ clause of the __parallel__ construct.  The construct association is established prior to the __parallel__ region.  The association between  _u_  and the original  _v_  is retained (see the Data Sharing  Attribute Rules section in the OpenMP 4.0 API Specifications). Inside the __parallel__  region,  _v_  has the value of -1 and  _u_  has the value of the original  _v_ ."
   ]
  },
  {
   "cell_type": "code",
   "execution_count": null,
   "metadata": {},
   "outputs": [],
   "source": [
    "!!%compiler: gfortran\n",
    "!!%cflags: -fopenmp\n",
    "\n",
    "! name: associate.3\n",
    "! type: F-free\n",
    "! version: omp_4.0\n",
    "program example\n",
    "  integer :: v\n",
    "  v = 15\n",
    "associate(u => v)\n",
    "!$omp parallel private(v)\n",
    "  v = -1\n",
    "  print *, v               ! private v=-1\n",
    "  print *, u               ! original v=15\n",
    "!$omp end parallel\n",
    "end associate\n",
    "end program"
   ]
  },
  {
   "cell_type": "markdown",
   "metadata": {},
   "source": [
    "The following example illustrates mapping behavior for a Fortran associate name and its selector for a __target__ construct."
   ]
  },
  {
   "cell_type": "markdown",
   "metadata": {},
   "source": [
    "For the first 3 __target__ constructs the associate name  _a_aray_  is associated with the selector  _aray_ , an array.   For the __target__ construct of code block TARGET 1 just the selector  _aray_  is used and is implicitly mapped, likewise for the associate name  _a_aray_  in the TARGET 2 block.   However, mapping an associate name and its selector is not valid for the same __target__ construct.  Hence the TARGET 3 block is non-conforming."
   ]
  },
  {
   "cell_type": "markdown",
   "metadata": {},
   "source": [
    "In TARGET 4, the  _scalr_  selector used in the __target__ region  has an implicit data-sharing attribute of firstprivate since it is a scalar. Hence, the assigned value is not returned. In TARGET 5, the associate name  _a_scalr_  is implicitly mapped and the assigned value is returned to the host (default __tofrom__ mapping behavior). In TARGET 6, the use of the associate name and its selector in the __target__ region is conforming because the scalar firstprivate behavior of the selector  and the implicit mapping of the associate name are allowed.   At the end of the __target__ region only the  associate name's value is returned to the host.  In TARGET 7, the selector and associate name appear in an explicit mapping for the same __target__ construct,  hence the code block is non-conforming."
   ]
  },
  {
   "cell_type": "code",
   "execution_count": null,
   "metadata": {},
   "outputs": [],
   "source": [
    "!!%compiler: gfortran\n",
    "!!%cflags: -fopenmp\n",
    "\n",
    "! name: associate.4\n",
    "! type: F-free\n",
    "! version: omp_5.1\n",
    "program main\n",
    "  integer :: scalr, aray(3)\n",
    "  scalr = -1 ; aray = -1\n",
    "\n",
    "  associate(a_scalr=>scalr, a_aray=>aray)\n",
    "\n",
    " !$omp target            !! TARGET 1\n",
    "    aray = [1,2,3]\n",
    "  !$omp end target\n",
    "  print *, a_aray, aray  !!  1 2 3   1 2 3\n",
    "\n",
    "  !$omp target           !! TARGET 2\n",
    "    a_aray = [4,5,6]\n",
    "  !$omp end target\n",
    "  print *, a_aray, aray  !! 4 5 6   4 5 6\n",
    "\n",
    "!!!$omp target           !! TARGET 3\n",
    "!!                       !! mapping, in this case implicit,\n",
    "!!                       !! of aray AND a_aray NOT ALLOWED\n",
    "!!    aray = [4,5,6]\n",
    "!!  a_aray = [1,2,3]\n",
    "!!!$omp end target\n",
    "\n",
    "\n",
    "  !$omp target              !! TARGET 4\n",
    "    scalr = 1               !! scalr is firstprivate\n",
    "  !$omp end target\n",
    "  print *, a_scalr, scalr   !! -1  -1\n",
    "\n",
    "  !$omp target              !! TARGET 5\n",
    "    a_scalr = 2             !! a_scalr implicitly mapped\n",
    "  !$omp end target\n",
    "  print *, a_scalr, scalr   !!  2   2\n",
    "\n",
    "  !$omp target              !! TARGET 6\n",
    "    scalr = 3               !!          scalr is firstprivate\n",
    "    print *, a_scalr, scalr !!  2   3\n",
    "    a_scalr = 4             !!          a_scalr implicitly mapped\n",
    "    print *, a_scalr, scalr !!  4   3\n",
    "  !$omp end target\n",
    "  print *, a_scalr, scalr   !!  4   4\n",
    "\n",
    "!!!$omp target map(a_scalr,scalr)  !! TARGET 7\n",
    "                                   !! mapping, in this case explicit,\n",
    "                                   !! of scalr AND a_sclar NOT ALLOWED\n",
    "!!    scalr = 5\n",
    "!!  a_scalr = 5\n",
    "!!!$omp end target\n",
    "\n",
    "  end associate\n",
    "\n",
    "end program"
   ]
  }
 ],
 "metadata": {
  "kernelspec": {
   "display_name": "Native",
   "language": "native",
   "name": "native"
  },
  "language_info": {
   "file_extension": ".c",
   "mimetype": "text/plain",
   "name": "c"
  }
 },
 "nbformat": 4,
 "nbformat_minor": 4
}