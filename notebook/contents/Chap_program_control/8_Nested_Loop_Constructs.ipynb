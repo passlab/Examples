{
 "cells": [
  {
   "cell_type": "markdown",
   "metadata": {},
   "source": [
    "## Nested Loop Constructs"
   ]
  },
  {
   "cell_type": "markdown",
   "metadata": {},
   "source": [
    "The following example of loop construct nesting is conforming because the inner  and outer loop regions bind to different __parallel__ regions:"
   ]
  },
  {
   "cell_type": "code",
   "execution_count": null,
   "metadata": {},
   "outputs": [],
   "source": [
    "//%compiler: clang\n",
    "//%cflags: -fopenmp\n",
    "\n",
    "/*\n",
    "* name: nested_loop.1\n",
    "* type: C\n",
    "*/\n",
    "void work(int i, int j) {}\n",
    "\n",
    "void good_nesting(int n)\n",
    "{\n",
    "  int i, j;\n",
    "  #pragma omp parallel default(shared)\n",
    "  {\n",
    "    #pragma omp for\n",
    "    for (i=0; i<n; i++) {\n",
    "      #pragma omp parallel shared(i, n)\n",
    "      {\n",
    "        #pragma omp for\n",
    "        for (j=0; j < n; j++)\n",
    "          work(i, j);\n",
    "      }\n",
    "    }\n",
    "  }\n",
    "}"
   ]
  },
  {
   "cell_type": "code",
   "execution_count": null,
   "metadata": {},
   "outputs": [],
   "source": [
    "!!%compiler: gfortran\n",
    "!!%cflags: -fopenmp\n",
    "\n",
    "! name: nested_loop.1\n",
    "! type: F-fixed\n",
    "      SUBROUTINE WORK(I, J)\n",
    "      INTEGER I, J\n",
    "      END SUBROUTINE WORK\n",
    "\n",
    "      SUBROUTINE GOOD_NESTING(N)\n",
    "      INTEGER N\n",
    "\n",
    "        INTEGER I\n",
    "!$OMP   PARALLEL DEFAULT(SHARED)\n",
    "!$OMP     DO\n",
    "          DO I = 1, N\n",
    "!$OMP       PARALLEL SHARED(I,N)\n",
    "!$OMP         DO\n",
    "              DO J = 1, N\n",
    "                CALL WORK(I,J)\n",
    "              END DO\n",
    "!$OMP       END PARALLEL\n",
    "          END DO\n",
    "!$OMP   END PARALLEL\n",
    "      END SUBROUTINE GOOD_NESTING"
   ]
  },
  {
   "cell_type": "markdown",
   "metadata": {},
   "source": [
    "The following variation of the preceding example is also conforming:"
   ]
  },
  {
   "cell_type": "code",
   "execution_count": null,
   "metadata": {},
   "outputs": [],
   "source": [
    "//%compiler: clang\n",
    "//%cflags: -fopenmp\n",
    "\n",
    "/*\n",
    "* name: nested_loop.2\n",
    "* type: C\n",
    "*/\n",
    "void work(int i, int j) {}\n",
    "\n",
    "\n",
    "void work1(int i, int n)\n",
    "{\n",
    "  int j;\n",
    "  #pragma omp parallel default(shared)\n",
    "  {\n",
    "    #pragma omp for\n",
    "    for (j=0; j<n; j++)\n",
    "      work(i, j);\n",
    "  }\n",
    "}\n",
    "\n",
    "\n",
    "void good_nesting2(int n)\n",
    "{\n",
    "  int i;\n",
    "  #pragma omp parallel default(shared)\n",
    "  {\n",
    "    #pragma omp for\n",
    "    for (i=0; i<n; i++)\n",
    "      work1(i, n);\n",
    "  }\n",
    "}"
   ]
  },
  {
   "cell_type": "code",
   "execution_count": null,
   "metadata": {},
   "outputs": [],
   "source": [
    "!!%compiler: gfortran\n",
    "!!%cflags: -fopenmp\n",
    "\n",
    "! name: nested_loop.2\n",
    "! type: F-fixed\n",
    "      SUBROUTINE WORK(I, J)\n",
    "      INTEGER I, J\n",
    "      END SUBROUTINE WORK\n",
    "\n",
    "      SUBROUTINE WORK1(I, N)\n",
    "      INTEGER J\n",
    "!$OMP PARALLEL DEFAULT(SHARED)\n",
    "!$OMP DO\n",
    "        DO J = 1, N\n",
    "          CALL WORK(I,J)\n",
    "        END DO\n",
    "!$OMP END PARALLEL\n",
    "      END SUBROUTINE WORK1\n",
    "\n",
    "      SUBROUTINE GOOD_NESTING2(N)\n",
    "      INTEGER N\n",
    "!$OMP PARALLEL DEFAULT(SHARED)\n",
    "!$OMP DO\n",
    "      DO I = 1, N\n",
    "         CALL WORK1(I, N)\n",
    "      END DO\n",
    "!$OMP END PARALLEL\n",
    "      END SUBROUTINE GOOD_NESTING2"
   ]
  }
 ],
 "metadata": {
  "kernelspec": {
   "display_name": "Native",
   "language": "native",
   "name": "native"
  },
  "language_info": {
   "file_extension": ".c",
   "mimetype": "text/plain",
   "name": "c"
  }
 },
 "nbformat": 4,
 "nbformat_minor": 4
}