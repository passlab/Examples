{
 "cells": [
  {
   "cell_type": "markdown",
   "metadata": {},
   "source": [
    "## C/C++ Pragmas"
   ]
  },
  {
   "cell_type": "markdown",
   "metadata": {},
   "source": [
    "OpenMP C and C++ directives can be specified with the C/C++ __#pragma__ directive. An OpenMP directive begins with __#pragma omp__ and is followed by the  OpenMP directive name, and required and optional clauses. Lines are continued in the  usual manner, and comments may be included at the end. Directives are case sensitive."
   ]
  },
  {
   "cell_type": "markdown",
   "metadata": {},
   "source": [
    "The example below illustrates the use of the OpenMP pragma form. The first pragma (PRAG 1) specifies a combined __parallel for__ directive, with a __num_threads__ clause, and a comment.  The second pragma (PRAG 2) shows the same directive split across two lines. The next nested pragmas (PRAG 3 and 4) show the previous combined directive as  two separate directives. The executable directives above all apply to the next  statement. The __parallel__ directive can be applied to a  _structured_   _block_  as shown in PRAG 5."
   ]
  },
  {
   "cell_type": "code",
   "execution_count": null,
   "metadata": {},
   "outputs": [],
   "source": [
    "//%compiler: clang\n",
    "//%cflags: -fopenmp\n",
    "\n",
    "/*\n",
    "* name:       directive_syntax_pragma.1\n",
    "* type:       C\n",
    "*/\n",
    "#include   <omp.h>\n",
    "#include <stdio.h>\n",
    "#define NT 4\n",
    "#define thrd_no omp_get_thread_num\n",
    "\n",
    "int main(){\n",
    "    #pragma omp parallel for num_threads(NT)                 // PRAG 1\n",
    "    for(int i=0; i<NT; i++) printf(\"thrd no %d\\n\",thrd_no());\n",
    "\n",
    "    #pragma omp parallel for \\\n",
    "                num_threads(NT)                              // PRAG 2\n",
    "    for(int i=0; i<NT; i++) printf(\"thrd no %d\\n\",thrd_no());\n",
    "\n",
    "    #pragma omp parallel num_threads(NT)                     // PRAG 3-4\n",
    "    #pragma omp for\n",
    "    for(int i=0; i<NT; i++) printf(\"thrd no %d\\n\",thrd_no());\n",
    "\n",
    "    #pragma omp parallel num_threads(NT)                     // PRAG 5\n",
    "    {\n",
    "       int no = thrd_no();\n",
    "       if (no%2) { printf(\"thrd no %d is Odd \\n\",no);}\n",
    "       else      { printf(\"thrd no %d is Even\\n\",no);}\n",
    "\n",
    "       #pragma omp for\n",
    "       for(int i=0; i<NT; i++) printf(\"thrd no %d\\n\",thrd_no());\n",
    "    }\n",
    "}\n",
    "/*\n",
    "      repeated 4 times, any order\n",
    "      OUTPUT: thrd no 0\n",
    "      OUTPUT: thrd no 1\n",
    "      OUTPUT: thrd no 2\n",
    "      OUTPUT: thrd no 3\n",
    "\n",
    "      any order\n",
    "      OUTPUT: thrd no 0 is Even\n",
    "      OUTPUT: thrd no 2 is Even\n",
    "      OUTPUT: thrd no 1 is Odd\n",
    "      OUTPUT: thrd no 3 is Odd\n",
    "*/\n",
    "\n"
   ]
  }
 ],
 "metadata": {
  "kernelspec": {
   "display_name": "Native",
   "language": "native",
   "name": "native"
  },
  "language_info": {
   "file_extension": ".c",
   "mimetype": "text/plain",
   "name": "c"
  }
 },
 "nbformat": 4,
 "nbformat_minor": 4
}