{
 "cells": [
  {
   "cell_type": "markdown",
   "metadata": {},
   "source": [
    "## C++ Attributes"
   ]
  },
  {
   "cell_type": "markdown",
   "metadata": {},
   "source": [
    "OpenMP directives for C++ can also be specified with  the __directive__ extension for the C++11 standard  _attributes_ ."
   ]
  },
  {
   "cell_type": "markdown",
   "metadata": {},
   "source": [
    "The C++ example below shows two ways to parallelize a __for__ loop using the __#pragma__ syntax. The first pragma uses the combined __parallel__ __for__ directive, and the second applies the uncombined closely nested directives, __parallel__ and __for__, directly to the same statement.  These are labeled PRAG 1-3."
   ]
  },
  {
   "cell_type": "markdown",
   "metadata": {},
   "source": [
    "Using the attribute syntax, the same construct in PRAG 1 is applied two different ways in attribute form, as shown in the ATTR 1 and ATTR 2 sections. In ATTR 1 the attribute syntax is used with the __omp ::__ namespace form. In ATTR 2 the attribute syntax is used with the __using omp :__ namespace form."
   ]
  },
  {
   "cell_type": "markdown",
   "metadata": {},
   "source": [
    "Next, parallelization is attempted by applying directives using two different syntaxes. For ATTR 3 and PRAG 4, the loop parallelization will fail to compile because multiple directives that apply to the same statement must all use either the attribute syntax or the pragma syntax. The lines have been commented out and labeled INVALID."
   ]
  },
  {
   "cell_type": "markdown",
   "metadata": {},
   "source": [
    "While multiple attributes may be applied to the same statement, compilation may fail if the ordering of the directive matters. For the ATTR 4-5 loop parallelization, the __parallel__ directive precedes  the __for__ directive, but the compiler may reorder consecutive attributes. If the directives are reversed, compilation will fail."
   ]
  },
  {
   "cell_type": "markdown",
   "metadata": {},
   "source": [
    "The attribute directive of the ATTR 6 section resolves the previous problem (in ATTR 4-5). Here, the __sequence__ attribute is used to apply ordering to the directives of ATTR 4-5, using the __omp__ __::__ namespace qualifier. (The __using omp :__ namespace form is not available for the __sequence__ attribute.)  Note, for the __sequence__ attribute a comma must separate the __directive__ extensions."
   ]
  },
  {
   "cell_type": "markdown",
   "metadata": {},
   "source": [
    "The last 3 pairs of sections (PRAG DECL 1-2, 3-4, and 5-6) show cases where  directive ordering does not matter for __declare__ __simd__ directives."
   ]
  },
  {
   "cell_type": "markdown",
   "metadata": {},
   "source": [
    "In section PRAG DECL 1-2, the two loops use different SIMD forms of the  _P_  function (one with __simdlen(4)__ and the other with __simdlen(8)__),  as prescribed by the two different __declare__ __simd__ directives applied to the  _P_  function definitions (at the beginning of the code).  The directives use the pragma syntax, and order is not important.  For the next set of loops  (PRAG DECL 3-4) that use the  _Q_  function, the attribute syntax is  used for the __declare__ __simd__ directives.  The result is compliant code since directive order is irrelevant. Sections ATTR DECL 5-6 are included for completeness. Here, the attribute  form of the __simd__ directive is used for loops calling the  _Q_  function,  in combination with the attribute form of the __declare__ __simd__  directives declaring the variants for  _Q_ ."
   ]
  },
  {
   "cell_type": "code",
   "execution_count": null,
   "metadata": {},
   "outputs": [],
   "source": [
    "//%compiler: clang\n",
    "//%cflags: -fopenmp\n",
    "\n",
    "/*\n",
    "* name:       directive_syntax_attribute.1\n",
    "* type:       C++\n",
    "* version:    omp_5.0\n",
    "*/\n",
    "#include <stdio.h>\n",
    "#include <omp.h>\n",
    "#define NT 4\n",
    "#define thrd_no omp_get_thread_num\n",
    "\n",
    "#pragma omp declare simd linear(i) simdlen(4)\n",
    "#pragma omp declare simd linear(i) simdlen(8)\n",
    "double P(int i){ return (double)i * (double)i; }\n",
    "\n",
    "[[omp::directive(declare simd linear(i) simdlen(4))]]\n",
    "[[omp::directive(declare simd linear(i) simdlen(8))]]\n",
    "double Q(int i){ return (double)i * (double)i; }\n",
    "\n",
    "int main() {\n",
    "\n",
    "    #pragma omp parallel for num_threads(NT)                 // PRAG 1\n",
    "    for(int i=0; i<NT; i++) printf(\"thrd no %d\\n\",thrd_no());\n",
    "\n",
    "    #pragma omp parallel num_threads(NT)                     // PRAG 2\n",
    "    #pragma omp for                                          // PRAG 3\n",
    "    for(int i=0; i<NT; i++) printf(\"thrd no %d\\n\",thrd_no());\n",
    "\n",
    "                                                             // ATTR 1\n",
    "    [[omp::directive( parallel for num_threads(NT))]]\n",
    "    for(int i=0; i<NT; i++) printf(\"thrd no %d\\n\",thrd_no());\n",
    "\n",
    "                                                             // ATTR 2\n",
    "    [[using omp : directive( parallel for num_threads(NT))]]\n",
    "    for(int i=0; i<NT; i++) printf(\"thrd no %d\\n\",thrd_no());\n",
    "\n",
    " // INVALID-- attribute and non-attribute on same statement\n",
    " // [[ omp :: directive( parallel num_threads(NT) ) ]]          ATTR 3\n",
    " // #pragma omp for                                             PRAG 4\n",
    " // for(int i=0; i<NT; i++) printf(\"thrd no %d\\n\",thrd_no());\n",
    "\n",
    "\n",
    " // INVALID-- directive order not guaranteed\n",
    " // [[ omp :: directive( parallel num_threads(NT) ) ]]          ATTR 4\n",
    " // [[ omp :: directive( for                      ) ]]          ATTR 5\n",
    " // for(int i=0; i<NT; i++) printf(\"thrd no %d\\n\",thrd_no());\n",
    "\n",
    "                                                             // ATTR 6\n",
    "    [[omp::sequence(directive(parallel num_threads(NT)),directive(for))]]\n",
    "    for(int i=0; i<NT; i++) printf(\"thrd no %d\\n\",thrd_no());\n",
    "\n",
    "    double tmp=0.0f;\n",
    "    #pragma omp simd reduction(+:tmp) simdlen(4)\n",
    "    for(int i=0;i<100;i++) tmp += P(i);                 // PRAG DECL 1\n",
    "    #pragma omp simd reduction(+:tmp) simdlen(8)\n",
    "    for(int i=0;i<100;i++) tmp += P(i);                 // PRAG DECL 2\n",
    "    printf(\"%f\\n\",tmp);\n",
    "\n",
    "    tmp=0.0f;\n",
    "    #pragma omp simd reduction(+:tmp) simdlen(4)\n",
    "    for(int i=0;i<100;i++) tmp += Q(i);                 // ATTR DECL 3\n",
    "    #pragma omp simd reduction(+:tmp) simdlen(8)\n",
    "    for(int i=0;i<100;i++) tmp += Q(i);                 // ATTR DECL 4\n",
    "    printf(\"%f\\n\",tmp);\n",
    "\n",
    "    tmp=0.0f;\n",
    "    [[ omp :: directive(simd reduction(+:tmp) simdlen(4))]]\n",
    "    for(int i=0;i<100;i++) tmp += Q(i);                 // ATTR DECL 5\n",
    "    [[ omp :: directive(simd reduction(+:tmp) simdlen(8))]]\n",
    "    for(int i=0;i<100;i++) tmp += Q(i);                 // ATTR DECL 6\n",
    "    printf(\"%f\\n\",tmp);\n",
    "}\n",
    "//    repeated 5 times, any order:\n",
    "//    OUTPUT: thrd no  0\n",
    "//    OUTPUT: thrd no  1\n",
    "//    OUTPUT: thrd no  2\n",
    "//    OUTPUT: thrd no  3\n",
    "\n",
    "//    repeated 3 time:\n",
    "//    OUTPUT: 656700.000000\n",
    "\n",
    "\n"
   ]
  }
 ],
 "metadata": {
  "kernelspec": {
   "display_name": "Native",
   "language": "native",
   "name": "native"
  },
  "language_info": {
   "file_extension": ".c",
   "mimetype": "text/plain",
   "name": "c"
  }
 },
 "nbformat": 4,
 "nbformat_minor": 4
}