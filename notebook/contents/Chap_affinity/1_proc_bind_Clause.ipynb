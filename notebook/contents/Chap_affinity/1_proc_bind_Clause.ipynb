{
 "cells": [
  {
   "cell_type": "markdown",
   "id": "0178b1e8-139a-45fd-8057-f9a5d3bfcaa1",
   "metadata": {},
   "source": [
    "## __proc_bind__ Clause"
   ]
  },
  {
   "cell_type": "markdown",
   "id": "86a4a9b2-698e-4567-8ed5-c4ebde26c0a0",
   "metadata": {},
   "source": [
    "The following examples demonstrate how to use the __proc_bind__ clause to  control the thread binding for a team of threads in a __parallel__ region.  The machine architecture is depicted in Figure 4.1. It consists of two sockets,  each equipped with a quad-core processor and configured to execute two hardware threads simultaneously on each core. These examples assume a contiguous core numbering  starting from 0, such that the hardware threads 0,1 form the first physical core."
   ]
  },
  {
   "cell_type": "markdown",
   "id": "0a134709-63c7-4957-b73e-d420e141b902",
   "metadata": {},
   "source": [
    "![FIGURE 4.1: A machine architecture with two quad-core processors](../figs/proc_bind_fig.png)\n",
    "\n",
    "__FIGURE 4.1:__\n",
    "A machine architecture with two quad-core processors"
   ]
  },
  {
   "cell_type": "markdown",
   "id": "4680ed41-4338-46e9-9158-8673aae57472",
   "metadata": {},
   "source": [
    "The following equivalent place list declarations consist of eight places (which  we designate as p0 to p7):"
   ]
  },
  {
   "cell_type": "markdown",
   "id": "7b5ab96d-6fb8-4158-9ed3-cdde07c94ce7",
   "metadata": {},
   "source": [
    "__OMP_PLACES= \" {0,1},{2,3},{4,5},{6,7},{8,9},{10,11},{12,13},{14,15} \"__"
   ]
  },
  {
   "cell_type": "markdown",
   "id": "5d4d2e48-1518-43d6-9fa6-2cd96a9e6d0f",
   "metadata": {},
   "source": [
    "or"
   ]
  },
  {
   "cell_type": "markdown",
   "id": "dce7461e-8c0d-4ea3-9191-8da032a5b250",
   "metadata": {},
   "source": [
    "__OMP_PLACES= \"{0:2}:8:2\"__"
   ]
  },
  {
   "cell_type": "markdown",
   "id": "003f1cc4-5784-4f92-a68d-f34039a7a51d",
   "metadata": {},
   "source": [
    "### Spread Affinity Policy"
   ]
  },
  {
   "cell_type": "markdown",
   "id": "36367e5a-80f3-4a34-b467-d448d7231160",
   "metadata": {},
   "source": [
    "The following example shows the result of the __spread__ affinity policy on  the partition list when the number of threads is less than or equal to the number  of places in the parent's place partition, for the machine architecture depicted  above. Note that the threads are bound to the first place of each subpartition."
   ]
  },
  {
   "cell_type": "code",
   "execution_count": null,
   "id": "b44a2e2e-76dd-491c-b3f4-ee5b2b49fcf6",
   "metadata": {},
   "outputs": [],
   "source": [
    "//%compiler: clang\n",
    "//%cflags: -fopenmp\n",
    "\n",
    "/*\n",
    "* name: affinity.1\n",
    "* type: C\n",
    "* version: omp_4.0\n",
    "*/\n",
    "\n",
    "void work();\n",
    "\n",
    "int main()\n",
    "{\n",
    "\n",
    "#pragma omp parallel proc_bind(spread) num_threads(4)\n",
    "   {\n",
    "      work();\n",
    "   }\n",
    "\n",
    "   return 0;\n",
    "\n",
    "}"
   ]
  },
  {
   "cell_type": "code",
   "execution_count": null,
   "id": "65437d11-0599-4523-ac09-a38250b3c7b8",
   "metadata": {},
   "outputs": [],
   "source": [
    "!!%compiler: gfortran\n",
    "!!%cflags: -fopenmp\n",
    "\n",
    "! name: affinity.1\n",
    "! type: F-fixed\n",
    "! version: omp_4.0\n",
    "      PROGRAM EXAMPLE\n",
    "!$OMP PARALLEL PROC_BIND(SPREAD) NUM_THREADS(4)\n",
    "      CALL WORK()\n",
    "!$OMP END PARALLEL\n",
    "      END PROGRAM EXAMPLE"
   ]
  },
  {
   "cell_type": "markdown",
   "id": "4c1df2ec-2eaa-4a75-b894-9a11318f954d",
   "metadata": {},
   "source": [
    "It is unspecified on which place the primary thread is initially started. If the  primary thread is initially started on p0, the following placement of threads will  be applied in the parallel region:"
   ]
  },
  {
   "cell_type": "markdown",
   "id": "dada25e8-8647-4ceb-99a4-69c4e1ba2188",
   "metadata": {},
   "source": [
    "- thread 0 executes on p0 with the place partition p0,p1\n",
    "- thread 1 executes on p2 with the place partition p2,p3\n",
    "- thread 2 executes on p4 with the place partition p4,p5\n",
    "- thread 3 executes on p6 with the place partition p6,p7"
   ]
  },
  {
   "cell_type": "markdown",
   "id": "63b7b692-37fa-4a7b-b8ca-9a4d0f8cb76e",
   "metadata": {},
   "source": [
    "If the primary thread would initially be started on p2, the placement of threads  and distribution of the place partition would be as follows:"
   ]
  },
  {
   "cell_type": "markdown",
   "id": "f0ccd6a8-c034-4df1-a2a7-fb0341e25abc",
   "metadata": {},
   "source": [
    "- thread 0 executes on p2 with the place partition p2,p3\n",
    "- thread 1 executes on p4 with the place partition p4,p5\n",
    "- thread 2 executes on p6 with the place partition p6,p7\n",
    "- thread 3 executes on p0 with the place partition p0,p1"
   ]
  },
  {
   "cell_type": "markdown",
   "id": "39fef9c2-ac8f-4ef0-9bc5-15eaffd1748d",
   "metadata": {},
   "source": [
    "The following example illustrates the __spread__ thread affinity policy when  the number of threads is greater than the number of places in the parent's place  partition."
   ]
  },
  {
   "cell_type": "markdown",
   "id": "7d3b1344-df62-4d70-9e29-0a7147cfc4c5",
   "metadata": {},
   "source": [
    "Let  _T_  be the number of threads in the team, and  _P_  be the number of places in the  parent's place partition. The first  _T/P_  threads of the team (including the primary thread) execute on the parent's place. The next  _T/P_  threads execute on the next  place in the place partition, and so on, with wrap around."
   ]
  },
  {
   "cell_type": "code",
   "execution_count": null,
   "id": "ab3ca82d-2a14-4e7d-8fcd-97bc77c86d35",
   "metadata": {},
   "outputs": [],
   "source": [
    "//%compiler: clang\n",
    "//%cflags: -fopenmp\n",
    "\n",
    "/*\n",
    "* name: affinity.2\n",
    "* type: C\n",
    "* version: omp_4.0\n",
    "*/\n",
    "void work();\n",
    "void foo()\n",
    "{\n",
    "  #pragma omp parallel num_threads(16) proc_bind(spread)\n",
    "  {\n",
    "    work();\n",
    "  }\n",
    "}"
   ]
  },
  {
   "cell_type": "code",
   "execution_count": null,
   "id": "63a0301e-a081-4959-adf3-f3a1597c436c",
   "metadata": {},
   "outputs": [],
   "source": [
    "!!%compiler: gfortran\n",
    "!!%cflags: -fopenmp\n",
    "\n",
    "! name: affinity.2\n",
    "! type: F-free\n",
    "! version: omp_4.0\n",
    "subroutine foo\n",
    "!$omp parallel num_threads(16) proc_bind(spread)\n",
    "      call work()\n",
    "!$omp end parallel\n",
    "end subroutine"
   ]
  },
  {
   "cell_type": "markdown",
   "id": "ef058ed3-2982-4896-9d02-9d8a838bf7e6",
   "metadata": {},
   "source": [
    "It is unspecified on which place the primary thread is initially started. If the  primary thread is initially started on p0, the following placement of threads will  be applied in the parallel region:"
   ]
  },
  {
   "cell_type": "markdown",
   "id": "bfa80d68-102d-494f-a30a-61f8f95940ba",
   "metadata": {},
   "source": [
    "- threads 0,1 execute on p0 with the place partition p0\n",
    "- threads 2,3 execute on p1 with the place partition p1\n",
    "- threads 4,5 execute on p2 with the place partition p2\n",
    "- threads 6,7 execute on p3 with the place partition p3\n",
    "- threads 8,9 execute on p4 with the place partition p4\n",
    "- threads 10,11 execute on p5 with the place partition p5\n",
    "- threads 12,13 execute on p6 with the place partition p6\n",
    "- threads 14,15 execute on p7 with the place partition p7"
   ]
  },
  {
   "cell_type": "markdown",
   "id": "f1d2064a-34d9-479b-9270-157b41283cbf",
   "metadata": {},
   "source": [
    "If the primary thread would initially be started on p2, the placement of threads  and distribution of the place partition would be as follows:"
   ]
  },
  {
   "cell_type": "markdown",
   "id": "15d312e1-2604-4d40-bb30-55e121a7244d",
   "metadata": {},
   "source": [
    "- threads 0,1 execute on p2 with the place partition p2\n",
    "- threads 2,3 execute on p3 with the place partition p3\n",
    "- threads 4,5 execute on p4 with the place partition p4\n",
    "- threads 6,7 execute on p5 with the place partition p5\n",
    "- threads 8,9 execute on p6 with the place partition p6\n",
    "- threads 10,11 execute on p7 with the place partition p7\n",
    "- threads 12,13 execute on p0 with the place partition p0\n",
    "- threads 14,15 execute on p1 with the place partition p1"
   ]
  },
  {
   "cell_type": "markdown",
   "id": "924662e9-8891-4af4-a41b-7d598a4ab75a",
   "metadata": {},
   "source": [
    "### Close Affinity Policy"
   ]
  },
  {
   "cell_type": "markdown",
   "id": "1fd3fff0-42ed-4c29-a017-8e108afa6189",
   "metadata": {},
   "source": [
    "The following example shows the result of the __close__ affinity policy on  the partition list when the number of threads is less than or equal to the number  of places in parent's place partition, for the machine architecture depicted above.  The place partition is not changed by the __close__ policy."
   ]
  },
  {
   "cell_type": "code",
   "execution_count": null,
   "id": "eb686ebd-fb8e-464a-a659-8aa416e67a16",
   "metadata": {},
   "outputs": [],
   "source": [
    "//%compiler: clang\n",
    "//%cflags: -fopenmp\n",
    "\n",
    "/*\n",
    "* name: affinity.3\n",
    "* type: C\n",
    "* version: omp_4.0\n",
    "*/\n",
    "void work();\n",
    "int main()\n",
    "{\n",
    "#pragma omp parallel proc_bind(close) num_threads(4)\n",
    "   {\n",
    "      work();\n",
    "   }\n",
    "   return 0;\n",
    "}"
   ]
  },
  {
   "cell_type": "code",
   "execution_count": null,
   "id": "8e1c18db-7979-4406-a56e-0e0f04393876",
   "metadata": {},
   "outputs": [],
   "source": [
    "!!%compiler: gfortran\n",
    "!!%cflags: -fopenmp\n",
    "\n",
    "! name: affinity.3\n",
    "! type: F-fixed\n",
    "! version: omp_4.0\n",
    "      PROGRAM EXAMPLE\n",
    "!$OMP PARALLEL PROC_BIND(CLOSE) NUM_THREADS(4)\n",
    "      CALL WORK()\n",
    "!$OMP END PARALLEL\n",
    "      END PROGRAM EXAMPLE"
   ]
  },
  {
   "cell_type": "markdown",
   "id": "111a8090-e566-4ee3-b9ed-cb753b90a4c6",
   "metadata": {},
   "source": [
    "It is unspecified on which place the primary thread is initially started. If the  primary thread is initially started on p0, the following placement of threads will  be applied in the __parallel__ region:"
   ]
  },
  {
   "cell_type": "markdown",
   "id": "ae90076e-a034-48fa-892a-d3c1db53ce5f",
   "metadata": {},
   "source": [
    "- thread 0 executes on p0 with the place partition p0-p7\n",
    "- thread 1 executes on p1 with the place partition p0-p7\n",
    "- thread 2 executes on p2 with the place partition p0-p7\n",
    "- thread 3 executes on p3 with the place partition p0-p7"
   ]
  },
  {
   "cell_type": "markdown",
   "id": "51bb3dea-714b-430a-848e-6d179f199804",
   "metadata": {},
   "source": [
    "If the primary thread would initially be started on p2, the placement of threads  and distribution of the place partition would be as follows:"
   ]
  },
  {
   "cell_type": "markdown",
   "id": "0453b704-77a6-48bc-8480-d5681c976a20",
   "metadata": {},
   "source": [
    "- thread 0 executes on p2 with the place partition p0-p7\n",
    "- thread 1 executes on p3 with the place partition p0-p7\n",
    "- thread 2 executes on p4 with the place partition p0-p7\n",
    "- thread 3 executes on p5 with the place partition p0-p7"
   ]
  },
  {
   "cell_type": "markdown",
   "id": "aabfc4d6-711d-4c79-9d04-af2b71a6cd05",
   "metadata": {},
   "source": [
    "The following example illustrates the __close__ thread affinity policy when  the number of threads is greater than the number of places in the parent's place  partition."
   ]
  },
  {
   "cell_type": "markdown",
   "id": "93f61dda-3341-4498-99b3-484d6308b7d8",
   "metadata": {},
   "source": [
    "Let  _T_  be the number of threads in the team, and  _P_  be the number of places in the  parent's place partition. The first  _T/P_  threads of the team (including the primary thread) execute on the parent's place. The next  _T/P_  threads execute on the next  place in the place partition, and so on, with wrap around. The place partition  is not changed by the __close__ policy."
   ]
  },
  {
   "cell_type": "code",
   "execution_count": null,
   "id": "1e53fc7f-6bbf-41db-89a3-e11ffd23e7e3",
   "metadata": {},
   "outputs": [],
   "source": [
    "//%compiler: clang\n",
    "//%cflags: -fopenmp\n",
    "\n",
    "/*\n",
    "* name: affinity.4\n",
    "* type: C\n",
    "* version: omp_4.0\n",
    "*/\n",
    "void work();\n",
    "void foo()\n",
    "{\n",
    "  #pragma omp parallel num_threads(16) proc_bind(close)\n",
    "  {\n",
    "    work();\n",
    "  }\n",
    "}"
   ]
  },
  {
   "cell_type": "code",
   "execution_count": null,
   "id": "18a74f91-3678-46fe-8f44-31e3486066e0",
   "metadata": {},
   "outputs": [],
   "source": [
    "!!%compiler: gfortran\n",
    "!!%cflags: -fopenmp\n",
    "\n",
    "! name: affinity.4\n",
    "! type: F-free\n",
    "! version: omp_4.0\n",
    "subroutine foo\n",
    "!$omp parallel num_threads(16) proc_bind(close)\n",
    "      call work()\n",
    "!$omp end parallel\n",
    "end subroutine"
   ]
  },
  {
   "cell_type": "markdown",
   "id": "bcd30ed4-7a80-46d1-8e17-9079e8add4c8",
   "metadata": {},
   "source": [
    "It is unspecified on which place the primary thread is initially started. If the  primary thread is initially running on p0, the following placement of threads will  be applied in the parallel region:"
   ]
  },
  {
   "cell_type": "markdown",
   "id": "526f539c-1724-478d-b02d-789875109b75",
   "metadata": {},
   "source": [
    "- threads 0,1 execute on p0 with the place partition p0-p7\n",
    "- threads 2,3 execute on p1 with the place partition p0-p7\n",
    "- threads 4,5 execute on p2 with the place partition p0-p7\n",
    "- threads 6,7 execute on p3 with the place partition p0-p7\n",
    "- threads 8,9 execute on p4 with the place partition p0-p7\n",
    "- threads 10,11 execute on p5 with the place partition p0-p7\n",
    "- threads 12,13 execute on p6 with the place partition p0-p7\n",
    "- threads 14,15 execute on p7 with the place partition p0-p7"
   ]
  },
  {
   "cell_type": "markdown",
   "id": "db8347e8-fecc-42bb-a709-52854cd31562",
   "metadata": {},
   "source": [
    "If the primary thread would initially be started on p2, the placement of threads  and distribution of the place partition would be as follows:"
   ]
  },
  {
   "cell_type": "markdown",
   "id": "df10120f-01e3-4b7f-8ece-28665600a1b4",
   "metadata": {},
   "source": [
    "- threads 0,1 execute on p2 with the place partition p0-p7\n",
    "- threads 2,3 execute on p3 with the place partition p0-p7\n",
    "- threads 4,5 execute on p4 with the place partition p0-p7\n",
    "- threads 6,7 execute on p5 with the place partition p0-p7\n",
    "- threads 8,9 execute on p6 with the place partition p0-p7\n",
    "- threads 10,11 execute on p7 with the place partition p0-p7\n",
    "- threads 12,13 execute on p0 with the place partition p0-p7\n",
    "- threads 14,15 execute on p1 with the place partition p0-p7"
   ]
  },
  {
   "cell_type": "markdown",
   "id": "e50efbfc-2d69-49dc-a1d5-0ec0b1ad5c16",
   "metadata": {},
   "source": [
    "### Primary Affinity Policy"
   ]
  },
  {
   "cell_type": "markdown",
   "id": "41d7172e-ca2e-4148-8b10-ee056d165369",
   "metadata": {},
   "source": [
    "The following example shows the result of the __primary__ affinity policy on  the partition list for the machine architecture depicted above. The place partition  is not changed by the primary policy."
   ]
  },
  {
   "cell_type": "code",
   "execution_count": null,
   "id": "fa0e9311-0ce1-4dcf-ae3f-da59471f750b",
   "metadata": {},
   "outputs": [],
   "source": [
    "//%compiler: clang\n",
    "//%cflags: -fopenmp\n",
    "\n",
    "/*\n",
    "* name: affinity.5\n",
    "* type: C\n",
    "* version: omp_5.1\n",
    "*/\n",
    "void work();\n",
    "int main()\n",
    "{\n",
    "#pragma omp parallel proc_bind(primary) num_threads(4)\n",
    "   {\n",
    "      work();\n",
    "   }\n",
    "   return 0;\n",
    "}"
   ]
  },
  {
   "cell_type": "code",
   "execution_count": null,
   "id": "d35ad45d-cda2-4143-a2bc-8ca1f750490e",
   "metadata": {},
   "outputs": [],
   "source": [
    "!!%compiler: gfortran\n",
    "!!%cflags: -fopenmp\n",
    "\n",
    "! name: affinity.5\n",
    "! type: F-fixed\n",
    "! version: omp_5.1\n",
    "      PROGRAM EXAMPLE\n",
    "!$OMP PARALLEL PROC_BIND(primary) NUM_THREADS(4)\n",
    "      CALL WORK()\n",
    "!$OMP END PARALLEL\n",
    "      END PROGRAM EXAMPLE"
   ]
  },
  {
   "cell_type": "markdown",
   "id": "f63f1dfc-4a2e-4638-b66a-be9362e008cc",
   "metadata": {},
   "source": [
    "It is unspecified on which place the primary thread is initially started. If the  primary thread is initially running on p0, the following placement of threads will  be applied in the parallel region:"
   ]
  },
  {
   "cell_type": "markdown",
   "id": "b247ab93-c584-47dd-835a-ff5b08bd0261",
   "metadata": {},
   "source": [
    "- threads 0-3 execute on p0 with the place partition p0-p7"
   ]
  },
  {
   "cell_type": "markdown",
   "id": "2d659648-4a5c-4536-83ad-544cad8b8ede",
   "metadata": {},
   "source": [
    "If the primary thread would initially be started on p2, the placement of threads  and distribution of the place partition would be as follows:"
   ]
  },
  {
   "cell_type": "markdown",
   "id": "ac57717a-551b-4376-919d-4ad568911a91",
   "metadata": {},
   "source": [
    "*  threads 0-3 execute on p2 with the place partition p0-p7"
   ]
  }
 ],
 "metadata": {
  "kernelspec": {
   "display_name": "Native",
   "language": "native",
   "name": "native"
  },
  "language_info": {
   "file_extension": ".c",
   "mimetype": "text/plain",
   "name": "c"
  }
 },
 "nbformat": 4,
 "nbformat_minor": 5
}
