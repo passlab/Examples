{
 "cells": [
  {
   "cell_type": "markdown",
   "metadata": {},
   "source": [
    "## Worksharing Constructs Inside a __critical__ Construct"
   ]
  },
  {
   "cell_type": "markdown",
   "metadata": {},
   "source": [
    "The following example demonstrates using a worksharing construct inside a __critical__  construct. This example is conforming because the worksharing __single__   region is not closely nested inside the __critical__ region. A single thread  executes the one and only section in the __sections__ region, and executes  the __critical__ region. The same thread encounters the nested __parallel__  region, creates a new team of threads, and becomes the primary thread of the new team.  One of the threads in the new team enters the __single__ region and increments  __i__ by __1__. At the end of this example __i__ is equal to __2__."
   ]
  },
  {
   "cell_type": "code",
   "execution_count": null,
   "metadata": {},
   "outputs": [],
   "source": [
    "//%compiler: clang\n",
    "//%cflags: -fopenmp\n",
    "\n",
    "/*\n",
    "* name: worksharing_critical.1\n",
    "* type: C\n",
    "*/\n",
    "void critical_work()\n",
    "{\n",
    "  int i = 1;\n",
    "  #pragma omp parallel sections\n",
    "  {\n",
    "    #pragma omp section\n",
    "    {\n",
    "      #pragma omp critical (name)\n",
    "      {\n",
    "        #pragma omp parallel\n",
    "        {\n",
    "          #pragma omp single\n",
    "          {\n",
    "            i++;\n",
    "          }\n",
    "        }\n",
    "      }\n",
    "    }\n",
    "  }\n",
    "}"
   ]
  },
  {
   "cell_type": "code",
   "execution_count": null,
   "metadata": {},
   "outputs": [],
   "source": [
    "!!%compiler: gfortran\n",
    "!!%cflags: -fopenmp\n",
    "\n",
    "! name: worksharing_critical.1\n",
    "! type: F-fixed\n",
    "      SUBROUTINE CRITICAL_WORK()\n",
    "\n",
    "        INTEGER I\n",
    "        I = 1\n",
    "\n",
    "!$OMP   PARALLEL SECTIONS\n",
    "!$OMP     SECTION\n",
    "!$OMP       CRITICAL (NAME)\n",
    "!$OMP         PARALLEL\n",
    "!$OMP           SINGLE\n",
    "                  I = I + 1\n",
    "!$OMP           END SINGLE\n",
    "!$OMP         END PARALLEL\n",
    "!$OMP       END CRITICAL (NAME)\n",
    "!$OMP   END PARALLEL SECTIONS\n",
    "      END SUBROUTINE CRITICAL_WORK"
   ]
  }
 ],
 "metadata": {
  "kernelspec": {
   "display_name": "Native",
   "language": "native",
   "name": "native"
  },
  "language_info": {
   "file_extension": ".c",
   "mimetype": "text/plain",
   "name": "c"
  }
 },
 "nbformat": 4,
 "nbformat_minor": 4
}