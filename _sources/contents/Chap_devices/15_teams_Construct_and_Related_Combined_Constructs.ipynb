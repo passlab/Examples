{
 "cells": [
  {
   "cell_type": "markdown",
   "metadata": {},
   "source": [
    "## __teams__ Construct and Related Combined Constructs"
   ]
  },
  {
   "cell_type": "markdown",
   "metadata": {},
   "source": [
    "### __target__ and __teams__ Constructs with __omp_get_num_teams__ and __omp_get_team_num__ Routines"
   ]
  },
  {
   "cell_type": "markdown",
   "metadata": {},
   "source": [
    "The following example shows how the __target__ and __teams__ constructs  are used to create a league of thread teams that execute a region. The __teams__  construct creates a league of at most two teams where the primary thread of each  team executes the __teams__ region."
   ]
  },
  {
   "cell_type": "markdown",
   "metadata": {},
   "source": [
    "The __omp_get_num_teams__ routine returns the number of teams executing in a __teams__  region. The __omp_get_team_num__ routine returns the team number, which is an integer  between 0 and one less than the value returned by __omp_get_num_teams__. The following  example manually distributes a loop across two teams."
   ]
  },
  {
   "cell_type": "code",
   "execution_count": null,
   "metadata": {},
   "outputs": [],
   "source": [
    "//%compiler: clang\n",
    "//%cflags: -fopenmp\n",
    "\n",
    "/*\n",
    "* name: teams.1\n",
    "* type: C\n",
    "* version: omp_4.0\n",
    "*/\n",
    "#include <stdlib.h>\n",
    "#include <omp.h>\n",
    "float dotprod(float B[], float C[], int N)\n",
    "{\n",
    "   float sum0 = 0.0;\n",
    "   float sum1 = 0.0;\n",
    "   #pragma omp target map(to: B[:N], C[:N]) map(tofrom: sum0, sum1)\n",
    "   #pragma omp teams num_teams(2)\n",
    "   {\n",
    "      int i;\n",
    "      if (omp_get_num_teams() != 2)\n",
    "         abort();\n",
    "      if (omp_get_team_num() == 0)\n",
    "      {\n",
    "  #pragma omp parallel for reduction(+:sum0)\n",
    "  for (i=0; i<N/2; i++)\n",
    "     sum0 += B[i] * C[i];\n",
    "      }\n",
    "      else if (omp_get_team_num() == 1)\n",
    "      {\n",
    "  #pragma omp parallel for reduction(+:sum1)\n",
    "  for (i=N/2; i<N; i++)\n",
    "     sum1 += B[i] * C[i];\n",
    "      }\n",
    "   }\n",
    "   return sum0 + sum1;\n",
    "}\n",
    "\n",
    "/* Note:  The variables sum0,sum1 are now mapped with tofrom, for\n",
    "          correct execution with 4.5 (and pre-4.5) compliant compilers.\n",
    "          See Devices Intro.\n",
    " */"
   ]
  },
  {
   "cell_type": "code",
   "execution_count": null,
   "metadata": {},
   "outputs": [],
   "source": [
    "!!%compiler: gfortran\n",
    "!!%cflags: -fopenmp\n",
    "\n",
    "! name: teams.1\n",
    "! type: F-free\n",
    "! version:    omp_4.0\n",
    "function dotprod(B,C,N) result(sum)\n",
    "use omp_lib, ONLY : omp_get_num_teams, omp_get_team_num\n",
    "    real    :: B(N), C(N), sum,sum0, sum1\n",
    "    integer :: N, i\n",
    "    sum0 = 0.0e0\n",
    "    sum1 = 0.0e0\n",
    "    !$omp target map(to: B, C) map(tofrom: sum0, sum1)\n",
    "    !$omp teams num_teams(2)\n",
    "      if (omp_get_num_teams() /= 2) stop \"2 teams required\"\n",
    "      if (omp_get_team_num() == 0) then\n",
    "         !$omp parallel do reduction(+:sum0)\n",
    "         do i=1,N/2\n",
    "            sum0 = sum0 + B(i) * C(i)\n",
    "         end do\n",
    "      else if (omp_get_team_num() == 1) then\n",
    "         !$omp parallel do reduction(+:sum1)\n",
    "         do i=N/2+1,N\n",
    "            sum1 = sum1 + B(i) * C(i)\n",
    "         end do\n",
    "      end if\n",
    "    !$omp end teams\n",
    "    !$omp end target\n",
    "    sum = sum0 + sum1\n",
    "end function\n",
    "\n",
    "! Note:  The variables sum0,sum1 are now mapped with tofrom, for correct\n",
    "! execution with 4.5 (and pre-4.5) compliant compilers. See Devices Intro."
   ]
  },
  {
   "cell_type": "markdown",
   "metadata": {},
   "source": [
    "### __target__, __teams__, and __distribute__ Constructs"
   ]
  },
  {
   "cell_type": "markdown",
   "metadata": {},
   "source": [
    "The following example shows how the __target__, __teams__, and __distribute__  constructs are used to execute a loop nest in a __target__ region. The __teams__  construct creates a league and the primary thread of each team executes the __teams__  region. The __distribute__ construct schedules the subsequent loop iterations  across the primary threads of each team."
   ]
  },
  {
   "cell_type": "markdown",
   "metadata": {},
   "source": [
    "The number of teams in the league is less than or equal to the variable  _num_blocks_ .  Each team in the league has a number of threads less than or equal to the variable   _block_threads_ . The iterations in the outer loop are distributed among the primary  threads of each team."
   ]
  },
  {
   "cell_type": "markdown",
   "metadata": {},
   "source": [
    "When a team's primary thread encounters the parallel loop construct before the inner  loop, the other threads in its team are activated. The team executes the __parallel__  region and then workshares the execution of the loop."
   ]
  },
  {
   "cell_type": "markdown",
   "metadata": {},
   "source": [
    "**reduction clause __reduction__ clause!on teams construct on __teams__ construct** Each primary thread executing the __teams__ region has a private copy of the  variable  _sum_  that is created by the __reduction__ clause on the __teams__ construct.  The primary thread and all threads in its team have a private copy of the variable   _sum_  that is created by the __reduction__ clause on the parallel loop construct.  The second private  _sum_  is reduced into the primary thread's private copy of  _sum_   created by the __teams__ construct. At the end of the __teams__ region,  each primary thread's private copy of  _sum_  is reduced into the final  _sum_  that is  implicitly mapped into the __target__ region."
   ]
  },
  {
   "cell_type": "code",
   "execution_count": null,
   "metadata": {},
   "outputs": [],
   "source": [
    "//%compiler: clang\n",
    "//%cflags: -fopenmp\n",
    "\n",
    "/*\n",
    "* name: teams.2\n",
    "* type: C\n",
    "* version: omp_4.0\n",
    "*/\n",
    "#define min(x, y) (((x) < (y)) ? (x) : (y))\n",
    "\n",
    "float dotprod(float B[], float C[], int N, int block_size,\n",
    "  int num_teams, int block_threads)\n",
    "{\n",
    "    float sum = 0.0;\n",
    "    int i, i0;\n",
    "    #pragma omp target map(to: B[0:N], C[0:N]) map(tofrom: sum)\n",
    "    #pragma omp teams num_teams(num_teams) thread_limit(block_threads) \\\n",
    "      reduction(+:sum)\n",
    "    #pragma omp distribute\n",
    "    for (i0=0; i0<N; i0 += block_size)\n",
    "       #pragma omp parallel for reduction(+:sum)\n",
    "       for (i=i0; i< min(i0+block_size,N); i++)\n",
    "           sum += B[i] * C[i];\n",
    "    return sum;\n",
    "}\n",
    "/* Note:  The variable sum is now mapped with tofrom, for correct\n",
    "   execution with 4.5 (and pre-4.5) compliant compilers. See\n",
    "   Devices Intro.\n",
    " */"
   ]
  },
  {
   "cell_type": "code",
   "execution_count": null,
   "metadata": {},
   "outputs": [],
   "source": [
    "!!%compiler: gfortran\n",
    "!!%cflags: -fopenmp\n",
    "\n",
    "! name: teams.2\n",
    "! type: F-free\n",
    "! version: omp_4.0\n",
    "function dotprod(B,C,N, block_size, num_teams, block_threads) result(sum)\n",
    "implicit none\n",
    "    real    :: B(N), C(N), sum\n",
    "    integer :: N, block_size, num_teams, block_threads, i, i0\n",
    "    sum = 0.0e0\n",
    "    !$omp target map(to: B, C) map(tofrom: sum)\n",
    "    !$omp teams num_teams(num_teams) thread_limit(block_threads) &\n",
    "    !$omp&  reduction(+:sum)\n",
    "    !$omp distribute\n",
    "       do i0=1,N, block_size\n",
    "          !$omp parallel do reduction(+:sum)\n",
    "          do i = i0, min(i0+block_size,N)\n",
    "             sum = sum + B(i) * C(i)\n",
    "          end do\n",
    "       end do\n",
    "    !$omp end teams\n",
    "    !$omp end target\n",
    "end function\n",
    "\n",
    "! Note:  The variable sum is now mapped with tofrom, for correct\n",
    "! execution with 4.5 (and pre-4.5) compliant compilers. See Devices Intro."
   ]
  },
  {
   "cell_type": "markdown",
   "metadata": {},
   "source": [
    "### __target__ __teams__, and Distribute Parallel Loop Constructs"
   ]
  },
  {
   "cell_type": "markdown",
   "metadata": {},
   "source": [
    "The following example shows how the __target__ __teams__ and distribute  parallel loop constructs are used to execute a __target__ region. The __target__  __teams__ construct creates a league of teams where the primary thread of each  team executes the __teams__ region."
   ]
  },
  {
   "cell_type": "markdown",
   "metadata": {},
   "source": [
    "The distribute parallel loop construct schedules the loop iterations across the  primary threads of each team and then across the threads of each team."
   ]
  },
  {
   "cell_type": "code",
   "execution_count": null,
   "metadata": {},
   "outputs": [],
   "source": [
    "//%compiler: clang\n",
    "//%cflags: -fopenmp\n",
    "\n",
    "/*\n",
    "* name: teams.3\n",
    "* type: C\n",
    "* version: omp_4.5\n",
    "*/\n",
    "float dotprod(float B[], float C[], int N)\n",
    "{\n",
    "   float sum = 0;\n",
    "   int i;\n",
    "   #pragma omp target teams map(to: B[0:N], C[0:N]) \\\n",
    "                            defaultmap(tofrom:scalar) reduction(+:sum)\n",
    "   #pragma omp distribute parallel for reduction(+:sum)\n",
    "   for (i=0; i<N; i++)\n",
    "      sum += B[i] * C[i];\n",
    "   return sum;\n",
    "}\n",
    "\n",
    "/* Note:  The variable sum is now mapped with tofrom from the defaultmap\n",
    "          clause on the combined target teams construct, for correct\n",
    "          execution with 4.5 (and pre-4.5) compliant compilers.\n",
    "          See Devices Intro.\n",
    " */"
   ]
  },
  {
   "cell_type": "code",
   "execution_count": null,
   "metadata": {},
   "outputs": [],
   "source": [
    "!!%compiler: gfortran\n",
    "!!%cflags: -fopenmp\n",
    "\n",
    "! name: teams.3\n",
    "! type: F-free\n",
    "! version: omp_4.5\n",
    "function dotprod(B,C,N) result(sum)\n",
    "   real    :: B(N), C(N), sum\n",
    "   integer :: N, i\n",
    "   sum = 0.0e0\n",
    "   !$omp target teams map(to: B, C)  &\n",
    "   !$omp&             defaultmap(tofrom:scalar) reduction(+:sum)\n",
    "   !$omp distribute parallel do reduction(+:sum)\n",
    "      do i = 1,N\n",
    "         sum = sum + B(i) * C(i)\n",
    "      end do\n",
    "   !$omp end target teams\n",
    "end function\n",
    "\n",
    "! Note:  The variable sum is now mapped with tofrom from the defaultmap\n",
    "!  clause on the combined target teams construct, for correct\n",
    "!  execution with 4.5 (and pre-4.5) compliant compilers. See Devices Intro.\n",
    "\n"
   ]
  },
  {
   "cell_type": "markdown",
   "metadata": {},
   "source": [
    "### __target__ __teams__ and Distribute Parallel Loop  Constructs with Scheduling Clauses"
   ]
  },
  {
   "cell_type": "markdown",
   "metadata": {},
   "source": [
    "The following example shows how the __target__ __teams__ and distribute  parallel loop constructs are used to execute a __target__ region. The __teams__  construct creates a league of at most eight teams where the primary thread of each  team executes the __teams__ region. The number of threads in each team is  less than or equal to 16."
   ]
  },
  {
   "cell_type": "markdown",
   "metadata": {},
   "source": [
    "The __distribute__ parallel loop construct schedules the subsequent loop iterations  across the primary threads of each team and then across the threads of each team."
   ]
  },
  {
   "cell_type": "markdown",
   "metadata": {},
   "source": [
    "The __dist_schedule__ clause on the distribute parallel loop construct indicates  that loop iterations are distributed to the primary thread of each team in chunks  of 1024 iterations."
   ]
  },
  {
   "cell_type": "markdown",
   "metadata": {},
   "source": [
    "The __schedule__ clause indicates that the 1024 iterations distributed to  a primary thread are then assigned to the threads in its associated team in chunks  of 64 iterations."
   ]
  },
  {
   "cell_type": "code",
   "execution_count": null,
   "metadata": {},
   "outputs": [],
   "source": [
    "//%compiler: clang\n",
    "//%cflags: -fopenmp\n",
    "\n",
    "/*\n",
    "* name: teams.4\n",
    "* type: C\n",
    "* version: omp_4.0\n",
    "*/\n",
    "#define N 1024*1024\n",
    "float dotprod(float B[], float C[])\n",
    "{\n",
    "    float sum = 0.0;\n",
    "    int i;\n",
    "    #pragma omp target map(to: B[0:N], C[0:N]) map(tofrom: sum)\n",
    "    #pragma omp teams num_teams(8) thread_limit(16) reduction(+:sum)\n",
    "    #pragma omp distribute parallel for reduction(+:sum) \\\n",
    "                dist_schedule(static, 1024) schedule(static, 64)\n",
    "    for (i=0; i<N; i++)\n",
    "        sum += B[i] * C[i];\n",
    "    return sum;\n",
    "}\n",
    "\n",
    "/* Note:  The variable sum is now mapped with tofrom, for correct\n",
    "          execution with 4.5 (and pre-4.5) compliant compilers.\n",
    "          See Devices Intro.\n",
    " */\n",
    "\n"
   ]
  },
  {
   "cell_type": "code",
   "execution_count": null,
   "metadata": {},
   "outputs": [],
   "source": [
    "!!%compiler: gfortran\n",
    "!!%cflags: -fopenmp\n",
    "\n",
    "! name: teams.4\n",
    "! type: F-free\n",
    "! version: omp_4.0\n",
    "module arrays\n",
    "integer,parameter :: N=1024*1024\n",
    "real :: B(N), C(N)\n",
    "end module\n",
    "function dotprod() result(sum)\n",
    "use arrays\n",
    "   real    :: sum\n",
    "   integer :: i\n",
    "   sum = 0.0e0\n",
    "   !$omp target map(to: B, C) map(tofrom: sum)\n",
    "   !$omp teams num_teams(8) thread_limit(16) reduction(+:sum)\n",
    "   !$omp distribute parallel do reduction(+:sum) &\n",
    "   !$omp&  dist_schedule(static, 1024) schedule(static, 64)\n",
    "      do i = 1,N\n",
    "         sum = sum + B(i) * C(i)\n",
    "      end do\n",
    "   !$omp end teams\n",
    "   !$omp end target\n",
    "end function\n",
    "\n",
    "! Note:  The variable sum is now mapped with tofrom, for correct\n",
    "! execution with 4.5 (and pre-4.5) compliant compilers. See Devices Intro."
   ]
  },
  {
   "cell_type": "markdown",
   "metadata": {},
   "source": [
    "### __target__ __teams__ and __distribute__ __simd__ Constructs"
   ]
  },
  {
   "cell_type": "markdown",
   "metadata": {},
   "source": [
    "The following example shows how the __target__ __teams__ and __distribute__  __simd__ constructs are used to execute a loop in a __target__ region.  The __target__ __teams__ construct creates a league of teams where the  primary thread of each team executes the __teams__ region."
   ]
  },
  {
   "cell_type": "markdown",
   "metadata": {},
   "source": [
    "The __distribute__ __simd__ construct schedules the loop iterations across  the primary thread of each team and then uses SIMD parallelism to execute the iterations."
   ]
  },
  {
   "cell_type": "code",
   "execution_count": null,
   "metadata": {},
   "outputs": [],
   "source": [
    "//%compiler: clang\n",
    "//%cflags: -fopenmp\n",
    "\n",
    "/*\n",
    "* name: teams.5\n",
    "* type: C\n",
    "* version: omp_4.0\n",
    "*/\n",
    "extern void init(float *, float *, int);\n",
    "extern void output(float *, int);\n",
    "void vec_mult(float *p, float *v1, float *v2, int N)\n",
    "{\n",
    "   int i;\n",
    "   init(v1, v2, N);\n",
    "   #pragma omp target teams map(to: v1[0:N], v2[:N]) map(from: p[0:N])\n",
    "   #pragma omp distribute simd\n",
    "   for (i=0; i<N; i++)\n",
    "     p[i] = v1[i] * v2[i];\n",
    "   output(p, N);\n",
    "}"
   ]
  },
  {
   "cell_type": "code",
   "execution_count": null,
   "metadata": {},
   "outputs": [],
   "source": [
    "!!%compiler: gfortran\n",
    "!!%cflags: -fopenmp\n",
    "\n",
    "! name: teams.5\n",
    "! type: F-free\n",
    "! version: omp_4.0\n",
    "subroutine vec_mult(p, v1, v2, N)\n",
    "   real    ::  p(N), v1(N), v2(N)\n",
    "   integer ::  i\n",
    "   call init(v1, v2, N)\n",
    "   !$omp target teams map(to: v1, v2) map(from: p)\n",
    "      !$omp distribute simd\n",
    "         do i=1,N\n",
    "            p(i) = v1(i) * v2(i)\n",
    "         end do\n",
    "   !$omp end target teams\n",
    "   call output(p, N)\n",
    "end subroutine"
   ]
  },
  {
   "cell_type": "markdown",
   "metadata": {},
   "source": [
    "### __target__ __teams__ and Distribute Parallel Loop SIMD Constructs"
   ]
  },
  {
   "cell_type": "markdown",
   "metadata": {},
   "source": [
    "The following example shows how the __target__ __teams__ and the distribute  parallel loop SIMD constructs are used to execute a loop in a __target__ __teams__  region. The __target__ __teams__ construct creates a league of teams  where the primary thread of each team executes the __teams__ region."
   ]
  },
  {
   "cell_type": "markdown",
   "metadata": {},
   "source": [
    "The distribute parallel loop SIMD construct schedules the loop iterations across  the primary thread of each team and then across the threads of each team where each  thread uses SIMD parallelism."
   ]
  },
  {
   "cell_type": "code",
   "execution_count": null,
   "metadata": {},
   "outputs": [],
   "source": [
    "//%compiler: clang\n",
    "//%cflags: -fopenmp\n",
    "\n",
    "/*\n",
    "* name: teams.6\n",
    "* type: C\n",
    "* version: omp_4.0\n",
    "*/\n",
    "extern void init(float *, float *, int);\n",
    "extern void output(float *, int);\n",
    "void vec_mult(float *p, float *v1, float *v2, int N)\n",
    "{\n",
    "   int i;\n",
    "   init(v1, v2, N);\n",
    "   #pragma omp target teams map(to: v1[0:N], v2[:N]) map(from: p[0:N])\n",
    "   #pragma omp distribute parallel for simd\n",
    "   for (i=0; i<N; i++)\n",
    "     p[i] = v1[i] * v2[i];\n",
    "   output(p, N);\n",
    "}"
   ]
  },
  {
   "cell_type": "code",
   "execution_count": null,
   "metadata": {},
   "outputs": [],
   "source": [
    "!!%compiler: gfortran\n",
    "!!%cflags: -fopenmp\n",
    "\n",
    "! name: teams.6\n",
    "! type: F-free\n",
    "! version: omp_4.0\n",
    "subroutine vec_mult(p, v1, v2, N)\n",
    "   real    ::  p(N), v1(N), v2(N)\n",
    "   integer ::  i\n",
    "   call init(v1, v2, N)\n",
    "   !$omp target teams map(to: v1, v2) map(from: p)\n",
    "      !$omp distribute parallel do simd\n",
    "         do i=1,N\n",
    "            p(i) = v1(i) * v2(i)\n",
    "         end do\n",
    "   !$omp end target teams\n",
    "   call output(p, N)\n",
    "end subroutine"
   ]
  }
 ],
 "metadata": {
  "kernelspec": {
   "display_name": "Native",
   "language": "native",
   "name": "native"
  },
  "language_info": {
   "file_extension": ".c",
   "mimetype": "text/plain",
   "name": "c"
  }
 },
 "nbformat": 4,
 "nbformat_minor": 4
}