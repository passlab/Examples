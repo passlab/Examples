{
 "cells": [
  {
   "cell_type": "markdown",
   "metadata": {},
   "source": [
    "## Declare Target Directive"
   ]
  },
  {
   "cell_type": "markdown",
   "metadata": {},
   "source": [
    "### Declare Target Directive for a Procedure"
   ]
  },
  {
   "cell_type": "markdown",
   "metadata": {},
   "source": [
    "The following example shows how the declare target directive  is used to indicate that the corresponding call inside a __target__ region  is to a __fib__ function that can execute on the default target device."
   ]
  },
  {
   "cell_type": "markdown",
   "metadata": {},
   "source": [
    "A version of the function is also available on the host device. When the __if__  clause conditional expression on the __target__ construct evaluates to  _false_ ,  the __target__ region (thus __fib__) will execute on the host device."
   ]
  },
  {
   "cell_type": "markdown",
   "metadata": {},
   "source": [
    "For the following C/C++ code the declaration of the function __fib__ appears between the  __begin__ __declare__ __target__ and __end__ __declare__ __target__ directives.  In the corresponding Fortran code, the __declare__ __target__ directive appears at the end of the specification part of the subroutine."
   ]
  },
  {
   "cell_type": "code",
   "execution_count": null,
   "metadata": {},
   "outputs": [],
   "source": [
    "//%compiler: clang\n",
    "//%cflags: -fopenmp\n",
    "\n",
    "/*\n",
    "* name: declare_target.1\n",
    "* type: C\n",
    "* version: omp_5.1\n",
    "*/\n",
    "#pragma omp begin declare target\n",
    "extern void fib(int N);\n",
    "#pragma omp end declare target\n",
    "\n",
    "#define THRESHOLD 1000000\n",
    "void fib_wrapper(int n)\n",
    "{\n",
    "   #pragma omp target if(n > THRESHOLD)\n",
    "   {\n",
    "      fib(n);\n",
    "   }\n",
    "}"
   ]
  },
  {
   "cell_type": "markdown",
   "metadata": {},
   "source": [
    "The Fortran __fib__ subroutine contains a __declare__ __target__ declaration  to indicate to the compiler to create an device executable version of the procedure.  The subroutine name has not been included on the __declare__ __target__  directive and is, therefore, implicitly assumed."
   ]
  },
  {
   "cell_type": "markdown",
   "metadata": {},
   "source": [
    "The program uses the __module_fib__ module, which presents an explicit interface to  the compiler with the __declare__ __target__ declarations for processing  the __fib__ call."
   ]
  },
  {
   "cell_type": "code",
   "execution_count": null,
   "metadata": {},
   "outputs": [],
   "source": [
    "!!%compiler: gfortran\n",
    "!!%cflags: -fopenmp\n",
    "\n",
    "! name: declare_target.1\n",
    "! type: F-free\n",
    "! version: omp_4.0\n",
    "module module_fib\n",
    "contains\n",
    "   subroutine fib(N)\n",
    "      integer :: N\n",
    "      !$omp declare target\n",
    "      !...\n",
    "   end subroutine\n",
    "end module\n",
    "module params\n",
    "integer :: THRESHOLD=1000000\n",
    "end module\n",
    "program my_fib\n",
    "use params\n",
    "use module_fib\n",
    "   !$omp target if( N > THRESHOLD )\n",
    "      call fib(N)\n",
    "   !$omp end target\n",
    "end program"
   ]
  },
  {
   "cell_type": "markdown",
   "metadata": {},
   "source": [
    "The next Fortran example shows the use of an external subroutine. As the subroutine is neither use associated nor an internal procedure, the __declare__ __target__ declarations within a external subroutine are unknown to the main program unit;  therefore, a __declare__ __target__ must be provided within the program scope for the compiler to determine that a target binary should be available."
   ]
  },
  {
   "cell_type": "code",
   "execution_count": null,
   "metadata": {},
   "outputs": [],
   "source": [
    "!!%compiler: gfortran\n",
    "!!%cflags: -fopenmp\n",
    "\n",
    "! name: declare_target.2\n",
    "! type: F-free\n",
    "! version: omp_4.0\n",
    "program my_fib\n",
    "integer :: N = 8\n",
    "interface\n",
    "  subroutine fib(N)\n",
    "    !$omp declare target\n",
    "    integer :: N\n",
    "  end subroutine fib\n",
    "end interface\n",
    "   !$omp target\n",
    "      call fib(N)\n",
    "   !$omp end target\n",
    "end program\n",
    "subroutine fib(N)\n",
    "integer :: N\n",
    "!$omp declare target\n",
    "     print*,\"hello from fib\"\n",
    "     !...\n",
    "end subroutine"
   ]
  },
  {
   "cell_type": "markdown",
   "metadata": {},
   "source": [
    "### Declare Target Directive for Class Type"
   ]
  },
  {
   "cell_type": "markdown",
   "metadata": {},
   "source": [
    "The following example shows the use of the __begin__ __declare__ __target__ and __end__ __declare__ __target__ pair to designate the beginning and end of the affected declarations, as introduced in OpenMP 5.1. The __begin__ __declare__ __target__ directive was defined to symmetrically complement the terminating (\"end'') directive."
   ]
  },
  {
   "cell_type": "markdown",
   "metadata": {},
   "source": [
    "The example also shows 3 different ways to use a declare target directive for a  class and an external member-function definition (for the  _XOR1_ ,  _XOR2_ ,  and  _XOR3_  classes and definitions for their corresponding  _foo_  member functions)."
   ]
  },
  {
   "cell_type": "markdown",
   "metadata": {},
   "source": [
    "For  _XOR1_ , a __begin__ __declare__ __target__ and  __end__ __declare__ __target__ directive enclose both the class and its member function definition. The compiler immediately knows to create a device version of the function for execution in a __target__ region."
   ]
  },
  {
   "cell_type": "markdown",
   "metadata": {},
   "source": [
    "For  _XOR2_ , the class member function definition is not specified with a declare target directive. An implicit declare target is created for the member function definition. The same applies if this declaration arrangement for the class and function  are included through a header file."
   ]
  },
  {
   "cell_type": "markdown",
   "metadata": {},
   "source": [
    "For  _XOR3_ , the class and its member function are not enclosed by __begin__ __declare__ __target__ and __end__ __declare__ __target__ directives, but there is an implicit declare target since the class, its function and the __target__ construct are in the same file scope. That is, the class and its function are treated as if delimited by a declare target directive. The same applies if the class and function are included through a header file."
   ]
  },
  {
   "cell_type": "code",
   "execution_count": null,
   "metadata": {},
   "outputs": [],
   "source": [
    "//%compiler: clang\n",
    "//%cflags: -fopenmp\n",
    "\n",
    "/*\n",
    "* name:       declare_target.2a\n",
    "* type:       C++\n",
    "* version:    omp_5.1\n",
    "*/\n",
    "#include <iostream>\n",
    "using namespace std;\n",
    "\n",
    "  #pragma omp begin declare target // declare target--class and function\n",
    "  class XOR1\n",
    "  {\n",
    "      int a;\n",
    "    public:\n",
    "      XOR1(int arg): a(arg) {};\n",
    "      int foo();\n",
    "  }\n",
    "  int XOR1::foo() { return a^0x01;}\n",
    "  #pragma omp end declare target\n",
    "\n",
    "  #pragma omp begin declare target // declare target--class, not function\n",
    "  class XOR2\n",
    "  {\n",
    "      int a;\n",
    "    public:\n",
    "      XOR2(int arg): a(arg) {};\n",
    "      int foo();\n",
    "  };\n",
    "  #pragma omp end declare target\n",
    "\n",
    "  int XOR2::foo() { return a^0x01;}\n",
    "\n",
    "  class XOR3                // declare target--neither class nor function\n",
    "  {\n",
    "      int a;\n",
    "    public:\n",
    "      XOR3(int arg): a(arg) {};\n",
    "      int foo();\n",
    "  };\n",
    "  int XOR3::foo() { return a^0x01;}\n",
    "\n",
    "int main (){\n",
    "\n",
    "    XOR1 my_XOR1(3);\n",
    "    XOR2 my_XOR2(3);\n",
    "    XOR3 my_XOR3(3);\n",
    "    int res1, res2, res3;\n",
    "\n",
    "    #pragma omp target map(tofrom:res1)\n",
    "    res1=my_XOR1.foo();\n",
    "\n",
    "    #pragma omp target map(tofrom:res2)\n",
    "    res2=my_XOR2.foo();\n",
    "\n",
    "    #pragma omp target map(tofrom:res3)\n",
    "    res3=my_XOR3.foo();\n",
    "\n",
    "    cout << res1 << endl;  // OUT1: 2\n",
    "    cout << res2 << endl;  // OUT2: 2\n",
    "    cout << res3 << endl;  // OUT3: 2\n",
    "}"
   ]
  },
  {
   "cell_type": "markdown",
   "metadata": {},
   "source": [
    "Often class definitions and their function definitions are included in separate files, as shown in  _declare_target.2b_classes.hpp_  and  _declare_target.2b_functions.cpp_  below. In this case, it is necessary to specify in a declare target directive for the classes. However, as long as the  _2b_functions.cpp_  file includes the corresponding declare target classes, there is no need to specify the functions with a declare target directive. The functions are treated as if they are specified with a declare target directive. Compiling the  _declare_target.2b_functions.cpp_  and  _declare_target.2b_main.cpp_  files  separately and linking them, will create appropriate executable device functions for the target device."
   ]
  },
  {
   "cell_type": "code",
   "execution_count": null,
   "metadata": {},
   "outputs": [],
   "source": [
    "//%compiler: clang\n",
    "//%cflags: -fopenmp\n",
    "\n",
    " #pragma omp begin declare target\n",
    " class XOR1\n",
    " {    \n",
    "     int a;\n",
    "   public:\n",
    "     XOR1(int arg): a(arg) {};\n",
    "     int foo();\n",
    " };\n",
    " #pragma omp end declare target"
   ]
  },
  {
   "cell_type": "code",
   "execution_count": null,
   "metadata": {},
   "outputs": [],
   "source": [
    "//%compiler: clang\n",
    "//%cflags: -fopenmp\n",
    "\n",
    "/*\n",
    "* @@name:       declare_target.2b_functions\n",
    "* @@type:       C++\n",
    "* @@compilable: yes\n",
    "* @@linkable:   no\n",
    "* @@expect:     failure\n",
    "* @@version:    omp_5.1\n",
    "*/\n",
    "#include \"classes.hpp\"\n",
    "int XOR1::foo() { return a^0x01;}\n"
   ]
  },
  {
   "cell_type": "code",
   "execution_count": null,
   "metadata": {},
   "outputs": [],
   "source": [
    "//%compiler: clang\n",
    "//%cflags: -fopenmp\n",
    "\n",
    "/*\n",
    "* name:       declare_target.2b_main\n",
    "* type:       C++\n",
    "* version:    omp_5.1\n",
    "*/\n",
    "#include <iostream>\n",
    "using namespace std;\n",
    "\n",
    "#include \"classes.hpp\"\n",
    "\n",
    "int main (){\n",
    "\n",
    "   XOR1 my_XOR1(3);\n",
    "   int res1;\n",
    "\n",
    "   #pragma omp target map(from: res1)\n",
    "   res1=my_XOR1.foo();\n",
    "\n",
    "   cout << res1 << endl;  // OUT1: 2\n",
    "}\n",
    "\n"
   ]
  },
  {
   "cell_type": "markdown",
   "metadata": {},
   "source": [
    "The following example shows how the __begin__ __declare__ __target__ and __end__  __declare__ __target__ directives are used to enclose the declaration  of a variable  _varY_  with a class type __typeY__."
   ]
  },
  {
   "cell_type": "markdown",
   "metadata": {},
   "source": [
    "This example shows pre-OpenMP 5.0 behavior for the  _varY.foo()_  function call (an error). The member function __typeY::foo()__ cannot be accessed on a target device because its  declaration does not appear between __begin__ __declare__ __target__ and  __end__ __declare__ __target__ directives. As of OpenMP 5.0, the function is implicitly declared with a declare target directive  and will successfully execute the function on the device.  See previous examples."
   ]
  },
  {
   "cell_type": "code",
   "execution_count": null,
   "metadata": {},
   "outputs": [],
   "source": [
    "//%compiler: clang\n",
    "//%cflags: -fopenmp\n",
    "\n",
    "/*\n",
    "* name: declare_target.2c\n",
    "* type: C++\n",
    "* version: omp_5.2\n",
    "*/\n",
    "struct typeX\n",
    "{\n",
    "   int a;\n",
    "};\n",
    "class typeY\n",
    "{\n",
    "   int a;\n",
    "  public:\n",
    "   int foo() { return a^0x01;}\n",
    "};\n",
    "\n",
    "#pragma omp begin declare target\n",
    "  struct typeX varX;  // ok\n",
    "  class typeY varY; // ok if varY.foo() not called on target device\n",
    "#pragma omp end declare target\n",
    "\n",
    "void foo()\n",
    "{\n",
    "   #pragma omp target\n",
    "   {\n",
    "      varX.a = 100; // ok\n",
    "      varY.foo(); // error foo() is not available on a target device\n",
    "   }\n",
    "}"
   ]
  },
  {
   "cell_type": "markdown",
   "metadata": {},
   "source": [
    "### Declare Target Directive for Variables"
   ]
  },
  {
   "cell_type": "markdown",
   "metadata": {},
   "source": [
    "The following examples show how the declare target directive is used to indicate that global variables are mapped to the implicit device data environment of each target device."
   ]
  },
  {
   "cell_type": "markdown",
   "metadata": {},
   "source": [
    "In the following example, the declarations of the variables  _p_ ,  _v1_ , and  _v2_  appear  between __begin__ __declare__ __target__ and __end__ __declare__ __target__  directives indicating that the variables are mapped to the implicit device data  environment of each target device. The __target__ __update__ directive  is then used to manage the consistency of the variables  _p_ ,  _v1_ , and  _v2_  between the  data environment of the encountering host device task and the implicit device data  environment of the default target device."
   ]
  },
  {
   "cell_type": "code",
   "execution_count": null,
   "metadata": {},
   "outputs": [],
   "source": [
    "//%compiler: clang\n",
    "//%cflags: -fopenmp\n",
    "\n",
    "/*\n",
    "* name: declare_target.3\n",
    "* type: C\n",
    "* version: omp_5.1\n",
    "*/\n",
    "#define N 1000\n",
    "\n",
    "#pragma omp begin declare target\n",
    "float p[N], v1[N], v2[N];\n",
    "#pragma omp end declare target\n",
    "\n",
    "extern void init(float *, float *, int);\n",
    "extern void output(float *, int);\n",
    "\n",
    "void vec_mult()\n",
    "{\n",
    "   int i;\n",
    "   init(v1, v2, N);\n",
    "   #pragma omp target update to(v1, v2)\n",
    "   #pragma omp target\n",
    "   #pragma omp parallel for\n",
    "   for (i=0; i<N; i++)\n",
    "     p[i] = v1[i] * v2[i];\n",
    "   #pragma omp target update from(p)\n",
    "   output(p, N);\n",
    "}"
   ]
  },
  {
   "cell_type": "markdown",
   "metadata": {},
   "source": [
    "The Fortran version of the above C code uses a different syntax. Fortran modules  use a list syntax on the __declare__ __target__ directive to declare  mapped variables."
   ]
  },
  {
   "cell_type": "code",
   "execution_count": null,
   "metadata": {},
   "outputs": [],
   "source": [
    "!!%compiler: gfortran\n",
    "!!%cflags: -fopenmp\n",
    "\n",
    "! name: declare_target.3\n",
    "! type: F-free\n",
    "! version: omp_4.0\n",
    "module my_arrays\n",
    "!$omp declare target (N, p, v1, v2)\n",
    "integer, parameter :: N=1000\n",
    "real               :: p(N), v1(N), v2(N)\n",
    "end module\n",
    "subroutine vec_mult()\n",
    "use my_arrays\n",
    "   integer :: i\n",
    "   call init(v1, v2, N);\n",
    "   !$omp target update to(v1, v2)\n",
    "   !$omp target\n",
    "   !$omp parallel do\n",
    "   do i = 1,N\n",
    "     p(i) = v1(i) * v2(i)\n",
    "   end do\n",
    "   !$omp end target\n",
    "   !$omp target update from (p)\n",
    "   call output(p, N)\n",
    "end subroutine"
   ]
  },
  {
   "cell_type": "markdown",
   "metadata": {},
   "source": [
    "The following example also indicates that the function  _Pfun()_  is available on the  target device, as well as the variable  _Q_ , which is mapped to the implicit device  data environment of each target device. The __target__ __update__ directive  is then used to manage the consistency of the variable  _Q_  between the data environment  of the encountering host device task and the implicit device data environment of  the default target device."
   ]
  },
  {
   "cell_type": "markdown",
   "metadata": {},
   "source": [
    "In the following example, the function and variable declarations appear between  the __begin__ __declare__ __target__ and __end__ __declare__ __target__  directives."
   ]
  },
  {
   "cell_type": "code",
   "execution_count": null,
   "metadata": {},
   "outputs": [],
   "source": [
    "//%compiler: clang\n",
    "//%cflags: -fopenmp\n",
    "\n",
    "/*\n",
    "* name: declare_target.4\n",
    "* type: C\n",
    "* version: omp_5.1\n",
    "*/\n",
    "#define N 10000\n",
    "\n",
    "#pragma omp begin declare target\n",
    "  float Q[N][N];\n",
    "  float Pfun(const int i, const int k) { return Q[i][k] * Q[k][i]; }\n",
    "#pragma omp end declare target\n",
    "\n",
    "float accum(int k)\n",
    "{\n",
    "    float tmp = 0.0;\n",
    "    #pragma omp target update to(Q)\n",
    "    #pragma omp target map(tofrom: tmp)\n",
    "    #pragma omp parallel for reduction(+:tmp)\n",
    "    for(int i=0; i < N; i++)\n",
    "        tmp += Pfun(i,k);\n",
    "    return tmp;\n",
    "}\n",
    "\n",
    "/* Note:  The variable tmp is now mapped with tofrom, for correct\n",
    "          execution with 4.5 (and pre-4.5) compliant compilers.\n",
    "          See Devices Intro.\n",
    " */"
   ]
  },
  {
   "cell_type": "markdown",
   "metadata": {},
   "source": [
    "The Fortran version of the above C code uses a different syntax. In Fortran modules  a list syntax on the __declare__ __target__ directive is used to declare  mapped variables and procedures. The  _N_  and  _Q_  variables are declared as a comma  separated list. When the __declare__ __target__ directive is used to  declare just the procedure, the procedure name need not be listed -- it is implicitly  assumed, as illustrated in the  _Pfun()_  function."
   ]
  },
  {
   "cell_type": "code",
   "execution_count": null,
   "metadata": {},
   "outputs": [],
   "source": [
    "!!%compiler: gfortran\n",
    "!!%cflags: -fopenmp\n",
    "\n",
    "! name: declare_target.4\n",
    "! type: F-free\n",
    "! version: omp_4.0\n",
    "module my_global_array\n",
    "!$omp declare target (N,Q)\n",
    "integer, parameter :: N=10\n",
    "real               :: Q(N,N)\n",
    "contains\n",
    "function Pfun(i,k)\n",
    "!$omp declare target\n",
    "real               :: Pfun\n",
    "integer,intent(in) :: i,k\n",
    "   Pfun=(Q(i,k) * Q(k,i))\n",
    "end function\n",
    "end module\n",
    "\n",
    "function accum(k) result(tmp)\n",
    "use my_global_array\n",
    "real    :: tmp\n",
    "integer :: i, k\n",
    "   tmp = 0.0e0\n",
    "   !$omp target map(tofrom: tmp)\n",
    "   !$omp parallel do reduction(+:tmp)\n",
    "   do i=1,N\n",
    "      tmp = tmp + Pfun(k,i)\n",
    "   end do\n",
    "   !$omp end target\n",
    "end function\n",
    "\n",
    "! Note:  The variable tmp is now mapped with tofrom, for correct\n",
    "! execution with 4.5 (and pre-4.5) compliant compilers. See Devices Intro."
   ]
  },
  {
   "cell_type": "markdown",
   "metadata": {},
   "source": [
    "### Declare Target Directive with __declare__ __simd__"
   ]
  },
  {
   "cell_type": "markdown",
   "metadata": {},
   "source": [
    "The following example shows how the __begin__ __declare__ __target__ and  __end__ __declare__ __target__ directives are used to indicate that a function  is available on a target device. The __declare__ __simd__ directive indicates  that there is a SIMD version of the function  _P()_  that is available on the target  device as well as one that is available on the host device."
   ]
  },
  {
   "cell_type": "code",
   "execution_count": null,
   "metadata": {},
   "outputs": [],
   "source": [
    "//%compiler: clang\n",
    "//%cflags: -fopenmp\n",
    "\n",
    "/*\n",
    "* name: declare_target.5\n",
    "* type: C\n",
    "* version: omp_5.1\n",
    "*/\n",
    "#define N 10000\n",
    "#define M 1024\n",
    "\n",
    "#pragma omp begin declare target\n",
    "float Q[N][N];\n",
    "\n",
    "#pragma omp declare simd uniform(i) linear(k) notinbranch\n",
    "float P(const int i, const int k)\n",
    "{\n",
    "  return Q[i][k] * Q[k][i];\n",
    "}\n",
    "#pragma omp end declare target\n",
    "\n",
    "float accum(void)\n",
    "{\n",
    "  float tmp = 0.0;\n",
    "  int i, k;\n",
    "#pragma omp target map(tofrom: tmp)\n",
    "#pragma omp parallel for reduction(+:tmp)\n",
    "  for (i=0; i < N; i++) {\n",
    "    float tmp1 = 0.0;\n",
    "#pragma omp simd reduction(+:tmp1)\n",
    "    for (k=0; k < M; k++) {\n",
    "      tmp1 += P(i,k);\n",
    "    }\n",
    "    tmp += tmp1;\n",
    "  }\n",
    "  return tmp;\n",
    "}\n",
    "\n",
    "/* Note:  The variable tmp is now mapped with tofrom, for correct\n",
    "          execution with 4.5 (and pre-4.5) compliant compilers.\n",
    "          See Devices Intro.\n",
    " */"
   ]
  },
  {
   "cell_type": "markdown",
   "metadata": {},
   "source": [
    "The Fortran version of the above C code uses a different syntax. Fortran modules  use a list syntax of the __declare__ __target__ declaration for the mapping.  Here the  _N_  and  _Q_  variables are declared in the list form as a comma separated list.  The function declaration does not use a list and implicitly assumes the function  name. In this Fortran example row and column indices are reversed relative to the  C/C++ example, as is usual for codes optimized for memory access."
   ]
  },
  {
   "cell_type": "code",
   "execution_count": null,
   "metadata": {},
   "outputs": [],
   "source": [
    "!!%compiler: gfortran\n",
    "!!%cflags: -fopenmp\n",
    "\n",
    "! name: declare_target.5\n",
    "! type: F-free\n",
    "! version: omp_4.0\n",
    "module my_global_array\n",
    "!$omp declare target (N,Q)\n",
    "integer, parameter :: N=10000, M=1024\n",
    "real               :: Q(N,N)\n",
    "contains\n",
    "function P(k,i)\n",
    "!$omp declare simd uniform(i) linear(k) notinbranch\n",
    "!$omp declare target\n",
    "real               :: P\n",
    "integer,intent(in) :: k,i\n",
    "   P=(Q(k,i) * Q(i,k))\n",
    "end function\n",
    "end module\n",
    "\n",
    "function accum() result(tmp)\n",
    "use my_global_array\n",
    "real    :: tmp, tmp1\n",
    "integer :: i\n",
    "   tmp = 0.0e0\n",
    "   !$omp target map(tofrom: tmp)\n",
    "   !$omp parallel do private(tmp1) reduction(+:tmp)\n",
    "   do i=1,N\n",
    "      tmp1 = 0.0e0\n",
    "      !$omp simd reduction(+:tmp1)\n",
    "      do k = 1,M\n",
    "         tmp1 = tmp1 + P(k,i)\n",
    "      end do\n",
    "      tmp = tmp + tmp1\n",
    "   end do\n",
    "   !$omp end target\n",
    "end function\n",
    "\n",
    "! Note:  The variable tmp is now mapped with tofrom, for correct\n",
    "! execution with 4.5 (and pre-4.5) compliant compilers. See Devices Intro."
   ]
  },
  {
   "cell_type": "markdown",
   "metadata": {},
   "source": [
    "### Declare Target Directive with __link__ Clause"
   ]
  },
  {
   "cell_type": "markdown",
   "metadata": {},
   "source": [
    "In the OpenMP 4.5 standard the declare target directive was extended to allow static data to be mapped, *when needed*, through a __link__ clause."
   ]
  },
  {
   "cell_type": "markdown",
   "metadata": {},
   "source": [
    "Data storage for items listed in the __link__ clause becomes available on the device when it is mapped implicitly or explicitly in a __map__ clause, and it persists for the scope of the mapping (as specified by a __target__ construct,  a __target__ __data__ construct, or  __target__ __enter/exit__ __data__ constructs)."
   ]
  },
  {
   "cell_type": "markdown",
   "metadata": {},
   "source": [
    "Tip: When all the global data items will not fit on a device and are not needed simultaneously, use the __link__ clause and map the data only when it is needed."
   ]
  },
  {
   "cell_type": "markdown",
   "metadata": {},
   "source": [
    "The following C and Fortran examples show two sets of data (single precision and double precision) that are global on the host for the entire execution on the host; but are only used globally on the device for part of the program execution. The single precision data are allocated and persist only for the first __target__ region. Similarly, the double precision data are in scope on the device only for the second __target__ region."
   ]
  },
  {
   "cell_type": "code",
   "execution_count": null,
   "metadata": {},
   "outputs": [],
   "source": [
    "//%compiler: clang\n",
    "//%cflags: -fopenmp\n",
    "\n",
    "/*\n",
    "* name: declare_target.6\n",
    "* type: C\n",
    "* version: omp_5.1\n",
    "*/\n",
    "#define N 100000000\n",
    "\n",
    "float  sp[N], sv1[N], sv2[N];\n",
    "double dp[N], dv1[N], dv2[N];\n",
    "#pragma omp declare target link(sp,sv1,sv2) \\\n",
    "                           link(dp,dv1,dv2)\n",
    "\n",
    "void s_init(float *, float *, int);\n",
    "void d_init(double *, double *, int);\n",
    "void s_output(float *, int);\n",
    "void d_output(double *, int);\n",
    "\n",
    "#pragma omp begin declare target\n",
    "\n",
    "void s_vec_mult_accum()\n",
    "{\n",
    "   int i;\n",
    "\n",
    "   #pragma omp parallel for\n",
    "   for (i=0; i<N; i++)\n",
    "     sp[i] = sv1[i] * sv2[i];\n",
    "}\n",
    "\n",
    "void d_vec_mult_accum()\n",
    "{\n",
    "   int i;\n",
    "\n",
    "   #pragma omp parallel for\n",
    "   for (i=0; i<N; i++)\n",
    "     dp[i] = dv1[i] * dv2[i];\n",
    "}\n",
    "#pragma omp end declare target\n",
    "\n",
    "int main()\n",
    "{\n",
    "   s_init(sv1, sv2, N);\n",
    "   #pragma omp target map(to:sv1,sv2) map(from:sp)\n",
    "      s_vec_mult_accum();\n",
    "   s_output(sp, N);\n",
    "\n",
    "   d_init(dv1, dv2, N);\n",
    "   #pragma omp target map(to:dv1,dv2) map(from:dp)\n",
    "      d_vec_mult_accum();\n",
    "   d_output(dp, N);\n",
    "\n",
    "  return 0;\n",
    "}"
   ]
  },
  {
   "cell_type": "code",
   "execution_count": null,
   "metadata": {},
   "outputs": [],
   "source": [
    "!!%compiler: gfortran\n",
    "!!%cflags: -fopenmp\n",
    "\n",
    "! name: declare_target.6\n",
    "! type: F-free\n",
    "! version: omp_4.5\n",
    "module m_dat\n",
    "   integer, parameter :: N=100000000\n",
    "   !$omp declare target link(sp,sv1,sv2)\n",
    "   real :: sp(N), sv1(N), sv2(N)\n",
    "\n",
    "   !$omp declare target link(dp,dv1,dv2)\n",
    "   double precision :: dp(N), dv1(N), dv2(N)\n",
    "\n",
    "contains\n",
    "   subroutine s_vec_mult_accum()\n",
    "   !$omp declare target\n",
    "      integer :: i\n",
    "\n",
    "      !$omp parallel do\n",
    "      do i = 1,N\n",
    "        sp(i) = sv1(i) * sv2(i)\n",
    "      end do\n",
    "\n",
    "   end subroutine s_vec_mult_accum\n",
    "\n",
    "   subroutine d_vec_mult_accum()\n",
    "   !$omp declare target\n",
    "      integer :: i\n",
    "\n",
    "      !$omp parallel do\n",
    "      do i = 1,N\n",
    "        dp(i) = dv1(i) * dv2(i)\n",
    "      end do\n",
    "\n",
    "   end subroutine\n",
    "end module m_dat\n",
    "\n",
    "program prec_vec_mult\n",
    "   use m_dat\n",
    "\n",
    "   call s_init(sv1, sv2, N)\n",
    "   !$omp target map(to:sv1,sv2) map(from:sp)\n",
    "     call s_vec_mult_accum()\n",
    "   !$omp end target\n",
    "   call s_output(sp, N)\n",
    "\n",
    "   call d_init(dv1, dv2, N)\n",
    "   !$omp target map(to:dv1,dv2) map(from:dp)\n",
    "     call d_vec_mult_accum()\n",
    "   !$omp end target\n",
    "   call d_output(dp, N)\n",
    "\n",
    "end program"
   ]
  }
 ],
 "metadata": {
  "kernelspec": {
   "display_name": "Native",
   "language": "native",
   "name": "native"
  },
  "language_info": {
   "file_extension": ".c",
   "mimetype": "text/plain",
   "name": "c"
  }
 },
 "nbformat": 4,
 "nbformat_minor": 4
}
