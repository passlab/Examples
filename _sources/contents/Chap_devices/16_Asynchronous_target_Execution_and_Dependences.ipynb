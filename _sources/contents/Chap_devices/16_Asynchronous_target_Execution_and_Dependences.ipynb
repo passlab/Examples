{
 "cells": [
  {
   "cell_type": "markdown",
   "metadata": {},
   "source": [
    "## Asynchronous __target__ Execution and Dependences"
   ]
  },
  {
   "cell_type": "markdown",
   "metadata": {},
   "source": [
    "Asynchronous execution of a __target__ region can be accomplished by creating an explicit task around the __target__ region. Examples with explicit tasks are shown at the beginning of this section."
   ]
  },
  {
   "cell_type": "markdown",
   "metadata": {},
   "source": [
    "As of OpenMP 4.5 and beyond the __nowait__ clause can be used on the __target__ directive for asynchronous execution. Examples with  __nowait__ clauses follow the explicit __task__ examples."
   ]
  },
  {
   "cell_type": "markdown",
   "metadata": {},
   "source": [
    "This section also shows the use of __depend__ clauses to order  executions through dependences. "
   ]
  },
  {
   "cell_type": "markdown",
   "metadata": {},
   "source": [
    "### Asynchronous __target__ with Tasks"
   ]
  },
  {
   "cell_type": "markdown",
   "metadata": {},
   "source": [
    "The following example shows how the __task__ and __target__ constructs  are used to execute multiple __target__ regions asynchronously. The task that  encounters the __task__ construct generates an explicit task that contains  a __target__ region. The thread executing the explicit task encounters a task  scheduling point while waiting for the execution of the __target__ region  to complete, allowing the thread to switch back to the execution of the encountering  task or one of the previously generated explicit tasks."
   ]
  },
  {
   "cell_type": "code",
   "execution_count": null,
   "metadata": {},
   "outputs": [],
   "source": [
    "//%compiler: clang\n",
    "//%cflags: -fopenmp\n",
    "\n",
    "/*\n",
    "* name: async_target.1\n",
    "* type: C\n",
    "* version: omp_5.1\n",
    "*/\n",
    "#pragma omp begin declare target\n",
    "float F(float);\n",
    "#pragma omp end declare target\n",
    "\n",
    "#define N 1000000000\n",
    "#define CHUNKSZ 1000000\n",
    "void init(float *, int);\n",
    "float Z[N];\n",
    "void pipedF(){\n",
    "   int C, i;\n",
    "   init(Z, N);\n",
    "   for (C=0; C<N; C+=CHUNKSZ){\n",
    "      #pragma omp task shared(Z)\n",
    "      #pragma omp target map(Z[C:CHUNKSZ])\n",
    "      #pragma omp parallel for\n",
    "      for (i=0; i<CHUNKSZ; i++) Z[i] = F(Z[i]);\n",
    "   }\n",
    "   #pragma omp taskwait\n",
    "}"
   ]
  },
  {
   "cell_type": "markdown",
   "metadata": {},
   "source": [
    "The Fortran version has an interface block that contains the __declare__ __target__.  An identical statement exists in the function declaration (not shown here)."
   ]
  },
  {
   "cell_type": "code",
   "execution_count": null,
   "metadata": {},
   "outputs": [],
   "source": [
    "!!%compiler: gfortran\n",
    "!!%cflags: -fopenmp\n",
    "\n",
    "! name: async_target.1\n",
    "! type: F-free\n",
    "! version: omp_4.0\n",
    "module parameters\n",
    "integer, parameter :: N=1000000000, CHUNKSZ=1000000\n",
    "end module\n",
    "subroutine pipedF()\n",
    "use parameters, ONLY: N, CHUNKSZ\n",
    "integer            :: C, i\n",
    "real               :: z(N)\n",
    "\n",
    "interface\n",
    "   function F(z)\n",
    "   !$omp declare target\n",
    "     real, intent(IN) ::z\n",
    "     real             ::F\n",
    "   end function F\n",
    "end interface\n",
    "\n",
    "   call init(z,N)\n",
    "\n",
    "   do C=1,N,CHUNKSZ\n",
    "\n",
    "      !$omp task shared(z)\n",
    "      !$omp target map(z(C:C+CHUNKSZ-1))\n",
    "      !$omp parallel do\n",
    "         do i=C,C+CHUNKSZ-1\n",
    "            z(i) = F(z(i))\n",
    "         end do\n",
    "      !$omp end target\n",
    "      !$omp end task\n",
    "\n",
    "   end do\n",
    "   !$omp taskwait\n",
    "   print*, z\n",
    "\n",
    "end subroutine pipedF"
   ]
  },
  {
   "cell_type": "markdown",
   "metadata": {},
   "source": [
    "The following example shows how the __task__ and __target__ constructs  are used to execute multiple __target__ regions asynchronously. The task dependence  ensures that the storage is allocated and initialized on the device before it is  accessed."
   ]
  },
  {
   "cell_type": "code",
   "execution_count": null,
   "metadata": {},
   "outputs": [],
   "source": [
    "//%compiler: clang\n",
    "//%cflags: -fopenmp\n",
    "\n",
    "/*\n",
    "* name: async_target.2\n",
    "* type: C\n",
    "* version: omp_5.1\n",
    "*/\n",
    "#include <stdlib.h>\n",
    "#include <omp.h>\n",
    "\n",
    "#pragma omp begin declare target\n",
    "extern void init(float *, float *, int);\n",
    "#pragma omp end declare target\n",
    "\n",
    "extern void foo();\n",
    "extern void output(float *, int);\n",
    "void vec_mult(float *p, int N, int dev)\n",
    "{\n",
    "   float *v1, *v2;\n",
    "   int i;\n",
    "   #pragma omp task shared(v1, v2) depend(out: v1, v2)\n",
    "   #pragma omp target device(dev) map(v1, v2)\n",
    "   {\n",
    "       // check whether on device dev\n",
    "       if (omp_is_initial_device())\n",
    "   abort();\n",
    "       v1 = (float *)malloc(N*sizeof(float));\n",
    "       v2 = (float *)malloc(N*sizeof(float));\n",
    "       init(v1, v2, N);\n",
    "   }\n",
    "   foo(); // execute other work asychronously\n",
    "   #pragma omp task shared(v1, v2, p) depend(in: v1, v2)\n",
    "   #pragma omp target device(dev) map(to: v1, v2) map(from: p[0:N])\n",
    "   {\n",
    "       // check whether on device dev\n",
    "       if (omp_is_initial_device())\n",
    "   abort();\n",
    "       #pragma omp parallel for\n",
    "       for (i=0; i<N; i++)\n",
    "  p[i] = v1[i] * v2[i];\n",
    "       free(v1);\n",
    "       free(v2);\n",
    "   }\n",
    "   #pragma omp taskwait\n",
    "   output(p, N);\n",
    "}"
   ]
  },
  {
   "cell_type": "markdown",
   "metadata": {},
   "source": [
    "The Fortran example below is similar to the C version above. Instead of pointers, though, it uses the convenience of Fortran allocatable arrays on the device. In order to preserve the arrays  allocated on the device across multiple __target__ regions, a __target__ __data__ region  is used in this case."
   ]
  },
  {
   "cell_type": "markdown",
   "metadata": {},
   "source": [
    "If there is no shape specified for an allocatable array in a __map__ clause, only the array descriptor (also called a dope vector) is mapped. That is, device space is created for the descriptor, and it is initially populated with host values. In this case, the  _v1_  and  _v2_  arrays will be in a non-associated state on the device. When space for  _v1_  and  _v2_  is allocated on the device in the first __target__ region the addresses to the space will be included in their descriptors."
   ]
  },
  {
   "cell_type": "markdown",
   "metadata": {},
   "source": [
    "At the end of the first __target__ region, the arrays  _v1_  and  _v2_  are preserved on the device  for access in the second __target__ region. At the end of the second __target__ region, the data  in array  _p_  is copied back, the arrays  _v1_  and  _v2_  are not."
   ]
  },
  {
   "cell_type": "markdown",
   "metadata": {},
   "source": [
    "A __depend__ clause is used in the __task__ directive to provide a wait at the beginning of the second  __target__ region, to insure that there is no race condition with  _v1_  and  _v2_  in the two tasks. It would be noncompliant to use  _v1_  and/or  _v2_  in lieu of  _N_  in the __depend__ clauses,  because the use of non-allocated allocatable arrays as list items in a __depend__ clause would  lead to unspecified behavior."
   ]
  },
  {
   "cell_type": "markdown",
   "metadata": {},
   "source": [
    "__Note__ - This example is not strictly compliant with the OpenMP 4.5 specification since the allocation status of allocatable arrays  _v1_  and  _v2_  is changed inside the __target__ region, which is not allowed. (See the restrictions for the __map__ clause in the  _Data-mapping Attribute Rules and Clauses_   section of the specification.) However, the intention is to relax the restrictions on mapping of allocatable variables in the next release of the specification so that the example will be compliant."
   ]
  },
  {
   "cell_type": "code",
   "execution_count": null,
   "metadata": {},
   "outputs": [],
   "source": [
    "!!%compiler: gfortran\n",
    "!!%cflags: -fopenmp\n",
    "\n",
    "! name: async_target.2\n",
    "! type: F-free\n",
    "! version: omp_4.0\n",
    " subroutine mult(p,  N, idev)\n",
    "   use omp_lib, ONLY: omp_is_initial_device\n",
    "   real             :: p(N)\n",
    "   real,allocatable :: v1(:), v2(:)\n",
    "   integer ::  i, idev\n",
    "   !$omp declare target (init)\n",
    "\n",
    "   !$omp target data map(v1,v2)\n",
    "\n",
    "   !$omp task shared(v1,v2) depend(out: N)\n",
    "      !$omp target device(idev)\n",
    "         if( omp_is_initial_device() ) &\n",
    "            stop \"not executing on target device\"\n",
    "         allocate(v1(N), v2(N))\n",
    "         call init(v1,v2,N)\n",
    "      !$omp end target\n",
    "   !$omp end task\n",
    "\n",
    "   call foo()  ! execute other work asychronously\n",
    "\n",
    "   !$omp task shared(v1,v2,p) depend(in: N)\n",
    "      !$omp target device(idev) map(from: p)\n",
    "         if( omp_is_initial_device() ) &\n",
    "            stop \"not executing on target device\"\n",
    "         !$omp parallel do\n",
    "            do i = 1,N\n",
    "               p(i) = v1(i) * v2(i)\n",
    "            end do\n",
    "         deallocate(v1,v2)\n",
    "\n",
    "      !$omp end target\n",
    "   !$omp end task\n",
    "\n",
    "   !$omp taskwait\n",
    "\n",
    "   !$omp end target data\n",
    "\n",
    "   call output(p, N)\n",
    "\n",
    "end subroutine"
   ]
  },
  {
   "cell_type": "markdown",
   "metadata": {},
   "source": [
    "### __nowait__ Clause on __target__ Construct"
   ]
  },
  {
   "cell_type": "markdown",
   "metadata": {},
   "source": [
    "The following example shows how to execute code asynchronously on a  device without an explicit task. The __nowait__ clause on a __target__  construct allows the thread of the  _target task_  to perform other work while waiting for the __target__ region execution to complete.  Hence, the __target__ region can execute asynchronously on the  device (without requiring a host thread to idle while waiting for  the  _target task_  execution to complete)."
   ]
  },
  {
   "cell_type": "markdown",
   "metadata": {},
   "source": [
    "In this example the product of two vectors (arrays),  _v1_  and  _v2_ , is formed. One half of the operations is performed on the device, and the last half on the host, concurrently."
   ]
  },
  {
   "cell_type": "markdown",
   "metadata": {},
   "source": [
    "After a team of threads is formed the primary thread generates  the  _target task_  while the other threads can continue on, without a barrier, to the execution of the host portion of the vector product. The completion of the  _target task_  (asynchronous target execution) is  guaranteed by the synchronization in the implicit barrier at the end of the  host vector-product worksharing loop region. See the __barrier__  glossary entry in the OpenMP specification for details."
   ]
  },
  {
   "cell_type": "markdown",
   "metadata": {},
   "source": [
    "The host loop scheduling is __dynamic__, to balance the host thread executions, since  one thread is being used for offload generation. In the situation where  little time is spent by the  _target task_  in setting  up and tearing down the target execution, __static__ scheduling may be desired."
   ]
  },
  {
   "cell_type": "code",
   "execution_count": null,
   "metadata": {},
   "outputs": [],
   "source": [
    "//%compiler: clang\n",
    "//%cflags: -fopenmp\n",
    "\n",
    "/*\n",
    "* name: async_target.3\n",
    "* type: C\n",
    "* version: omp_5.1\n",
    "*/\n",
    "#include <stdio.h>\n",
    "\n",
    "#define N 1000000      //N must be even\n",
    "void init(int n, float *v1, float *v2);\n",
    "\n",
    "int main(){\n",
    "   int   i, n=N;\n",
    "   int   chunk=1000;\n",
    "   float v1[N],v2[N],vxv[N];\n",
    "\n",
    "   init(n, v1,v2);\n",
    "\n",
    "   #pragma omp parallel\n",
    "   {\n",
    "\n",
    "      #pragma omp masked\n",
    "      #pragma omp target teams distribute parallel for nowait \\\n",
    "                                map(to: v1[0:n/2]) \\\n",
    "                                map(to: v2[0:n/2]) \\\n",
    "                                map(from: vxv[0:n/2])\n",
    "      for(i=0; i<n/2; i++){ vxv[i] = v1[i]*v2[i]; }\n",
    "\n",
    "      #pragma omp for schedule(dynamic,chunk)\n",
    "      for(i=n/2; i<n; i++){ vxv[i] = v1[i]*v2[i]; }\n",
    "\n",
    "   }\n",
    "   printf(\" vxv[0] vxv[n-1] %f %f\\n\", vxv[0], vxv[n-1]);\n",
    "   return 0;\n",
    "}"
   ]
  },
  {
   "cell_type": "code",
   "execution_count": null,
   "metadata": {},
   "outputs": [],
   "source": [
    "!!%compiler: gfortran\n",
    "!!%cflags: -fopenmp\n",
    "\n",
    "! name: async_target.3\n",
    "! type: F-free\n",
    "! version: omp_5.1\n",
    "program concurrent_async\n",
    "   use omp_lib\n",
    "   integer,parameter :: n=1000000  !!n must be even\n",
    "   integer           :: i, chunk=1000\n",
    "   real              :: v1(n),v2(n),vxv(n)\n",
    "\n",
    "   call init(n, v1,v2)\n",
    "\n",
    "   !$omp parallel\n",
    "\n",
    "      !$omp masked\n",
    "      !$omp target teams distribute parallel do nowait &\n",
    "      !$omp&                    map(to: v1(1:n/2))   &\n",
    "      !$omp&                    map(to: v2(1:n/2))   &\n",
    "      !$omp&                    map(from: vxv(1:n/2))\n",
    "      do i = 1,n/2;    vxv(i) = v1(i)*v2(i); end do\n",
    "      !$omp end masked\n",
    "\n",
    "      !$omp do schedule(dynamic,chunk)\n",
    "      do i = n/2+1,n;  vxv(i) = v1(i)*v2(i); end do\n",
    "\n",
    "   !$omp end parallel\n",
    "\n",
    "   print*, \" vxv(1) vxv(n) :\", vxv(1), vxv(n)\n",
    "\n",
    "end program"
   ]
  },
  {
   "cell_type": "markdown",
   "metadata": {},
   "source": [
    "### Asynchronous __target__ with __nowait__ and __depend__ Clauses"
   ]
  },
  {
   "cell_type": "markdown",
   "metadata": {},
   "source": [
    "More details on dependences can be found in  Section 5.3, Task  Dependences. In this example, there are three flow dependences.  In the first two dependences the target task does not execute until the preceding explicit tasks have finished.   These  dependences are produced by arrays  _v1_  and  _v2_   with the __out__ dependence type in the first two tasks, and the __in__ dependence type in the target task."
   ]
  },
  {
   "cell_type": "markdown",
   "metadata": {},
   "source": [
    "The last dependence is produced by array  _p_   with the __out__ dependence type in the target task, and the __in__ dependence type in the last task.  The last task does not execute until the target task finishes."
   ]
  },
  {
   "cell_type": "markdown",
   "metadata": {},
   "source": [
    "The __nowait__ clause on the __target__ construct creates a deferrable  _target task_ , allowing the encountering task to continue execution without waiting for the completion of the  _target task_ ."
   ]
  },
  {
   "cell_type": "code",
   "execution_count": null,
   "metadata": {},
   "outputs": [],
   "source": [
    "//%compiler: clang\n",
    "//%cflags: -fopenmp\n",
    "\n",
    "/*\n",
    "* name: async_target.4\n",
    "* type: C\n",
    "* version: omp_4.5\n",
    "*/\n",
    "\n",
    "extern void init(  float*, int);\n",
    "extern void output(float*, int);\n",
    "\n",
    "void vec_mult(int N)\n",
    "{\n",
    "   int i;\n",
    "   float p[N], v1[N], v2[N];\n",
    "\n",
    "   #pragma omp parallel num_threads(2)\n",
    "   {\n",
    "      #pragma omp single\n",
    "      {\n",
    "         #pragma omp task depend(out:v1)\n",
    "         init(v1, N);\n",
    "\n",
    "         #pragma omp task depend(out:v2)\n",
    "         init(v2, N);\n",
    "\n",
    "         #pragma omp target nowait depend(in:v1,v2) depend(out:p) \\\n",
    "                                      map(to:v1,v2) map( from: p)\n",
    "         #pragma omp parallel for private(i)\n",
    "         for (i=0; i<N; i++)\n",
    "            p[i] = v1[i] * v2[i];\n",
    "\n",
    "         #pragma omp task depend(in:p)\n",
    "         output(p, N);\n",
    "      }\n",
    "   }\n",
    "}"
   ]
  },
  {
   "cell_type": "code",
   "execution_count": null,
   "metadata": {},
   "outputs": [],
   "source": [
    "!!%compiler: gfortran\n",
    "!!%cflags: -fopenmp\n",
    "\n",
    "! name: async_target.4\n",
    "! type: F-free\n",
    "! version: omp_4.5\n",
    "\n",
    "subroutine vec_mult(N)\n",
    "   implicit none\n",
    "   integer           :: i, N\n",
    "   real, allocatable :: p(:), v1(:), v2(:)\n",
    "   allocate( p(N), v1(N), v2(N) )\n",
    "\n",
    "   !$omp parallel num_threads(2)\n",
    "\n",
    "      !$omp single\n",
    "\n",
    "         !$omp task depend(out:v1)\n",
    "         call init(v1, N)\n",
    "         !$omp end task\n",
    "\n",
    "         !$omp task depend(out:v2)\n",
    "         call init(v2, N)\n",
    "         !$omp end task\n",
    "\n",
    "         !$omp target nowait depend(in:v1,v2) depend(out:p) &\n",
    "         !$omp&                 map(to:v1,v2)  map(from: p)\n",
    "         !$omp parallel do\n",
    "         do i=1,N\n",
    "            p(i) = v1(i) * v2(i)\n",
    "         end do\n",
    "         !$omp end target\n",
    "\n",
    "\n",
    "         !$omp task depend(in:p)\n",
    "         call output(p, N)\n",
    "         !$omp end task\n",
    "\n",
    "     !$omp end single\n",
    "   !$omp end parallel\n",
    "\n",
    "   deallocate( p, v1, v2 )\n",
    "\n",
    "end subroutine"
   ]
  }
 ],
 "metadata": {
  "kernelspec": {
   "display_name": "Native",
   "language": "native",
   "name": "native"
  },
  "language_info": {
   "file_extension": ".c",
   "mimetype": "text/plain",
   "name": "c"
  }
 },
 "nbformat": 4,
 "nbformat_minor": 4
}