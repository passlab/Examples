{
 "cells": [
  {
   "cell_type": "markdown",
   "metadata": {},
   "source": [
    "## __target__ __update__ Construct"
   ]
  },
  {
   "cell_type": "markdown",
   "metadata": {},
   "source": [
    "### Simple __target__ __data__ and __target__ __update__ Constructs"
   ]
  },
  {
   "cell_type": "markdown",
   "metadata": {},
   "source": [
    "The following example shows how the __target__ __update__ construct updates  variables in a device data environment."
   ]
  },
  {
   "cell_type": "markdown",
   "metadata": {},
   "source": [
    "The __target__ __data__ construct maps array sections  _v1[:N]_  and  _v2[:N]_   (arrays  _v1_  and  _v2_  in the Fortran code) into a device data environment."
   ]
  },
  {
   "cell_type": "markdown",
   "metadata": {},
   "source": [
    "The task executing on the host device encounters the first __target__ region  and waits for the completion of the region."
   ]
  },
  {
   "cell_type": "markdown",
   "metadata": {},
   "source": [
    "After the execution of the first __target__ region, the task executing on  the host device then assigns new values to  _v1[:N]_  and  _v2[:N]_  ( _v1_  and  _v2_  arrays  in Fortran code) in the task's data environment by calling the function __init_again()__."
   ]
  },
  {
   "cell_type": "markdown",
   "metadata": {},
   "source": [
    "The __target__ __update__ construct assigns the new values of  _v1_  and   _v2_  from the task's data environment to the corresponding mapped array sections  in the device data environment of the __target__ __data__ construct."
   ]
  },
  {
   "cell_type": "markdown",
   "metadata": {},
   "source": [
    "The task executing on the host device then encounters the second __target__  region and waits for the completion of the region."
   ]
  },
  {
   "cell_type": "markdown",
   "metadata": {},
   "source": [
    "The second __target__ region uses the updated values of  _v1[:N]_  and  _v2[:N]_ ."
   ]
  },
  {
   "cell_type": "code",
   "execution_count": null,
   "metadata": {},
   "outputs": [],
   "source": [
    "//%compiler: clang\n",
    "//%cflags: -fopenmp\n",
    "\n",
    "/*\n",
    "* name: target_update.1\n",
    "* type: C\n",
    "* version: omp_4.0\n",
    "*/\n",
    "extern void init(float *, float *, int);\n",
    "extern void init_again(float *, float *, int);\n",
    "extern void output(float *, int);\n",
    "void vec_mult(float *p, float *v1, float *v2, int N)\n",
    "{\n",
    "   int i;\n",
    "   init(v1, v2, N);\n",
    "   #pragma omp target data map(to: v1[:N], v2[:N]) map(from: p[0:N])\n",
    "   {\n",
    "      #pragma omp target\n",
    "      #pragma omp parallel for\n",
    "      for (i=0; i<N; i++)\n",
    " p[i] = v1[i] * v2[i];\n",
    "      init_again(v1, v2, N);\n",
    "      #pragma omp target update to(v1[:N], v2[:N])\n",
    "      #pragma omp target\n",
    "      #pragma omp parallel for\n",
    "      for (i=0; i<N; i++)\n",
    " p[i] = p[i] + (v1[i] * v2[i]);\n",
    "   }\n",
    "   output(p, N);\n",
    "}"
   ]
  },
  {
   "cell_type": "code",
   "execution_count": null,
   "metadata": {},
   "outputs": [],
   "source": [
    "!!%compiler: gfortran\n",
    "!!%cflags: -fopenmp\n",
    "\n",
    "! name: target_update.1\n",
    "! type: F-free\n",
    "! version:     omp_4.0\n",
    "subroutine vec_mult(p, v1, v2, N)\n",
    "   real    ::  p(N), v1(N), v2(N)\n",
    "   integer ::  i\n",
    "   call init(v1, v2, N)\n",
    "   !$omp target data map(to: v1, v2) map(from: p)\n",
    "      !$omp target\n",
    "      !$omp parallel do\n",
    "         do i=1,N\n",
    "            p(i) = v1(i) * v2(i)\n",
    "         end do\n",
    "      !$omp end target\n",
    "      call init_again(v1, v2, N)\n",
    "      !$omp target update to(v1, v2)\n",
    "      !$omp target\n",
    "      !$omp parallel do\n",
    "         do i=1,N\n",
    "            p(i) = p(i) + v1(i) * v2(i)\n",
    "         end do\n",
    "      !$omp end target\n",
    "   !$omp end target data\n",
    "   call output(p, N)\n",
    "end subroutine"
   ]
  },
  {
   "cell_type": "markdown",
   "metadata": {},
   "source": [
    "### __target__ __update__ Construct with __if__ Clause"
   ]
  },
  {
   "cell_type": "markdown",
   "metadata": {},
   "source": [
    "The following example shows how the __target__ __update__ construct updates  variables in a device data environment."
   ]
  },
  {
   "cell_type": "markdown",
   "metadata": {},
   "source": [
    "The __target__ __data__ construct maps array sections  _v1[:N]_  and  _v2[:N]_   (arrays  _v1_  and  _v2_  in the Fortran code) into a device data environment. In between  the two __target__ regions, the task executing on the host device conditionally  assigns new values to  _v1_  and  _v2_  in the task's data environment. The function __maybe_init_again()__  returns  _true_  if new data is written."
   ]
  },
  {
   "cell_type": "markdown",
   "metadata": {},
   "source": [
    "When the conditional expression (the return value of __maybe_init_again()__) in the  __if__ clause is  _true_ , the __target__ __update__ construct  assigns the new values of  _v1_  and  _v2_  from the task's data environment to the corresponding  mapped array sections in the __target__ __data__ construct's device data  environment."
   ]
  },
  {
   "cell_type": "code",
   "execution_count": null,
   "metadata": {},
   "outputs": [],
   "source": [
    "//%compiler: clang\n",
    "//%cflags: -fopenmp\n",
    "\n",
    "/*\n",
    "* name: target_update.2\n",
    "* type: C\n",
    "* version: omp_4.0\n",
    "*/\n",
    "extern void init(float *, float *, int);\n",
    "extern int maybe_init_again(float *, int);\n",
    "extern void output(float *, int);\n",
    "void vec_mult(float *p, float *v1, float *v2, int N)\n",
    "{\n",
    "   int i;\n",
    "   init(v1, v2, N);\n",
    "   #pragma omp target data map(to: v1[:N], v2[:N]) map(from: p[0:N])\n",
    "   {\n",
    "      int changed;\n",
    "      #pragma omp target\n",
    "      #pragma omp parallel for\n",
    "      for (i=0; i<N; i++)\n",
    "        p[i] = v1[i] * v2[i];\n",
    "      changed = maybe_init_again(v1,  N);\n",
    "      #pragma omp target update if (changed) to(v1[:N])\n",
    "      changed = maybe_init_again(v2,  N);\n",
    "      #pragma omp target update if (changed) to(v2[:N])\n",
    "      #pragma omp target\n",
    "      #pragma omp parallel for\n",
    "      for (i=0; i<N; i++)\n",
    "        p[i] = p[i] + (v1[i] * v2[i]);\n",
    "   }\n",
    "   output(p, N);\n",
    "}"
   ]
  },
  {
   "cell_type": "code",
   "execution_count": null,
   "metadata": {},
   "outputs": [],
   "source": [
    "!!%compiler: gfortran\n",
    "!!%cflags: -fopenmp\n",
    "\n",
    "! name: target_update.2\n",
    "! type: F-free\n",
    "! version:     omp_4.0\n",
    "subroutine vec_mult(p, v1, v2, N)\n",
    "   interface\n",
    "      logical function maybe_init_again (v1, N)\n",
    "      real :: v1(N)\n",
    "      integer :: N\n",
    "      end function\n",
    "   end interface\n",
    "   real    ::  p(N), v1(N), v2(N)\n",
    "   integer ::  i\n",
    "   logical :: changed\n",
    "   call init(v1, v2, N)\n",
    "   !$omp target data map(to: v1, v2) map(from: p)\n",
    "      !$omp target\n",
    "         !$omp parallel do\n",
    "         do i=1, N\n",
    "            p(i) = v1(i) * v2(i)\n",
    "         end do\n",
    "      !$omp end target\n",
    "      changed = maybe_init_again(v1, N)\n",
    "      !$omp target update if(changed) to(v1(:N))\n",
    "      changed = maybe_init_again(v2, N)\n",
    "      !$omp target update if(changed) to(v2(:N))\n",
    "      !$omp target\n",
    "         !$omp parallel do\n",
    "         do i=1, N\n",
    "            p(i) = p(i) + v1(i) * v2(i)\n",
    "         end do\n",
    "      !$omp end target\n",
    "   !$omp end target data\n",
    "   call output(p, N)\n",
    "end subroutine"
   ]
  }
 ],
 "metadata": {
  "kernelspec": {
   "display_name": "Native",
   "language": "native",
   "name": "native"
  },
  "language_info": {
   "file_extension": ".c",
   "mimetype": "text/plain",
   "name": "c"
  }
 },
 "nbformat": 4,
 "nbformat_minor": 4
}