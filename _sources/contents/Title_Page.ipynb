{
 "cells": [
  {
   "cell_type": "markdown",
   "metadata": {},
   "source": [
    "# Cover"
   ]
  },
  {
   "cell_type": "markdown",
   "metadata": {},
   "source": [
    "![image](openmp-logo.png)\n",
    "\n",
    "<div align='center' ><font size='70'>OpenMP Application Programming Interface</font></div>\n",
    "\n",
    "<div align='center' ><font size='70'>Examples</font></div>\n"
   ]
  },
  {
   "cell_type": "markdown",
   "metadata": {},
   "source": [
    "<div align='center' ><font size='5'>Version 5.2 - April 2022</font></div>"
   ]
  },
  {
   "cell_type": "markdown",
   "metadata": {},
   "source": [
    "Source codes for OpenMP 5.2 Examples are available at [github\n",
    "(https://github.com/OpenMP/Examples/tree/v5.2)](https://github.com/OpenMP/Examples/tree/v5.2).\n",
    "\n",
    "Copyright © 1997-2022 OpenMP Architecture Review Board.\n",
    "Permission to copy without fee all or part of this material is granted,\n",
    "provided the OpenMP Architecture Review Board copyright notice and the\n",
    "title of this document appear. Notice is given that copying is by\n",
    "permission of OpenMP Architecture Review Board."
   ]
  }
 ],
 "metadata": {
  "kernelspec": {
   "display_name": "Native",
   "language": "native",
   "name": "native"
  },
  "language_info": {
   "file_extension": ".c",
   "mimetype": "text/plain",
   "name": "c"
  }
 },
 "nbformat": 4,
 "nbformat_minor": 4
}
