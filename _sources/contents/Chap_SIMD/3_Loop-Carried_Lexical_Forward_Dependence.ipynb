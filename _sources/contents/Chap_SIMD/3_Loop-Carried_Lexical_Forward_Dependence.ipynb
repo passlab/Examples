{
 "cells": [
  {
   "cell_type": "markdown",
   "metadata": {},
   "source": [
    "## Loop-Carried Lexical Forward Dependence"
   ]
  },
  {
   "cell_type": "markdown",
   "metadata": {},
   "source": [
    "The following example tests the restriction on an SIMD loop with the loop-carried lexical forward-dependence. This dependence must be preserved for the correct execution of SIMD loops."
   ]
  },
  {
   "cell_type": "markdown",
   "metadata": {},
   "source": [
    "A loop can be vectorized even though the iterations are not completely independent when it has loop-carried dependences that are forward lexical dependences, indicated in the code below by the read of  _A[j+1]_  and the write to  _A[j]_  in C/C++ code (or  _A(j+1)_  and  _A(j)_  in Fortran). That is, the read of  _A[j+1]_  (or  _A(j+1)_  in Fortran) before the write to  _A[j]_  (or  _A(j)_  in Fortran) ordering must be preserved for each iteration in  _j_  for valid SIMD code generation."
   ]
  },
  {
   "cell_type": "markdown",
   "metadata": {},
   "source": [
    "This test assures that the compiler preserves the loop carried lexical forward-dependence for generating a correct SIMD code."
   ]
  },
  {
   "cell_type": "code",
   "execution_count": null,
   "metadata": {},
   "outputs": [],
   "source": [
    "//%compiler: clang\n",
    "//%cflags: -fopenmp\n",
    "\n",
    "/*\n",
    "* name: SIMD.8\n",
    "* type: C\n",
    "* version: omp_4.0\n",
    "*/\n",
    "#include <stdio.h>\n",
    "#include <math.h>\n",
    "\n",
    "int   P[1000];\n",
    "float A[1000];\n",
    "\n",
    "float do_work(float *arr)\n",
    "{\n",
    "  float pri;\n",
    "  int i;\n",
    "#pragma omp simd lastprivate(pri)\n",
    "  for (i = 0; i < 999; ++i) {\n",
    "    int j = P[i];\n",
    "\n",
    "    pri = 0.5f;\n",
    "    if (j % 2 == 0) {\n",
    "      pri = A[j+1] + arr[i];\n",
    "    }\n",
    "    A[j] = pri * 1.5f;\n",
    "    pri = pri + A[j];\n",
    "  }\n",
    "  return pri;\n",
    "}\n",
    "\n",
    "int main(void)\n",
    "{\n",
    "  float pri, arr[1000];\n",
    "  int i;\n",
    "\n",
    "  for (i = 0; i < 1000; ++i) {\n",
    "     P[i]   = i;\n",
    "     A[i]   = i * 1.5f;\n",
    "     arr[i] = i * 1.8f;\n",
    "  }\n",
    "  pri = do_work(&arr[0]);\n",
    "  if (pri == 8237.25) {\n",
    "    printf(\"passed: result pri = %7.2f (8237.25) \\n\", pri);\n",
    "  }\n",
    "  else {\n",
    "    printf(\"failed: result pri = %7.2f (8237.25) \\n\", pri);\n",
    "  }\n",
    "  return 0;\n",
    "}"
   ]
  },
  {
   "cell_type": "code",
   "execution_count": null,
   "metadata": {},
   "outputs": [],
   "source": [
    "!!%compiler: gfortran\n",
    "!!%cflags: -fopenmp\n",
    "\n",
    "! name: SIMD.8\n",
    "! type: F-free\n",
    "! version: omp_4.0\n",
    "module work\n",
    "\n",
    "integer :: P(1000)\n",
    "real    :: A(1000)\n",
    "\n",
    "contains\n",
    "function do_work(arr) result(pri)\n",
    "  implicit none\n",
    "  real, dimension(*) :: arr\n",
    "\n",
    "  real :: pri\n",
    "  integer :: i, j\n",
    "\n",
    "  !$omp simd private(j) lastprivate(pri)\n",
    "  do i = 1, 999\n",
    "    j = P(i)\n",
    "\n",
    "    pri = 0.5\n",
    "    if (mod(j-1, 2) == 0) then\n",
    "      pri = A(j+1) + arr(i)\n",
    "    endif\n",
    "    A(j) = pri * 1.5\n",
    "    pri = pri + A(j)\n",
    "  end do\n",
    "\n",
    "end function do_work\n",
    "\n",
    "end module work\n",
    "\n",
    "program simd_8f\n",
    "  use work\n",
    "  implicit none\n",
    "  real :: pri, arr(1000)\n",
    "  integer :: i\n",
    "\n",
    "  do i = 1, 1000\n",
    "     P(i)   = i\n",
    "     A(i)   = (i-1) * 1.5\n",
    "     arr(i) = (i-1) * 1.8\n",
    "  end do\n",
    "  pri = do_work(arr)\n",
    "  if (pri == 8237.25) then\n",
    "    print 2, \"passed\", pri\n",
    "  else\n",
    "    print 2, \"failed\", pri\n",
    "  endif\n",
    "2 format(a, \": result pri = \", f7.2, \" (8237.25)\")\n",
    "\n",
    "end program"
   ]
  }
 ],
 "metadata": {
  "kernelspec": {
   "display_name": "Native",
   "language": "native",
   "name": "native"
  },
  "language_info": {
   "file_extension": ".c",
   "mimetype": "text/plain",
   "name": "c"
  }
 },
 "nbformat": 4,
 "nbformat_minor": 4
}