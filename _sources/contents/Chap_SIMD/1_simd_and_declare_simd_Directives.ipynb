{
 "cells": [
  {
   "cell_type": "markdown",
   "metadata": {},
   "source": [
    "## __simd__ and __declare__ __simd__ Directives"
   ]
  },
  {
   "cell_type": "markdown",
   "metadata": {},
   "source": [
    "The following example illustrates the basic use of the __simd__ construct  to assure the compiler that the loop can be vectorized."
   ]
  },
  {
   "cell_type": "code",
   "execution_count": null,
   "metadata": {},
   "outputs": [],
   "source": [
    "//%compiler: clang\n",
    "//%cflags: -fopenmp\n",
    "\n",
    "/*\n",
    "* name: SIMD.1\n",
    "* type: C\n",
    "* version: omp_4.0\n",
    "*/\n",
    "void star( double *a, double *b, double *c, int n, int *ioff )\n",
    "{\n",
    "   int i;\n",
    "   #pragma omp simd\n",
    "   for ( i = 0; i < n; i++ )\n",
    "      a[i] *= b[i] * c[i+ *ioff];\n",
    "}"
   ]
  },
  {
   "cell_type": "code",
   "execution_count": null,
   "metadata": {},
   "outputs": [],
   "source": [
    "!!%compiler: gfortran\n",
    "!!%cflags: -fopenmp\n",
    "\n",
    "! name: SIMD.1\n",
    "! type: F-free\n",
    "! version: omp_4.0\n",
    "subroutine star(a,b,c,n,ioff_ptr)\n",
    "   implicit none\n",
    "   double precision :: a(*),b(*),c(*)\n",
    "   integer          :: n, i\n",
    "   integer, pointer :: ioff_ptr\n",
    "\n",
    "   !$omp simd\n",
    "   do i = 1,n\n",
    "      a(i) = a(i) * b(i) * c(i+ioff_ptr)\n",
    "   end do\n",
    "\n",
    "end subroutine"
   ]
  },
  {
   "cell_type": "markdown",
   "metadata": {},
   "source": [
    "When a function can be inlined within a loop the compiler has an opportunity to  vectorize the loop. By guaranteeing SIMD behavior of a function's operations,  characterizing the arguments of the function and privatizing temporary  variables of the loop, the compiler can often create faster, vector code for  the loop. In the examples below the __declare__ __simd__ directive is  used on the  _add1_  and  _add2_  functions to enable creation of their  corresponding SIMD function versions for execution within the associated SIMD  loop. The functions characterize two different approaches of accessing data  within the function: by a single variable and as an element in a data array,  respectively. The  _add3_  C function uses dereferencing."
   ]
  },
  {
   "cell_type": "markdown",
   "metadata": {},
   "source": [
    "The __declare__ __simd__ directives also illustrate the use of  __uniform__ and __linear__ clauses.  The __uniform(fact)__ clause  indicates that the variable  _fact_  is invariant across the SIMD lanes. In  the  _add2_  function  _a_  and  _b_  are included in the __uniform__  list because the C pointer and the Fortran array references are constant.  The   _i_  index used in the  _add2_  function is included in a __linear__  clause with a constant-linear-step of 1, to guarantee a unity increment of the  associated loop. In the __declare__ __simd__ directive for the  _add3_   C function the  __linear(a,b:1)__ clause instructs the compiler to generate  unit-stride loads across the SIMD lanes; otherwise,  costly **gather**  instructions would be generated for the unknown sequence of access of the  pointer dereferences."
   ]
  },
  {
   "cell_type": "markdown",
   "metadata": {},
   "source": [
    "In the __simd__ constructs for the loops the __private(tmp)__ clause is  necessary to assure that the each vector operation has its own  _tmp_   variable."
   ]
  },
  {
   "cell_type": "code",
   "execution_count": null,
   "metadata": {},
   "outputs": [],
   "source": [
    "//%compiler: clang\n",
    "//%cflags: -fopenmp\n",
    "\n",
    "/*\n",
    "* name: SIMD.2\n",
    "* type: C\n",
    "* version: omp_4.0\n",
    "*/\n",
    "#include <stdio.h>\n",
    "\n",
    "#pragma omp declare simd uniform(fact)\n",
    "double add1(double a, double b, double fact)\n",
    "{\n",
    "   double c;\n",
    "   c = a + b + fact;\n",
    "   return c;\n",
    "}\n",
    "\n",
    "#pragma omp declare simd uniform(a,b,fact) linear(i:1)\n",
    "double add2(double *a, double *b, int i, double fact)\n",
    "{\n",
    "   double c;\n",
    "   c = a[i] + b[i] + fact;\n",
    "   return c;\n",
    "}\n",
    "\n",
    "#pragma omp declare simd uniform(fact) linear(a,b:1)\n",
    "double add3(double *a, double *b, double fact)\n",
    "{\n",
    "   double c;\n",
    "   c = *a + *b + fact;\n",
    "   return c;\n",
    "}\n",
    "\n",
    "void work( double *a, double *b, int n )\n",
    "{\n",
    "   int i;\n",
    "   double tmp;\n",
    "   #pragma omp simd private(tmp)\n",
    "   for ( i = 0; i < n; i++ ) {\n",
    "      tmp  = add1( a[i],  b[i], 1.0);\n",
    "      a[i] = add2( a,     b, i, 1.0) + tmp;\n",
    "      a[i] = add3(&a[i], &b[i], 1.0);\n",
    "   }\n",
    "}\n",
    "\n",
    "int main(){\n",
    "   int i;\n",
    "   const int N=32;\n",
    "   double a[N], b[N];\n",
    "\n",
    "   for ( i=0; i<N; i++ ) {\n",
    "      a[i] = i; b[i] = N-i;\n",
    "   }\n",
    "\n",
    "   work(a, b, N );\n",
    "\n",
    "   for ( i=0; i<N; i++ ) {\n",
    "      printf(\"%d %f\\n\", i, a[i]);\n",
    "   }\n",
    "\n",
    "   return 0;\n",
    "}"
   ]
  },
  {
   "cell_type": "code",
   "execution_count": null,
   "metadata": {},
   "outputs": [],
   "source": [
    "!!%compiler: gfortran\n",
    "!!%cflags: -fopenmp\n",
    "\n",
    "! name: SIMD.2\n",
    "! type: F-free\n",
    "! version: omp_4.0\n",
    "program main\n",
    "   implicit none\n",
    "   integer, parameter :: N=32\n",
    "   integer :: i\n",
    "   double precision   :: a(N), b(N)\n",
    "   do i = 1,N\n",
    "      a(i) = i-1\n",
    "      b(i) = N-(i-1)\n",
    "   end do\n",
    "   call work(a, b, N )\n",
    "   do i = 1,N\n",
    "      print*, i,a(i)\n",
    "   end do\n",
    "end program\n",
    "\n",
    "function add1(a,b,fact) result(c)\n",
    "   implicit none\n",
    "!$omp declare simd(add1) uniform(fact)\n",
    "   double precision :: a,b,fact, c\n",
    "   c = a + b + fact\n",
    "end function\n",
    "\n",
    "function add2(a,b,i, fact) result(c)\n",
    "   implicit none\n",
    "!$omp declare simd(add2) uniform(a,b,fact) linear(i:1)\n",
    "   integer          :: i\n",
    "   double precision :: a(*),b(*),fact, c\n",
    "   c = a(i) + b(i) + fact\n",
    "end function\n",
    "\n",
    "subroutine work(a, b, n )\n",
    "   implicit none\n",
    "   double precision           :: a(n),b(n), tmp\n",
    "   integer                    :: n, i\n",
    "   double precision, external :: add1, add2\n",
    "\n",
    "   !$omp simd private(tmp)\n",
    "   do i = 1,n\n",
    "      tmp  = add1(a(i), b(i), 1.0d0)\n",
    "      a(i) = add2(a,    b, i, 1.0d0) + tmp\n",
    "      a(i) = a(i) + b(i) + 1.0d0\n",
    "   end do\n",
    "end subroutine"
   ]
  },
  {
   "cell_type": "markdown",
   "metadata": {},
   "source": [
    "A thread that encounters a SIMD construct executes a vectorized code of the  iterations. Similar to the concerns of a worksharing loop a loop vectorized  with a SIMD construct must assure that temporary and reduction variables are  privatized and declared as reductions with clauses.  The example below  illustrates the use of __private__ and __reduction__ clauses in a SIMD  construct."
   ]
  },
  {
   "cell_type": "code",
   "execution_count": null,
   "metadata": {},
   "outputs": [],
   "source": [
    "//%compiler: clang\n",
    "//%cflags: -fopenmp\n",
    "\n",
    "/*\n",
    "* name: SIMD.3\n",
    "* type: C\n",
    "* version: omp_4.0\n",
    "*/\n",
    "double work( double *a, double *b, int n )\n",
    "{\n",
    "   int i;\n",
    "   double tmp, sum;\n",
    "   sum = 0.0;\n",
    "   #pragma omp simd private(tmp) reduction(+:sum)\n",
    "   for (i = 0; i < n; i++) {\n",
    "      tmp = a[i] + b[i];\n",
    "      sum += tmp;\n",
    "   }\n",
    "   return sum;\n",
    "}"
   ]
  },
  {
   "cell_type": "code",
   "execution_count": null,
   "metadata": {},
   "outputs": [],
   "source": [
    "!!%compiler: gfortran\n",
    "!!%cflags: -fopenmp\n",
    "\n",
    "! name: SIMD.3\n",
    "! type: F-free\n",
    "! version: omp_4.0\n",
    "subroutine work( a, b, n, sum )\n",
    "   implicit none\n",
    "   integer :: i, n\n",
    "   double precision :: a(n), b(n), sum, tmp\n",
    "\n",
    "   sum = 0.0d0\n",
    "   !$omp simd private(tmp) reduction(+:sum)\n",
    "   do i = 1,n\n",
    "      tmp = a(i) + b(i)\n",
    "      sum = sum + tmp\n",
    "   end do\n",
    "\n",
    "end subroutine work"
   ]
  },
  {
   "cell_type": "markdown",
   "metadata": {},
   "source": [
    "A __safelen(N)__ clause in a __simd__ construct assures the compiler that  there are no loop-carried dependencies for vectors of size  _N_  or below. If  the __safelen__ clause is not specified, then the default safelen value is  the number of loop iterations."
   ]
  },
  {
   "cell_type": "markdown",
   "metadata": {},
   "source": [
    "The __safelen(16)__ clause in the example below guarantees that the vector  code is safe for vectors up to and including size 16.  In the loop,  _m_  can  be 16 or greater, for correct code execution.  If the value of  _m_  is less  than 16, the behavior is undefined."
   ]
  },
  {
   "cell_type": "code",
   "execution_count": null,
   "metadata": {},
   "outputs": [],
   "source": [
    "//%compiler: clang\n",
    "//%cflags: -fopenmp\n",
    "\n",
    "/*\n",
    "* name: SIMD.4\n",
    "* type: C\n",
    "* version: omp_4.0\n",
    "*/\n",
    "void work( float *b, int n, int m )\n",
    "{\n",
    "   int i;\n",
    "   #pragma omp simd safelen(16)\n",
    "   for (i = m; i < n; i++)\n",
    "      b[i] = b[i-m] - 1.0f;\n",
    "}"
   ]
  },
  {
   "cell_type": "code",
   "execution_count": null,
   "metadata": {},
   "outputs": [],
   "source": [
    "!!%compiler: gfortran\n",
    "!!%cflags: -fopenmp\n",
    "\n",
    "! name: SIMD.4\n",
    "! type: F-free\n",
    "! version: omp_4.0\n",
    "subroutine work( b, n, m )\n",
    "   implicit none\n",
    "   real       :: b(n)\n",
    "   integer    :: i,n,m\n",
    "\n",
    "   !$omp simd safelen(16)\n",
    "   do i = m+1, n\n",
    "      b(i) = b(i-m) - 1.0\n",
    "   end do\n",
    "end subroutine work"
   ]
  },
  {
   "cell_type": "markdown",
   "metadata": {},
   "source": [
    "The following SIMD construct instructs the compiler to collapse the  _i_  and   _j_  loops into a single SIMD loop in which SIMD chunks are executed by  threads of the team. Within the workshared loop chunks of a thread, the SIMD  chunks are executed in the lanes of the vector units."
   ]
  },
  {
   "cell_type": "code",
   "execution_count": null,
   "metadata": {},
   "outputs": [],
   "source": [
    "//%compiler: clang\n",
    "//%cflags: -fopenmp\n",
    "\n",
    "/*\n",
    "* name: SIMD.5\n",
    "* type: C\n",
    "* version: omp_4.0\n",
    "*/\n",
    "void work( double **a, double **b, double **c, int n )\n",
    "{\n",
    "   int i, j;\n",
    "   double tmp;\n",
    "   #pragma omp for simd collapse(2) private(tmp)\n",
    "   for (i = 0; i < n; i++) {\n",
    "      for (j = 0; j < n; j++) {\n",
    "         tmp = a[i][j] + b[i][j];\n",
    "         c[i][j] = tmp;\n",
    "      }\n",
    "   }\n",
    "}"
   ]
  },
  {
   "cell_type": "code",
   "execution_count": null,
   "metadata": {},
   "outputs": [],
   "source": [
    "!!%compiler: gfortran\n",
    "!!%cflags: -fopenmp\n",
    "\n",
    "! name: SIMD.5\n",
    "! type: F-free\n",
    "! version: omp_4.0\n",
    "subroutine work( a, b, c,  n )\n",
    "   implicit none\n",
    "   integer :: i,j,n\n",
    "   double precision :: a(n,n), b(n,n), c(n,n), tmp\n",
    "\n",
    "   !$omp do simd collapse(2) private(tmp)\n",
    "   do j = 1,n\n",
    "      do i = 1,n\n",
    "         tmp = a(i,j) + b(i,j)\n",
    "         c(i,j) = tmp\n",
    "      end do\n",
    "   end do\n",
    "\n",
    "end subroutine work"
   ]
  }
 ],
 "metadata": {
  "kernelspec": {
   "display_name": "Native",
   "language": "native",
   "name": "native"
  },
  "language_info": {
   "file_extension": ".c",
   "mimetype": "text/plain",
   "name": "c"
  }
 },
 "nbformat": 4,
 "nbformat_minor": 4
}
