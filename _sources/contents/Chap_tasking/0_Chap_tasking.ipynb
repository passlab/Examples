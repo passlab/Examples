{
 "cells": [
  {
   "cell_type": "markdown",
   "metadata": {},
   "source": [
    "# Tasking"
   ]
  },
  {
   "cell_type": "markdown",
   "metadata": {},
   "source": [
    "Tasking constructs provide units of work to a thread for execution.   Worksharing constructs do this, too (e.g. __for__, __do__,  __sections__, and __singles__ constructs);  but the work units are tightly controlled by an iteration limit and limited  scheduling, or a limited number of __sections__ or __single__ regions.  Worksharing was designed  with  **\"** data parallel **\"**  computing in mind.  Tasking was designed for   **\"** task parallel **\"**  computing and often involves non-locality or irregularity  in memory access."
   ]
  },
  {
   "cell_type": "markdown",
   "metadata": {},
   "source": [
    "The __task__ construct can be used to execute work chunks: in a while loop;  while traversing nodes in a list; at nodes in a tree graph;  or in a normal loop (with a __taskloop__ construct).   Unlike the statically scheduled loop iterations of worksharing, a task is  often enqueued, and then dequeued for execution by any of the threads of the team within a parallel region. The generation of tasks can be from a single  generating thread (creating sibling tasks), or from multiple generators in a recursive graph tree traversals.  A __taskloop__ construct bundles iterations of an associated loop into tasks, and provides  similar controls found in the __task__ construct."
   ]
  },
  {
   "cell_type": "markdown",
   "metadata": {},
   "source": [
    "Sibling tasks are synchronized by the __taskwait__ construct, and tasks and their descendent tasks can be synchronized by containing them in a __taskgroup__ region.  Ordered execution is accomplished by specifying dependences with a __depend__ clause. Also, priorities can be specified as hints to the scheduler through a __priority__ clause."
   ]
  },
  {
   "cell_type": "markdown",
   "metadata": {},
   "source": [
    "Various clauses can be used to manage and optimize task generation, as well as reduce the overhead of execution and to relinquish  control of threads for work balance and forward progress."
   ]
  },
  {
   "cell_type": "markdown",
   "metadata": {},
   "source": [
    "Once a thread starts executing a task, it is the designated thread  for executing the task to completion, even though it may leave the execution at a scheduling point and return later.  The thread is tied to the task.  Scheduling points can be introduced with the __taskyield__ construct.  With an __untied__ clause any other thread is allowed to continue the task.  An __if__ clause with an expression that evaluates to  _false_   results in an **undeferred** task, which instructs the runtime to suspend the generating task until the undeferred task completes its execution. By including the data environment of the generating task into the generated task with the  __mergeable__ and __final__ clauses, task generation overhead can be reduced."
   ]
  },
  {
   "cell_type": "markdown",
   "metadata": {},
   "source": [
    "A complete list of the tasking constructs and details of their clauses can be found in the  _Tasking Constructs_  chapter of the OpenMP Specifications, in the  _OpenMP Application Programming Interface_  section."
   ]
  }
 ],
 "metadata": {
  "kernelspec": {
   "display_name": "Native",
   "language": "native",
   "name": "native"
  },
  "language_info": {
   "file_extension": ".c",
   "mimetype": "text/plain",
   "name": "none"
  }
 },
 "nbformat": 4,
 "nbformat_minor": 4
}
