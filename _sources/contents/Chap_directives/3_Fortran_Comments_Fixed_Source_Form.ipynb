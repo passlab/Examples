{
 "cells": [
  {
   "cell_type": "markdown",
   "metadata": {},
   "source": [
    "## Fortran Comments (Fixed Source Form)"
   ]
  },
  {
   "cell_type": "markdown",
   "metadata": {},
   "source": [
    "OpenMP directives in Fortran codes with fixed source form are specified as comments with one of the __!\\$omp__, \n",
    "__c\\$omp__, and \n",
    "__*\\$omp__ sentinels, followed by a directive name, and required and optional clauses.  The sentinel must begin in column 1."
   ]
  },
  {
   "cell_type": "markdown",
   "metadata": {},
   "source": [
    "In the example below the first directive (DIR 1) specifies the __parallel__ __do__ combined directive, with a __num_threads__ clause, and a comment. The second directive (DIR 2) shows the same directive split across two lines. The next nested directives (DIR 3 and 4) show the previous combined directive as two separate directives.  Here, an __end__ directive (__end__ __parallel__) must be specified to demarcate the range (region) of the __parallel__ directive."
   ]
  },
  {
   "cell_type": "code",
   "execution_count": null,
   "metadata": {},
   "outputs": [],
   "source": [
    "!!%compiler: gfortran\n",
    "!!%cflags: -fopenmp\n",
    "\n",
    "! name: directive_syntax_F_fixed_comment.1\n",
    "! type: F-fixed\n",
    "      program main\n",
    "      include 'omp_lib.h'\n",
    "      integer NT\n",
    "\n",
    "      NT =4\n",
    "\n",
    "c     sentinel c$omp or *$omp can also be used\n",
    "\n",
    "c$omp parallel do num_threads(NT) !comments allowed here   DIR 1\n",
    "      do i = 1,NT\n",
    "        write(*,'(\"thrd no\", i2)') omp_get_thread_num()\n",
    "      end do\n",
    "\n",
    "!$omp parallel do\n",
    "!$omp+ num_threads(NT)          !cont. w. char in col. 6   DIR 2\n",
    "      do i = 1,NT\n",
    "        write(*,'(\"thrd no\", i2)') omp_get_thread_num()\n",
    "      end do\n",
    "\n",
    "*$omp parallel num_threads(NT)  !multi-directive form      DIR 3\n",
    "*$omp do                        !                          DIR 4\n",
    "      do i = 1,NT\n",
    "         write(*,'(\"thrd no\", i2)') omp_get_thread_num()\n",
    "      end do\n",
    "*$omp end parallel\n",
    "      end\n",
    "!     repeated 3 times, any order\n",
    "!     OUTPUT: thrd no  0\n",
    "!     OUTPUT: thrd no  1\n",
    "!     OUTPUT: thrd no  2\n",
    "!     OUTPUT: thrd no  3\n",
    "\n"
   ]
  }
 ],
 "metadata": {
  "kernelspec": {
   "display_name": "Native",
   "language": "native",
   "name": "native"
  },
  "language_info": {
   "file_extension": ".c",
   "mimetype": "text/plain",
   "name": "c"
  }
 },
 "nbformat": 4,
 "nbformat_minor": 4
}