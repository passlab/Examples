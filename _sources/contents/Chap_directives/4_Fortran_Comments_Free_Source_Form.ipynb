{
 "cells": [
  {
   "cell_type": "markdown",
   "metadata": {},
   "source": [
    "## Fortran Comments (Free Source Form)"
   ]
  },
  {
   "cell_type": "markdown",
   "metadata": {},
   "source": [
    "OpenMP directives in Fortran codes with free source form are specified as comments that use the \n",
    "__!\\$omp__\n",
    "sentinel, followed by the directive name, and required and optional clauses.  Lines are continued with an ending ampersand (__&__), and the continued line begins with \n",
    "__!\\$omp__\n",
    "or \n",
    "__!\\$omp&__\n",
    ". Comments may appear on the same line as the directive.  Directives are case insensitive."
   ]
  },
  {
   "cell_type": "markdown",
   "metadata": {},
   "source": [
    "In the example below the first directive (DIR 1) specifies the __parallel__ __do__ combined directive, with a __num_threads__ clause, and a comment. The second directive (DIR 2) shows the same directive split across two lines.  The next nested directives (DIR 3 and 4) show the previous combined directive as two separate directives.  Here, an __end__ directive (__end__ __parallel__) must be specified to demarcate the range (region) of the __parallel__ directive."
   ]
  },
  {
   "cell_type": "code",
   "execution_count": null,
   "metadata": {},
   "outputs": [],
   "source": [
    "!!%compiler: gfortran\n",
    "!!%cflags: -fopenmp\n",
    "\n",
    "! name:       directive_syntax_F_free_comment.1\n",
    "! type:       F-free\n",
    "  program main\n",
    "     use omp_lib\n",
    "     integer,parameter :: NT = 4\n",
    "\n",
    "     !$omp parallel do num_threads(NT)                !DIR 1\n",
    "     do i = 1,NT\n",
    "       write(*,'(\"thrd no\", i2)') omp_get_thread_num()\n",
    "     end do\n",
    "\n",
    "     !$omp  parallel do  &     !continue line         !DIR 2\n",
    "     !$omp num_threads(NT)     !or !$omp&\n",
    "     do i = 1,NT\n",
    "       write(*,'(\"thrd no\", i2)') omp_get_thread_num()\n",
    "     end do\n",
    "\n",
    "     !$omp parallel num_threads(NT)                   !DIR 3\n",
    "     !$omp do                                         !DIR 4\n",
    "     do i = 1,NT\n",
    "        write(*,'(\"thrd no\", i2)') omp_get_thread_num()\n",
    "     end do\n",
    "     !$omp end parallel\n",
    "\n",
    "  end program\n",
    "\n",
    "!     repeated 3 times, any order\n",
    "!     OUTPUT: thrd no  0\n",
    "!     OUTPUT: thrd no  1\n",
    "!     OUTPUT: thrd no  2\n",
    "!     OUTPUT: thrd no  3\n",
    "\n"
   ]
  },
  {
   "cell_type": "markdown",
   "metadata": {},
   "source": [
    "As of OpenMP 5.1, __block__ and __end__ __block__ statements can be used to designate  a structured block for an OpenMP region, and any paired OpenMP __end__ directive becomes optional, as shown in the next example.  Note, the variables  _i_  and  _thrd_no_  are declared within the  block structure and are hence private. It was necessary to explicitly declare the  _i_  variable, due to the __implicit none__ statement;  it could have also been declared outside the structured block."
   ]
  },
  {
   "cell_type": "code",
   "execution_count": null,
   "metadata": {},
   "outputs": [],
   "source": [
    "!!%compiler: gfortran\n",
    "!!%cflags: -fopenmp\n",
    "\n",
    "! name:       directive_syntax_F_block.1\n",
    "! type:       F-free\n",
    "! version:    omp_5.1\n",
    "  program main\n",
    "\n",
    "     use omp_lib\n",
    "     implicit none\n",
    "     integer,parameter :: NT = 2, chunks=3\n",
    "\n",
    "    !$omp parallel num_threads(NT)\n",
    "     block                          ! Fortran 2008 OMP 5.1\n",
    "       integer :: thrd_no,i\n",
    "       thrd_no= omp_get_thread_num()\n",
    "        !$omp do schedule(static,chunks)\n",
    "        do i = 1,NT*chunks\n",
    "           write(*,'(\"ndx=\",i0.2,\" thrd_no=\", i0.2)') i,thrd_no\n",
    "        end do\n",
    "     end block\n",
    "  end program\n",
    "\n",
    "! any order\n",
    "! OUTPUT: ndx=01 thrd_no=00\n",
    "! OUTPUT: ndx=02 thrd_no=00\n",
    "! OUTPUT: ndx=03 thrd_no=00\n",
    "! OUTPUT: ndx=04 thrd_no=01\n",
    "! OUTPUT: ndx=05 thrd_no=01\n",
    "! OUTPUT: ndx=06 thrd_no=01"
   ]
  },
  {
   "cell_type": "markdown",
   "metadata": {},
   "source": [
    "A Fortran BLOCK construct may eliminate the need for a paired __end__ directive for an OpenMP construct,  as illustrated in the following example."
   ]
  },
  {
   "cell_type": "markdown",
   "metadata": {},
   "source": [
    "The first __parallel__ construct is specified with an OpenMP loosely structured block  (where the first executable construct is not a Fortran 2008 BLOCK construct).  A paired __end__ directive must end the OpenMP construct. The second __parallel__ construct is specified with an OpenMP strictly structured block  (consists only of a single Fortran BLOCK construct).  The paired __end__ directive is optional in this case, and is not used here."
   ]
  },
  {
   "cell_type": "markdown",
   "metadata": {},
   "source": [
    "The next two __parallel__ directives form an enclosing outer __parallel__ construct  and a nested inner __parallel__ construct. The first __end__ __parallel__ directive that subsequently appears terminates the inner __parallel__ construct,  because a paired __end__ directive immediately following a BLOCK construct that is  a strictly structured block of an OpenMP construct is treated as the terminating end directive  of that construct.  The next __end__ __parallel__ directive is required to terminate the outer __parallel__ construct."
   ]
  },
  {
   "cell_type": "code",
   "execution_count": null,
   "metadata": {},
   "outputs": [],
   "source": [
    "!!%compiler: gfortran\n",
    "!!%cflags: -fopenmp\n",
    "\n",
    "! name:       directive_syntax_F_block.2\n",
    "! type:       F-free\n",
    "! version:    omp_5.1\n",
    "program main\n",
    "\n",
    "   use omp_lib\n",
    "   implicit none\n",
    "\n",
    "  !$omp parallel num_threads(2)\n",
    "     if( omp_get_thread_num() == 0 ) &\n",
    "         print*, \"Loosely  structured block  -- end required.\"\n",
    "     block                                ! BLOCK Fortran 2008\n",
    "       if( omp_get_thread_num() == 0 ) &\n",
    "           print*, \"                           --\"\n",
    "     end block\n",
    "  !$omp end parallel\n",
    "\n",
    "  !$omp parallel num_threads(2)\n",
    "     block\n",
    "       if( omp_get_thread_num() == 0 ) &\n",
    "           print*, \"Strictly structured block  -- end not required.\"\n",
    "     end block\n",
    " !!$omp end parallel !is optional for strictly structured block\n",
    "\n",
    "  print*, \"Sequential part\"\n",
    "\n",
    "  !$omp parallel num_threads(2)                      !outer parallel\n",
    "     if( omp_get_thread_num() == 0 ) &\n",
    "         print*, \"Outer, loosely  structured block.\"\n",
    "     !$omp parallel num_threads(2)                   !inner parallel\n",
    "        block\n",
    "          if( omp_get_thread_num() == 0 ) &\n",
    "          print*, \"Inner, strictly structured block.\"\n",
    "        end block\n",
    "     !$omp end parallel\n",
    "  !$omp end parallel\n",
    "  ! Two end directives are required here.\n",
    "  ! A single \"!$omp end parallel\" terminator will fail.\n",
    "  ! 1st end directive is assumed to be for inner parallel construct.\n",
    "  ! 2nd end directive applies to outer parallel construct.\n",
    "\n",
    "end program\n",
    "\n",
    "!OUTPUT, in order:\n",
    "! Loosely  structured block  -- end required.\n",
    "!                            --\n",
    "! Strictly structured block  -- end not required.\n",
    "! Sequential part\n",
    "! Outer, loosely  structured block.\n",
    "! Inner, strictly structured block.\n",
    "! Inner, strictly structured block.\n",
    "\n"
   ]
  }
 ],
 "metadata": {
  "kernelspec": {
   "display_name": "Native",
   "language": "native",
   "name": "native"
  },
  "language_info": {
   "file_extension": ".c",
   "mimetype": "text/plain",
   "name": "c"
  }
 },
 "nbformat": 4,
 "nbformat_minor": 4
}