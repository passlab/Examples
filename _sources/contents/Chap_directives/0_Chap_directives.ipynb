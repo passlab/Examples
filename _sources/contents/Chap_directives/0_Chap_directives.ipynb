{
 "cells": [
  {
   "cell_type": "markdown",
   "metadata": {},
   "source": [
    "# OpenMP Directive Syntax"
   ]
  },
  {
   "cell_type": "markdown",
   "metadata": {},
   "source": [
    "OpenMP *directives* use base-language mechanisms to specify OpenMP program behavior. In C code, the directives are formed exclusively with pragmas, whereas in C++ code, directives are formed from either pragmas or attributes. Fortran directives are formed with comments in free form and fixed form sources (codes). All of these mechanisms allow the compilation to ignore the OpenMP directives if OpenMP is not supported or enabled."
   ]
  },
  {
   "cell_type": "markdown",
   "metadata": {},
   "source": [
    "The OpenMP directive is a combination of the base-language mechanism and a  _directive-specification_ , as shown below. The  _directive-specification_  consists of the  _directive-name_  which may seldomly have arguments,  followed by optional  _clauses_ . Full details of the syntax can be found in the OpenMP Specification. Illustrations of the syntax is given in the examples."
   ]
  },
  {
   "cell_type": "markdown",
   "metadata": {},
   "source": [
    "The formats for combining a base-language mechanism and a  _directive-specification_  are:"
   ]
  },
  {
   "cell_type": "markdown",
   "metadata": {},
   "source": [
    "C/C++ pragmas  \n",
    "\n",
    "&nbsp;&nbsp;&nbsp;&nbsp;\n",
    "__\\#pragma omp__\n",
    "*directive\\-specification*\n"
   ]
  },
  {
   "cell_type": "markdown",
   "metadata": {},
   "source": [
    "C++ attributes  \n",
    "&nbsp;&nbsp;&nbsp;&nbsp;\n",
    "__[[omp :: directive\\(__\n",
    "_directive-specification_\n",
    "__\\)]]__\n",
    "\n",
    "&nbsp;&nbsp;&nbsp;&nbsp;\n",
    "__[[using omp : directive\\(__\n",
    "_directive-specification_\n",
    "__\\)]]__"
   ]
  },
  {
   "cell_type": "markdown",
   "metadata": {},
   "source": [
    "Fortran comments  \n",
    "&nbsp;&nbsp;&nbsp;&nbsp;__!\\$omp__  _directive-specification_"
   ]
  },
  {
   "cell_type": "markdown",
   "metadata": {},
   "source": [
    "where __c\\$omp__ \n",
    "and \n",
    "__*\\$omp__ may be used in Fortran fixed form sources."
   ]
  },
  {
   "cell_type": "markdown",
   "metadata": {},
   "source": [
    "Most OpenMP directives accept clauses that alter the semantics of the directive in some way,  and some directives also accept parenthesized arguments that follow the directive name.  A clause may just be a keyword (e.g., __untied__) or it may also accept argument lists  (e.g., __shared(x,y,z)__) and/or optional modifiers (e.g., __tofrom__ in  __map(tofrom: x,y,z)__). Clause modifiers may be \"simple\" or \"complex\" -- a complex modifier consists of a  keyword followed by one or more parameters, bracketed by parentheses, while a simple  modifier does not. An example of a complex modifier is the __iterator__ modifier,  as in __map(iterator(i=0:n),tofrom: p[i])__, or the __step__ modifier, as in __linear(x:__ __ref,__ __step(4))__.  In the preceding examples, __tofrom__ and __ref__ are simple modifiers."
   ]
  }
 ],
 "metadata": {
  "kernelspec": {
   "display_name": "Native",
   "language": "native",
   "name": "native"
  },
  "language_info": {
   "file_extension": ".c",
   "mimetype": "text/plain",
   "name": "c"
  }
 },
 "nbformat": 4,
 "nbformat_minor": 4
}
