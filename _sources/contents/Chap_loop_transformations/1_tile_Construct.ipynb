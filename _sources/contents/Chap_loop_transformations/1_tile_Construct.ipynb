{
 "cells": [
  {
   "cell_type": "markdown",
   "metadata": {},
   "source": [
    "## __tile__ Construct"
   ]
  },
  {
   "cell_type": "markdown",
   "metadata": {},
   "source": [
    "In the following example a __tile__ construct transforms two nested loops within the  **func1**  function into four nested loops. The tile sizes in the __sizes__ clause are applied from outermost to innermost loops (left-to-right). The effective tiling operation is illustrated in the  **func2**  function.  (For easier illustration, tile sizes for all examples in this section evenly  divide the iteration counts so that there are no remainders.)"
   ]
  },
  {
   "cell_type": "markdown",
   "metadata": {},
   "source": [
    "In the following C/C++ code the inner loop traverses columns and the outer loop traverses the rows of a 100x128 (row x column) matrix.   The __sizes(5,16)__ clause of the __tile__ construct specifies a 5x16 blocking, applied to the outer (row) and inner (column) loops. The worksharing-loop construct before the __tile__ construct is applied after the transform."
   ]
  },
  {
   "cell_type": "code",
   "execution_count": null,
   "metadata": {},
   "outputs": [],
   "source": [
    "//%compiler: clang\n",
    "//%cflags: -fopenmp\n",
    "\n",
    "/*\n",
    "* name:       tile.1\n",
    "* type:       C\n",
    "* version:    omp_5.1\n",
    "*/\n",
    "void func1(int A[100][128])\n",
    "{\n",
    "   #pragma omp parallel for\n",
    "   #pragma omp tile sizes(5,16)\n",
    "   for (int i = 0; i < 100; ++i)\n",
    "       for (int j = 0; j < 128; ++j)\n",
    "           A[i][j] = i*1000 + j;\n",
    "}\n",
    "\n",
    "void func2(int A[100][128])\n",
    "{\n",
    "   #pragma omp parallel for\n",
    "   for (int i1 = 0; i1 < 100; i1+=5)\n",
    "       for (int j1 = 0; j1 < 128; j1+=16)\n",
    "           for (int i2 = i1; i2 < i1+5; ++i2)\n",
    "               for (int j2 = j1; j2 < j1+16; ++j2)\n",
    "                  A[i2][j2] = i2*1000 + j2;\n",
    "}"
   ]
  },
  {
   "cell_type": "markdown",
   "metadata": {},
   "source": [
    "In the following Fortran code the inner loop traverses rows  and the outer loop traverses the columns of a 128x100 (row x column) matrix.   The  __sizes(5,16)__ clause of the __tile__ construct specifies  a 5x16 blocking, applied to the outer (column) and inner (row) loops. The worksharing-loop construct before the __tile__ construct is applied after the transform."
   ]
  },
  {
   "cell_type": "code",
   "execution_count": null,
   "metadata": {},
   "outputs": [],
   "source": [
    "!!%compiler: gfortran\n",
    "!!%cflags: -fopenmp\n",
    "\n",
    "! name:       tile.1\n",
    "! type:       F-free\n",
    "! version:    omp_5.1\n",
    "\n",
    "subroutine func1(A)\n",
    "    integer :: A(128,100)\n",
    "    integer :: i, j\n",
    "    !$omp parallel do\n",
    "    !$omp tile sizes(5,16)\n",
    "    do i = 1, 100\n",
    "    do j = 1, 128\n",
    "        A(j,i) = j*1000 + i\n",
    "    end do; end do\n",
    "end subroutine\n",
    "\n",
    "subroutine func2(A)\n",
    "    integer :: A(128,100)\n",
    "    integer :: i1, j1, i2, j2\n",
    "    !$omp parallel do\n",
    "    do i1 = 1, 100,5\n",
    "    do j1 = 1, 128,16\n",
    "       do i2 = i1, i1+( 5-1)\n",
    "       do j2 = j1, j1+(16-1)\n",
    "          A(j2,i2) = j2*1000 + i2\n",
    "       end do; end do\n",
    "    end do; end do\n",
    "end subroutine"
   ]
  },
  {
   "cell_type": "markdown",
   "metadata": {},
   "source": [
    "This example illustrates transformation nesting. Here, a 4x4 \"outer''  __tile__ construct is applied to the \"inner'' tile transform shown in the example above. The effect of the inner loop is shown in  **func2**  (cf.  **func2**  in tile.1.c). The outer __tile__ construct's __sizes(4,4)__ clause applies a 4x4 tile upon the resulting blocks of the inner transform.  The effective looping is shown in  **func3** ."
   ]
  },
  {
   "cell_type": "code",
   "execution_count": null,
   "metadata": {},
   "outputs": [],
   "source": [
    "//%compiler: clang\n",
    "//%cflags: -fopenmp\n",
    "\n",
    "/*\n",
    "* name:       tile.2\n",
    "* type:       C\n",
    "* version:    omp_5.1\n",
    "*/\n",
    "void func1(int A[100][128])\n",
    "{\n",
    "   #pragma omp tile sizes(4, 4)\n",
    "   #pragma omp tile sizes(5,16)\n",
    "   for (int i = 0; i < 100; ++i)\n",
    "       for (int j = 0; j < 128; ++j)\n",
    "           A[i][j] = i*1000 + j;\n",
    "}\n",
    "\n",
    "void func2(int A[100][128])\n",
    "{\n",
    "   #pragma omp tile sizes(4,4)\n",
    "   for (int i1 = 0; i1 < 100; i1+=5)\n",
    "       for (int j1 = 0; j1 < 128; j1+=16)\n",
    "           for (int i2 = i1; i2 < i1+5; ++i2)\n",
    "               for (int j2 = j1; j2 < j1+16; ++j2)\n",
    "                  A[i2][j2] = i2*1000 + j2;\n",
    "}\n",
    "\n",
    "void func3(int A[100][128])\n",
    "{\n",
    "   for (int i11 = 0; i11 < 100; i11+= 5*4)\n",
    "   for (int j11 = 0; j11 < 128; j11+=16*4)\n",
    "\n",
    "       for (int i12 = i11; i12 < i11+( 5*4); i12+= 5)\n",
    "       for (int j12 = j11; j12 < j11+(16*4); j12+=16)\n",
    "\n",
    "           for (int i2 = i12; i2 < i12+ 5; ++i2)\n",
    "           for (int j2 = j12; j2 < j12+16; ++j2)\n",
    "              A[i2][j2] = i2*1000 + j2;\n",
    "}"
   ]
  },
  {
   "cell_type": "code",
   "execution_count": null,
   "metadata": {},
   "outputs": [],
   "source": [
    "!!%compiler: gfortran\n",
    "!!%cflags: -fopenmp\n",
    "\n",
    "! name:       tile.2\n",
    "! type:       F-free\n",
    "! version:    omp_5.1\n",
    "\n",
    "subroutine func1(A)\n",
    "    integer :: A(128,100)\n",
    "    integer :: i, j\n",
    "    !$omp tile sizes(4, 4)\n",
    "    !$omp tile sizes(5,16)\n",
    "    do i = 1, 100\n",
    "    do j = 1, 128\n",
    "       A(j,i) = j*1000 + i\n",
    "    end do; end do\n",
    "end subroutine\n",
    "\n",
    "subroutine func2(A)\n",
    "    integer :: A(128,100)\n",
    "    integer :: i1, j1, i2, j2\n",
    "    !$omp tile sizes(4,4)\n",
    "    do i1 = 1, 100,5\n",
    "    do j1 = 1, 128,16\n",
    "       do i2 = i1, i1+( 5-1)\n",
    "       do j2 = j1, j1+(16-1)\n",
    "          A(j2,i2) = j2*1000 + i2\n",
    "       end do; end do\n",
    "    end do; end do\n",
    "\n",
    "end subroutine\n",
    "\n",
    "subroutine func3(A)\n",
    "    integer :: A(128,100)\n",
    "    integer :: i11, j11, i12, j12, i2, j2\n",
    "    do i11 = 1, 100,  5*4\n",
    "    do j11 = 1, 128, 16*4\n",
    "       do i12 = i11, i11+( 5*4-1),  5\n",
    "       do j12 = j11, j11+(16*4-1), 16\n",
    "          do i2 = i12, i12+ 5-1\n",
    "          do j2 = j12, j12+16-1\n",
    "             A(j2,i2) = j2*1000 + i2\n",
    "          enddo; enddo;\n",
    "       enddo; enddo;\n",
    "    enddo; enddo\n",
    "\n",
    "end subroutine"
   ]
  }
 ],
 "metadata": {
  "kernelspec": {
   "display_name": "Native",
   "language": "native",
   "name": "native"
  },
  "language_info": {
   "file_extension": ".c",
   "mimetype": "text/plain",
   "name": "c"
  }
 },
 "nbformat": 4,
 "nbformat_minor": 4
}