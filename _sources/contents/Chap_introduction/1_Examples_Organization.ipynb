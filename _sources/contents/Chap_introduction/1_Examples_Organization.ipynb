{
 "cells": [
  {
   "cell_type": "markdown",
   "id": "a2fa0b9a-a537-4b54-9de2-c018a5090c78",
   "metadata": {},
   "source": [
    "## Examples Organization"
   ]
  },
  {
   "cell_type": "markdown",
   "id": "09cab2f0-0335-485b-8dc4-ac4bb09f632e",
   "metadata": {},
   "source": [
    "This document includes examples of the OpenMP API directives, constructs, and routines."
   ]
  },
  {
   "cell_type": "markdown",
   "id": "3ff7affd-bf27-41a0-99ac-e067e9e3d34f",
   "metadata": {},
   "source": [
    "Each example is labeled as  _ename.seqno.ext_ , where  _ename_  is  the example name,  _seqno_  is the sequence number in a section, and   _ext_  is the source file extension to indicate the code type and  source form.   _ext_  is one of the following:"
   ]
  },
  {
   "cell_type": "markdown",
   "id": "435e92b2-27b3-4853-b9f0-141211e48df5",
   "metadata": {},
   "source": [
    "- _c_    -  C code,\n",
    "- _cpp_  -  C++ code,\n",
    "- _f_    -  Fortran code in fixed form, and\n",
    "- _f90_  -  Fortran code in free form."
   ]
  },
  {
   "cell_type": "markdown",
   "id": "4b534e27-7025-41fb-998c-09be63c01f16",
   "metadata": {},
   "source": [
    "Some of the example labels may include version information  (**omp**_*verno*) to indicate features that are illustrated by an example for a specific OpenMP version, such as \" _scan.1.c_   (**omp_5.0**).''"
   ]
  },
  {
   "cell_type": "markdown",
   "id": "afb701db-5be7-4522-a970-a2a8f09fdb4f",
   "metadata": {},
   "source": [
    "| C/C++ |\n",
    "|- |\n",
    "|A statement following a directive is compound only when necessary, and a  non-compound statement is indented with respect to a directive preceding it.|"
   ]
  }
 ],
 "metadata": {
  "kernelspec": {
   "display_name": "Python 3 (ipykernel)",
   "language": "python",
   "name": "python3"
  },
  "language_info": {
   "codemirror_mode": {
    "name": "ipython",
    "version": 3
   },
   "file_extension": ".py",
   "mimetype": "text/x-python",
   "name": "python",
   "nbconvert_exporter": "python",
   "pygments_lexer": "ipython3",
   "version": "3.8.10"
  }
 },
 "nbformat": 4,
 "nbformat_minor": 5
}
