{
 "cells": [
  {
   "cell_type": "markdown",
   "metadata": {},
   "source": [
    "## __omp_get_num_threads__ Routine"
   ]
  },
  {
   "cell_type": "markdown",
   "metadata": {},
   "source": [
    "In the following example, the __omp_get_num_threads__ call returns 1 in  the sequential part of the code, so __np__ will always be equal to 1. To determine  the number of threads that will be deployed for the __parallel__ region, the  call should be inside the __parallel__ region."
   ]
  },
  {
   "cell_type": "code",
   "execution_count": null,
   "metadata": {},
   "outputs": [],
   "source": [
    "//%compiler: clang\n",
    "//%cflags: -fopenmp\n",
    "\n",
    "/*\n",
    "* name: get_nthrs.1\n",
    "* type: C\n",
    "*/\n",
    "#include <omp.h>\n",
    "void work(int i);\n",
    "\n",
    "void incorrect() {\n",
    "  int np, i;\n",
    "\n",
    "  np = omp_get_num_threads();  /* misplaced */\n",
    "\n",
    "  #pragma omp parallel for schedule(static)\n",
    "  for (i=0; i < np; i++)\n",
    "    work(i);\n",
    "}"
   ]
  },
  {
   "cell_type": "code",
   "execution_count": null,
   "metadata": {},
   "outputs": [],
   "source": [
    "!!%compiler: gfortran\n",
    "!!%cflags: -fopenmp\n",
    "\n",
    "! name: get_nthrs.1\n",
    "! type: F-fixed\n",
    "      SUBROUTINE WORK(I)\n",
    "      INTEGER I\n",
    "        I = I + 1\n",
    "      END SUBROUTINE WORK\n",
    "\n",
    "      SUBROUTINE INCORRECT()\n",
    "        INCLUDE \"omp_lib.h\"      ! or USE OMP_LIB\n",
    "        INTEGER I, NP\n",
    "\n",
    "        NP = OMP_GET_NUM_THREADS()   !misplaced: will return 1\n",
    "!$OMP   PARALLEL DO SCHEDULE(STATIC)\n",
    "          DO I = 0, NP-1\n",
    "            CALL WORK(I)\n",
    "          ENDDO\n",
    "!$OMP   END PARALLEL DO\n",
    "      END SUBROUTINE INCORRECT"
   ]
  },
  {
   "cell_type": "markdown",
   "metadata": {},
   "source": [
    "The following example shows how to rewrite this program without including a query  for the number of threads:"
   ]
  },
  {
   "cell_type": "code",
   "execution_count": null,
   "metadata": {},
   "outputs": [],
   "source": [
    "//%compiler: clang\n",
    "//%cflags: -fopenmp\n",
    "\n",
    "/*\n",
    "* name: get_nthrs.2\n",
    "* type: C\n",
    "*/\n",
    "#include <omp.h>\n",
    "void work(int i);\n",
    "\n",
    "void correct()\n",
    "{\n",
    "  int i;\n",
    "\n",
    "  #pragma omp parallel private(i)\n",
    "  {\n",
    "    i = omp_get_thread_num();\n",
    "    work(i);\n",
    "  }\n",
    "}"
   ]
  },
  {
   "cell_type": "code",
   "execution_count": null,
   "metadata": {},
   "outputs": [],
   "source": [
    "!!%compiler: gfortran\n",
    "!!%cflags: -fopenmp\n",
    "\n",
    "! name: get_nthrs.2\n",
    "! type: F-fixed\n",
    "      SUBROUTINE WORK(I)\n",
    "        INTEGER I\n",
    "\n",
    "        I = I + 1\n",
    "\n",
    "      END SUBROUTINE WORK\n",
    "\n",
    "      SUBROUTINE CORRECT()\n",
    "        INCLUDE \"omp_lib.h\"     ! or USE OMP_LIB\n",
    "        INTEGER I\n",
    "\n",
    "!$OMP    PARALLEL PRIVATE(I)\n",
    "          I = OMP_GET_THREAD_NUM()\n",
    "          CALL WORK(I)\n",
    "!$OMP   END PARALLEL\n",
    "\n",
    "      END SUBROUTINE CORRECT"
   ]
  }
 ],
 "metadata": {
  "kernelspec": {
   "display_name": "Native",
   "language": "native",
   "name": "native"
  },
  "language_info": {
   "file_extension": ".c",
   "mimetype": "text/plain",
   "name": "c"
  }
 },
 "nbformat": 4,
 "nbformat_minor": 4
}