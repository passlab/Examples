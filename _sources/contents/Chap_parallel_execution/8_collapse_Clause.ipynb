{
 "cells": [
  {
   "cell_type": "markdown",
   "metadata": {},
   "source": [
    "## __collapse__ Clause"
   ]
  },
  {
   "cell_type": "markdown",
   "metadata": {},
   "source": [
    "In the following example, the __k__ and __j__ loops are associated with  the loop construct. So the iterations of the __k__ and __j__ loops are  collapsed into one loop with a larger iteration space, and that loop is then divided  among the threads in the current team. Since the __i__ loop is not associated  with the loop construct, it is not collapsed, and the __i__ loop is executed  sequentially in its entirety in every iteration of the collapsed __k__ and  __j__ loop."
   ]
  },
  {
   "cell_type": "markdown",
   "metadata": {},
   "source": [
    "The variable __j__ can be omitted from the __private__  clause when the  __collapse__ clause is used since it is implicitly private. However, if the  __collapse__ clause is omitted then __j__ will be shared if it is omitted  from the __private__ clause. In either case, __k__ is implicitly private  and could be omitted from the __private__  clause."
   ]
  },
  {
   "cell_type": "code",
   "execution_count": null,
   "metadata": {},
   "outputs": [],
   "source": [
    "//%compiler: clang\n",
    "//%cflags: -fopenmp\n",
    "\n",
    "/*\n",
    "* name: collapse.1\n",
    "* type: C\n",
    "* version: omp_3.0\n",
    "*/\n",
    "\n",
    "void bar(float *a, int i, int j, int k);\n",
    "\n",
    "int kl, ku, ks, jl, ju, js, il, iu,is;\n",
    "\n",
    "void sub(float *a)\n",
    "{\n",
    "    int i, j, k;\n",
    "\n",
    "    #pragma omp for collapse(2) private(i, k, j)\n",
    "    for (k=kl; k<=ku; k+=ks)\n",
    "       for (j=jl; j<=ju; j+=js)\n",
    "          for (i=il; i<=iu; i+=is)\n",
    "             bar(a,i,j,k);\n",
    "}\n",
    "\n"
   ]
  },
  {
   "cell_type": "code",
   "execution_count": null,
   "metadata": {},
   "outputs": [],
   "source": [
    "!!%compiler: gfortran\n",
    "!!%cflags: -fopenmp\n",
    "\n",
    "! name: collapse.1\n",
    "! type: F-fixed\n",
    "! version: omp_3.0\n",
    "\n",
    "      subroutine sub(a)\n",
    "\n",
    "      real a(*)\n",
    "      integer kl, ku, ks, jl, ju, js, il, iu, is\n",
    "      common /csub/ kl, ku, ks, jl, ju, js, il, iu, is\n",
    "      integer i, j, k\n",
    "\n",
    "!$omp do collapse(2) private(i,j,k)\n",
    "       do k = kl, ku, ks\n",
    "         do j = jl, ju, js\n",
    "           do i = il, iu, is\n",
    "             call bar(a,i,j,k)\n",
    "          enddo\n",
    "        enddo\n",
    "      enddo\n",
    "!$omp end do\n",
    "\n",
    "      end subroutine\n",
    "\n"
   ]
  },
  {
   "cell_type": "markdown",
   "metadata": {},
   "source": [
    "In the next example, the __k__ and __j__ loops are associated with the  loop construct. So the iterations of the __k__ and __j__ loops are collapsed  into one loop with a larger iteration space, and that loop is then divided among  the threads in the current team."
   ]
  },
  {
   "cell_type": "markdown",
   "metadata": {},
   "source": [
    "The sequential execution of the iterations in the __k__ and __j__ loops  determines the order of the iterations in the collapsed iteration space. This implies  that in the sequentially last iteration of the collapsed iteration space, __k__  will have the value __2__ and __j__ will have the value __3__. Since  __klast__ and __jlast__ are __lastprivate__, their values are assigned  by the sequentially last iteration of the collapsed __k__ and __j__ loop.  This example prints: __2 3__."
   ]
  },
  {
   "cell_type": "code",
   "execution_count": null,
   "metadata": {},
   "outputs": [],
   "source": [
    "//%compiler: clang\n",
    "//%cflags: -fopenmp\n",
    "\n",
    "/*\n",
    "* name: collapse.2\n",
    "* type: C\n",
    "* version: omp_3.0\n",
    "*/\n",
    "\n",
    "#include <stdio.h>\n",
    "void test()\n",
    "{\n",
    "   int j, k, jlast, klast;\n",
    "   #pragma omp parallel\n",
    "   {\n",
    "      #pragma omp for collapse(2) lastprivate(jlast, klast)\n",
    "      for (k=1; k<=2; k++)\n",
    "         for (j=1; j<=3; j++)\n",
    "         {\n",
    "            jlast=j;\n",
    "            klast=k;\n",
    "         }\n",
    "      #pragma omp single\n",
    "      printf(\"%d %d\\n\", klast, jlast);\n",
    "   }\n",
    "}\n",
    "\n"
   ]
  },
  {
   "cell_type": "code",
   "execution_count": null,
   "metadata": {},
   "outputs": [],
   "source": [
    "!!%compiler: gfortran\n",
    "!!%cflags: -fopenmp\n",
    "\n",
    "! name: collapse.2\n",
    "! type: F-fixed\n",
    "! version: omp_3.0\n",
    "\n",
    "      program test\n",
    "!$omp parallel\n",
    "!$omp do private(j,k) collapse(2) lastprivate(jlast, klast)\n",
    "      do k = 1,2\n",
    "        do j = 1,3\n",
    "          jlast=j\n",
    "          klast=k\n",
    "        enddo\n",
    "      enddo\n",
    "!$omp end do\n",
    "!$omp single\n",
    "      print *, klast, jlast\n",
    "!$omp end single\n",
    "!$omp end parallel\n",
    "      end program test"
   ]
  },
  {
   "cell_type": "markdown",
   "metadata": {},
   "source": [
    "The next example illustrates the interaction of the __collapse__ and __ordered__   clauses."
   ]
  },
  {
   "cell_type": "markdown",
   "metadata": {},
   "source": [
    "In the example, the loop construct has both a __collapse__ clause and an __ordered__  clause. The __collapse__ clause causes the iterations of the __k__ and  __j__ loops to be collapsed into one loop with a larger iteration space, and  that loop is divided among the threads in the current team. An __ordered__  clause is added to the loop construct because an ordered region binds to the loop  region arising from the loop construct."
   ]
  },
  {
   "cell_type": "markdown",
   "metadata": {},
   "source": [
    "According to Section 2.12.8 of the OpenMP 4.0 specification,  a thread must not execute more than one ordered region that binds  to the same loop region. So the __collapse__ clause is required for the example  to be conforming. With the __collapse__ clause, the iterations of the __k__  and __j__ loops are collapsed into one loop, and therefore only one ordered  region will bind to the collapsed __k__ and __j__ loop. Without the __collapse__  clause, there would be two ordered regions that bind to each iteration of the __k__  loop (one arising from the first iteration of the __j__ loop, and the other  arising from the second iteration of the __j__ loop)."
   ]
  },
  {
   "cell_type": "markdown",
   "metadata": {},
   "source": [
    "The code prints"
   ]
  },
  {
   "cell_type": "markdown",
   "metadata": {},
   "source": [
    "__0 1 1__ <br> __0 1 2__ <br> __0 2 1__ <br> __1 2 2__ <br> __1 3 1__ <br> __1 3 2__"
   ]
  },
  {
   "cell_type": "code",
   "execution_count": null,
   "metadata": {},
   "outputs": [],
   "source": [
    "//%compiler: clang\n",
    "//%cflags: -fopenmp\n",
    "\n",
    "/*\n",
    "* name: collapse.3\n",
    "* type: C\n",
    "* version: omp_3.0\n",
    "*/\n",
    "#include <omp.h>\n",
    "#include <stdio.h>\n",
    "void work(int a, int j, int k);\n",
    "void sub()\n",
    "{\n",
    "   int j, k, a;\n",
    "   #pragma omp parallel num_threads(2)\n",
    "   {\n",
    "      #pragma omp for collapse(2) ordered private(j,k) schedule(static,3)\n",
    "      for (k=1; k<=3; k++)\n",
    "         for (j=1; j<=2; j++)\n",
    "         {\n",
    "            #pragma omp ordered\n",
    "            printf(\"%d %d %d\\n\", omp_get_thread_num(), k, j);\n",
    "            /* end ordered */\n",
    "            work(a,j,k);\n",
    "         }\n",
    "   }\n",
    "}"
   ]
  },
  {
   "cell_type": "code",
   "execution_count": null,
   "metadata": {},
   "outputs": [],
   "source": [
    "!!%compiler: gfortran\n",
    "!!%cflags: -fopenmp\n",
    "\n",
    "! name: collapse.3\n",
    "! type: F-fixed\n",
    "! version: omp_3.0\n",
    "      program test\n",
    "      include 'omp_lib.h'\n",
    "!$omp parallel num_threads(2)\n",
    "!$omp do collapse(2) ordered private(j,k) schedule(static,3)\n",
    "      do k = 1,3\n",
    "        do j = 1,2\n",
    "!$omp ordered\n",
    "          print *, omp_get_thread_num(), k, j\n",
    "!$omp end ordered\n",
    "          call work(a,j,k)\n",
    "        enddo\n",
    "      enddo\n",
    "!$omp end do\n",
    "!$omp end parallel\n",
    "      end program test"
   ]
  },
  {
   "cell_type": "markdown",
   "metadata": {},
   "source": [
    "The following example illustrates the collapse of a non-rectangular loop nest, a new feature in OpenMP 5.0. In a loop nest, a non-rectangular loop has a loop bound that references the iteration variable of an enclosing loop."
   ]
  },
  {
   "cell_type": "markdown",
   "metadata": {},
   "source": [
    "The motivation for this feature is illustrated in the example below that creates a symmetric correlation matrix for a set of variables. Note that the initial value of the second loop depends on the index variable of the first loop for the loops to be collapsed. Here the data are represented by a 2D array, each row corresponds to a variable and each column corresponds to a sample of the variable - the last two columns are the sample mean and standard deviation (for Fortran, rows and columns are swapped)."
   ]
  },
  {
   "cell_type": "code",
   "execution_count": null,
   "metadata": {},
   "outputs": [],
   "source": [
    "//%compiler: clang\n",
    "//%cflags: -fopenmp\n",
    "\n",
    "/*\n",
    "* name: collapse.4\n",
    "* type: C\n",
    "* version: omp_5.0\n",
    "*/\n",
    "#include <stdio.h>\n",
    "#define N 20\n",
    "#define M 10\n",
    "\n",
    "// routine to calculate a\n",
    "// For variable a[i]:\n",
    "// a[i][0],...,a[i][n-1]   contains the n samples\n",
    "// a[i][n]                 contains the sample mean\n",
    "// a[i][n+1]               contains the standard deviation\n",
    "extern void calc_a(int n,int m, float a[][N+2]);\n",
    "\n",
    "int main(){\n",
    "  float a[M][N+2], b[M][M];\n",
    "\n",
    "  calc_a(N,M,a);\n",
    "\n",
    "  #pragma omp parallel for collapse(2)\n",
    "  for (int i = 0; i < M; i++)\n",
    "     for (int j = i; j < M; j++)\n",
    "     {\n",
    "        float temp = 0.0f;\n",
    "        for (int k = 0; k < N; k++)\n",
    "           temp += (a[i][k]-a[i][N])*(a[j][k]-a[j][N]);\n",
    "\n",
    "        b[i][j] = temp / (a[i][N+1] * a[j][N+1] * (N - 1));\n",
    "        b[j][i] = b[i][j];\n",
    "     }\n",
    "\n",
    "  printf(\"b[0][0] = %f, b[M-1][M-1] = %f\\n\", b[0][0], b[M-1][M-1]);\n",
    "\n",
    "  return 0;\n",
    "}"
   ]
  },
  {
   "cell_type": "code",
   "execution_count": null,
   "metadata": {},
   "outputs": [],
   "source": [
    "!!%compiler: gfortran\n",
    "!!%cflags: -fopenmp\n",
    "\n",
    "! name: collapse.4\n",
    "! type: F-free\n",
    "! version: omp_5.0\n",
    "module calc_m\n",
    "  interface\n",
    "  subroutine calc_a(n, m, a)\n",
    "  integer n, m\n",
    "  real a(n+2,m)\n",
    "  ! routine to calculate a\n",
    "  ! For variable a(*,j):\n",
    "  ! a(1,j),...,a(n,j)  contains the n samples\n",
    "  ! a(n+1,j)           contains the sample mean\n",
    "  ! a(n+2,j)           contains the standard deviation\n",
    "  end subroutine\n",
    "  end interface\n",
    "end module\n",
    "\n",
    "program main\n",
    "  use calc_m\n",
    "  integer, parameter :: N=20, M=10\n",
    "  real a(N+2,M), b(M,M)\n",
    "  real temp\n",
    "  integer i, j, k\n",
    "\n",
    "  call calc_a(N,M,a)\n",
    "\n",
    "  !$omp parallel do collapse(2) private(k,temp)\n",
    "  do i = 1, M\n",
    "     do j = i, M\n",
    "        temp = 0.0\n",
    "        do k = 1, N\n",
    "           temp = temp + (a(k,i)-a(N+1,i))*(a(k,j)-a(N+1,j))\n",
    "        end do\n",
    "\n",
    "        b(i,j) = temp / (a(N+2,i) * a(N+2,j) * (N - 1))\n",
    "        b(j,i) = b(i,j)\n",
    "     end do\n",
    "  end do\n",
    "\n",
    "  print *,\"b(1,1) = \",b(1,1),\", b(M,M) = \",b(M,M)\n",
    "\n",
    "end program"
   ]
  }
 ],
 "metadata": {
  "kernelspec": {
   "display_name": "Native",
   "language": "native",
   "name": "native"
  },
  "language_info": {
   "file_extension": ".c",
   "mimetype": "text/plain",
   "name": "c"
  }
 },
 "nbformat": 4,
 "nbformat_minor": 4
}