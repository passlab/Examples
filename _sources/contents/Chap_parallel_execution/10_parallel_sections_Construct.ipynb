{
 "cells": [
  {
   "cell_type": "markdown",
   "metadata": {},
   "source": [
    "## __parallel__ __sections__ Construct"
   ]
  },
  {
   "cell_type": "markdown",
   "metadata": {},
   "source": [
    "In the following example routines __XAXIS__, __YAXIS__, and __ZAXIS__ can  be executed concurrently. The first __section__ directive is optional. Note  that all __section__ directives need to appear in the  __parallel__ __sections__ construct."
   ]
  },
  {
   "cell_type": "code",
   "execution_count": null,
   "metadata": {},
   "outputs": [],
   "source": [
    "//%compiler: clang\n",
    "//%cflags: -fopenmp\n",
    "\n",
    "/*\n",
    "* name: psections.1\n",
    "* type: C\n",
    "*/\n",
    "void XAXIS();\n",
    "void YAXIS();\n",
    "void ZAXIS();\n",
    "\n",
    "void sect_example()\n",
    "{\n",
    "  #pragma omp parallel sections\n",
    "  {\n",
    "    #pragma omp section\n",
    "      XAXIS();\n",
    "\n",
    "    #pragma omp section\n",
    "      YAXIS();\n",
    "\n",
    "    #pragma omp section\n",
    "      ZAXIS();\n",
    "  }\n",
    "}"
   ]
  },
  {
   "cell_type": "code",
   "execution_count": null,
   "metadata": {},
   "outputs": [],
   "source": [
    "!!%compiler: gfortran\n",
    "!!%cflags: -fopenmp\n",
    "\n",
    "! name: psections.1\n",
    "! type: F-fixed\n",
    "      SUBROUTINE SECT_EXAMPLE()\n",
    "!$OMP PARALLEL SECTIONS\n",
    "!$OMP SECTION\n",
    "        CALL XAXIS()\n",
    "!$OMP SECTION\n",
    "        CALL YAXIS()\n",
    "\n",
    "!$OMP SECTION\n",
    "        CALL ZAXIS()\n",
    "\n",
    "!$OMP END PARALLEL SECTIONS\n",
    "      END SUBROUTINE SECT_EXAMPLE"
   ]
  }
 ],
 "metadata": {
  "kernelspec": {
   "display_name": "Native",
   "language": "native",
   "name": "native"
  },
  "language_info": {
   "file_extension": ".c",
   "mimetype": "text/plain",
   "name": "c"
  }
 },
 "nbformat": 4,
 "nbformat_minor": 4
}