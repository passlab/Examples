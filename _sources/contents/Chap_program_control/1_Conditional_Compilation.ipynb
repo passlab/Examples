{
 "cells": [
  {
   "cell_type": "markdown",
   "metadata": {},
   "source": [
    "## Conditional Compilation"
   ]
  },
  {
   "cell_type": "markdown",
   "metadata": {},
   "source": [
    "The following example illustrates the use of conditional compilation using the  OpenMP macro ___OPENMP__. With OpenMP compilation, the ___OPENMP__  macro becomes defined."
   ]
  },
  {
   "cell_type": "code",
   "execution_count": null,
   "metadata": {},
   "outputs": [],
   "source": [
    "//%compiler: clang\n",
    "//%cflags: -fopenmp\n",
    "\n",
    "/*\n",
    "* name: cond_comp.1\n",
    "* type: C\n",
    "*/\n",
    "#include <stdio.h>\n",
    "\n",
    "int main()\n",
    "{\n",
    "\n",
    "# ifdef _OPENMP\n",
    "    printf(\"Compiled by an OpenMP-compliant implementation.\\n\");\n",
    "# endif\n",
    "\n",
    "    return 0;\n",
    "}"
   ]
  },
  {
   "cell_type": "markdown",
   "metadata": {},
   "source": [
    "The following example illustrates the use of the conditional compilation sentinel.  With OpenMP compilation, the conditional compilation sentinel __!$__ is recognized  and treated as two spaces. In fixed form source, statements guarded by the sentinel  must start after column 6."
   ]
  },
  {
   "cell_type": "code",
   "execution_count": null,
   "metadata": {},
   "outputs": [],
   "source": [
    "!!%compiler: gfortran\n",
    "!!%cflags: -fopenmp\n",
    "\n",
    "! name: cond_comp.1\n",
    "! type: F-fixed\n",
    "      PROGRAM EXAMPLE\n",
    "\n",
    "C234567890\n",
    "!$    PRINT *, \"Compiled by an OpenMP-compliant implementation.\"\n",
    "\n",
    "      END PROGRAM EXAMPLE"
   ]
  }
 ],
 "metadata": {
  "kernelspec": {
   "display_name": "Native",
   "language": "native",
   "name": "native"
  },
  "language_info": {
   "file_extension": ".c",
   "mimetype": "text/plain",
   "name": "c"
  }
 },
 "nbformat": 4,
 "nbformat_minor": 4
}