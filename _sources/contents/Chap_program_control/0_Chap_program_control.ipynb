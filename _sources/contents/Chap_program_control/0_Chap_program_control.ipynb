{
 "cells": [
  {
   "cell_type": "markdown",
   "metadata": {},
   "source": [
    "# Program Control"
   ]
  },
  {
   "cell_type": "markdown",
   "metadata": {},
   "source": [
    "Basic concepts and mechanisms for directing and controlling a program compilation and execution are provided in this introduction and illustrated in subsequent examples."
   ]
  },
  {
   "cell_type": "markdown",
   "metadata": {},
   "source": [
    "CONDITIONAL COMPILATION and EXECUTION"
   ]
  },
  {
   "cell_type": "markdown",
   "metadata": {},
   "source": [
    "Conditional compilation can be performed with conventional #ifdef directives in C, C++, and Fortran, and additionally with OpenMP sentinel (__!$__) in Fortran.  The __if__ clause on some directives can direct the runtime to ignore or alter the behavior of the construct. Of course, the base-language __if__ statements can be used to control the execution of stand-alone directives (such as __flush__, __barrier__, __taskwait__,  and  __taskyield__). However, the directives must appear in a block structure, and not as a substatement. The __metadirective__ and __declare__ __variant__ directives provide conditional  selection of directives and routines for compilation (and use), respectively. The __assume__ and __requires__ directives provide invariants for optimizing compilation, and essential features for compilation  and correct execution, respectively."
   ]
  },
  {
   "cell_type": "markdown",
   "metadata": {},
   "source": [
    "CANCELLATION"
   ]
  },
  {
   "cell_type": "markdown",
   "metadata": {},
   "source": [
    "Cancellation (termination) of the normal sequence of execution for the threads in an OpenMP region can be  accomplished with the __cancel__ construct.  The construct uses a  _construct-type-clause_  to set the region-type to activate for the cancellation.  That is, inclusion  of one of the  _construct-type-clause_  names __parallel__, __for__,  __do__, __sections__ or __taskgroup__ on the directive line  activates the corresponding region.   The __cancel__ construct is activated by the first encountering thread,  and it continues execution at the end of the named region. The __cancel__ construct is also a cancellation point for any other thread of the team  to also continue execution at the end of the named region."
   ]
  },
  {
   "cell_type": "markdown",
   "metadata": {},
   "source": [
    "Also, once the specified region has been activated for cancellation any thread that encounnters  a __cancellation__ __point__ construct with the same named region ( _construct-type-clause_ ), continues execution at the end of the region."
   ]
  },
  {
   "cell_type": "markdown",
   "metadata": {},
   "source": [
    "For an activated __cancel taskgroup__ construct, the tasks that belong to the taskgroup set of the innermost enclosing taskgroup region will be canceled."
   ]
  },
  {
   "cell_type": "markdown",
   "metadata": {},
   "source": [
    "A task that encounters a __cancel__ __taskgroup__ construct continues execution at the end of its task region. Any task of the taskgroup that has already begun execution will run to completion, unless it encounters a __cancellation__ __point__; tasks that have not begun execution may be discarded as completed tasks."
   ]
  },
  {
   "cell_type": "markdown",
   "metadata": {},
   "source": [
    "CONTROL VARIABLES"
   ]
  },
  {
   "cell_type": "markdown",
   "metadata": {},
   "source": [
    "Internal control variables (ICV) are used by implementations to hold values which control the execution   of OpenMP regions.  Control (and hence the ICVs) may be set as implementation defaults,    or set and adjusted through environment variables, clauses, and API functions.      Initial ICV values are reported by the runtime   if the __OMP_DISPLAY_ENV__ environment variable has been set to __TRUE__ or __VERBOSE__."
   ]
  },
  {
   "cell_type": "markdown",
   "metadata": {},
   "source": [
    "NESTED CONSTRUCTS"
   ]
  },
  {
   "cell_type": "markdown",
   "metadata": {},
   "source": [
    "Certain combinations of nested constructs are permitted, giving rise to  _combined_  constructs consisting of two or more directives.  These can be used when the two (or several) constructs would be used immediately in succession (closely nested). A  _combined_  construct can use the clauses of the component constructs without restrictions. A  _composite_  construct is a combined construct which has one or more clauses with (an often obviously) modified or restricted meaning, relative to when the constructs are uncombined."
   ]
  },
  {
   "cell_type": "markdown",
   "metadata": {},
   "source": [
    "Certain nestings are forbidden, and often the reasoning is obvious.  For example, worksharing constructs cannot be nested, and the __barrier__ construct cannot be nested inside a worksharing construct, or a __critical__ construct.  Also, __target__ constructs cannot be nested, unless the nested target is a reverse offload."
   ]
  },
  {
   "cell_type": "markdown",
   "metadata": {},
   "source": [
    "The __parallel__ construct can be nested, as well as the __task__ construct.   The parallel execution in the nested parallel construct(s) is controlled by the  __OMP_MAX_ACTIVE_LEVELS__ environment variable, and the __omp_set_max_active_levels__ routine.  Use the __omp_get_max_active_levels__ routine to determine the maximum levels provided by an implementation. As of OpenMP 5.0, use of the __OMP_NESTED__ environment variable and the __omp_set_nested__ routine  has been deprecated."
   ]
  },
  {
   "cell_type": "markdown",
   "metadata": {},
   "source": [
    "More details on nesting can be found in the  _Nesting of Regions_  of the  _Directives_   chapter in the OpenMP Specifications document."
   ]
  }
 ],
 "metadata": {
  "kernelspec": {
   "display_name": "Native",
   "language": "native",
   "name": "native"
  },
  "language_info": {
   "file_extension": ".c",
   "mimetype": "text/plain",
   "name": "c"
  }
 },
 "nbformat": 4,
 "nbformat_minor": 4
}
