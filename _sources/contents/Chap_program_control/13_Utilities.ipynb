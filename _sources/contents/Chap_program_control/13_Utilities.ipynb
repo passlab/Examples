{
 "cells": [
  {
   "cell_type": "markdown",
   "metadata": {},
   "source": [
    "## Utilities"
   ]
  },
  {
   "cell_type": "markdown",
   "metadata": {},
   "source": [
    "This section contains examples of utility routines and features."
   ]
  },
  {
   "cell_type": "markdown",
   "metadata": {},
   "source": [
    "### Timing Routines"
   ]
  },
  {
   "cell_type": "markdown",
   "metadata": {},
   "source": [
    "The __omp_get_wtime__ routine can be used to measure the elapsed wall clock time (in seconds) of code execution in a program. The routine is thread safe and can be executed by multiple threads concurrently. The precision of the timer can be obtained by a call to the __omp_get_wtick__ routine. The following example shows a use case."
   ]
  },
  {
   "cell_type": "code",
   "execution_count": null,
   "metadata": {},
   "outputs": [],
   "source": [
    "//%compiler: clang\n",
    "//%cflags: -fopenmp\n",
    "\n",
    "/*\n",
    "* name: get_wtime.1\n",
    "* type: C\n",
    "*/\n",
    "#include <stdio.h>\n",
    "#include <unistd.h>\n",
    "#include <omp.h>\n",
    "\n",
    "void work_to_be_timed()\n",
    "{\n",
    "  sleep(2);\n",
    "}\n",
    "\n",
    "int main()\n",
    "{\n",
    "  double start, end;\n",
    "\n",
    "  start = omp_get_wtime();\n",
    "  work_to_be_timed();     // any parallel or serial codes\n",
    "  end = omp_get_wtime();\n",
    "\n",
    "  printf(\"Work took %f seconds\\n\", end - start);\n",
    "  printf(\"Precision of the timer is %f (sec)\\n\", omp_get_wtick());\n",
    "  return 0;\n",
    "}"
   ]
  },
  {
   "cell_type": "code",
   "execution_count": null,
   "metadata": {},
   "outputs": [],
   "source": [
    "!!%compiler: gfortran\n",
    "!!%cflags: -fopenmp\n",
    "\n",
    "! name: get_wtime.1\n",
    "! type: F-free\n",
    "subroutine work_to_be_timed\n",
    "  use, intrinsic :: iso_c_binding, only: c_int\n",
    "  interface\n",
    "     subroutine fsleep(sec) bind(C, name=\"sleep\")\n",
    "       import c_int\n",
    "       integer(c_int), value :: sec\n",
    "     end subroutine\n",
    "  end interface\n",
    "  call fsleep(2)\n",
    "end subroutine\n",
    "\n",
    "program do_work\n",
    "  use omp_lib\n",
    "  implicit none\n",
    "  double precision :: start, end\n",
    "\n",
    "  start = omp_get_wtime()\n",
    "  call work_to_be_timed    ! any parallel or serial codes\n",
    "  end = omp_get_wtime()\n",
    "\n",
    "  print *, \"Work took\", end - start, \"seconds\"\n",
    "  print *, \"Precision of the timer is\", omp_get_wtick(), \"(sec)\"\n",
    "end program"
   ]
  },
  {
   "cell_type": "markdown",
   "metadata": {},
   "source": [
    "### Environment Display"
   ]
  },
  {
   "cell_type": "markdown",
   "metadata": {},
   "source": [
    "The OpenMP version number and the values of ICVs associated with the relevant environment variables can be displayed at runtime by setting  the __OMP_DISPLAY_ENV__ environment variable to either  __TRUE__ or __VERBOSE__. The information is displayed once by the runtime."
   ]
  },
  {
   "cell_type": "markdown",
   "metadata": {},
   "source": [
    "A more flexible or controllable approach is to call  the __omp_display_env__ API routine at any desired point of a code to display the same information. This OpenMP 5.1 API routine takes a single  _verbose_  argument. A value of 0 or .false. (for C/C++ or Fortran) indicates the required OpenMP ICVs associated with environment variables be displayed, and a value of 1 or .true. (for C/C++ or Fortran) will include vendor-specific ICVs that can be modified by environment variables."
   ]
  },
  {
   "cell_type": "markdown",
   "metadata": {},
   "source": [
    "The following example illustrates the conditional execution of the API __omp_display_env__ routine.  Typically it would be invoked in various debug modes of an application.  An important use case is to have a single MPI process (e.g., rank = 0)  of a hybrid (MPI+OpenMP) code execute the routine, instead of all MPI processes, as would be done by  setting the __OMP_DISPLAY_ENV__ to __TRUE__ or __VERBOSE__."
   ]
  },
  {
   "cell_type": "code",
   "execution_count": null,
   "metadata": {},
   "outputs": [],
   "source": [
    "//%compiler: clang\n",
    "//%cflags: -fopenmp\n",
    "\n",
    "/*\n",
    "* name: display_env.1\n",
    "* type: C\n",
    "* version: omp_5.1\n",
    "*/\n",
    "#include <omp.h>\n",
    "\n",
    "//implementers: customize debug routines for app debugging\n",
    "int debug(){ return 1; }\n",
    "int debug_omp_verbose(){ return 0; }\n",
    "\n",
    "int main()\n",
    "{\n",
    "   if( debug() ) omp_display_env( debug_omp_verbose() );\n",
    "   // ...\n",
    "   return 0;\n",
    "}"
   ]
  },
  {
   "cell_type": "code",
   "execution_count": null,
   "metadata": {},
   "outputs": [],
   "source": [
    "!!%compiler: gfortran\n",
    "!!%cflags: -fopenmp\n",
    "\n",
    "! name: display_env.1\n",
    "! type: F-free\n",
    "! version: omp_5.1\n",
    "!implementers: customize debug routines for app debugging\n",
    "function  debug()\n",
    "  logical :: debug\n",
    "  debug = .true.\n",
    "end function\n",
    "\n",
    "function debug_omp_verbose()\n",
    "  logical :: debug_omp_verbose\n",
    "  debug_omp_verbose = .false.\n",
    "end function\n",
    "\n",
    "program display_omp_environment\n",
    "  use omp_lib\n",
    "  logical :: debug, debug_omp_verbose\n",
    "\n",
    "  if( debug() ) call omp_display_env( debug_omp_verbose() )\n",
    "  !! ...\n",
    "end program"
   ]
  },
  {
   "cell_type": "markdown",
   "metadata": {},
   "source": [
    "A sample output from the execution of the code might look like:\n",
    "```\n",
    "OPENMP DISPLAY ENVIRONMENT BEGIN\n",
    "     _OPENMP='202011'    \n",
    "    [host] OMP_AFFINITY_FORMAT='(null)'    \n",
    "    [host] OMP_ALLOCATOR='omp_default_mem_alloc'    \n",
    "    [host] OMP_CANCELLATION='FALSE'    \n",
    "    [host] OMP_DEFAULT_DEVICE='0'    \n",
    "    [host] OMP_DISPLAY_AFFINITY='FALSE'    \n",
    "    [host] OMP_DISPLAY_ENV='FALSE'    \n",
    "    [host] OMP_DYNAMIC='FALSE'    \n",
    "    [host] OMP_MAX_ACTIVE_LEVELS='1'    \n",
    "    [host] OMP_MAX_TASK_PRIORITY='0'    \n",
    "    [host] OMP_NESTED: deprecated; max-active-levels-var=1    \n",
    "    [host] OMP_NUM_THREADS: value is not defined    \n",
    "    [host] OMP_PLACES: value is not defined    \n",
    "    [host] OMP_PROC_BIND: value is not defined    \n",
    "    [host] OMP_SCHEDULE='static'    \n",
    "    [host] OMP_STACKSIZE='4M'    \n",
    "    [host] OMP_TARGET_OFFLOAD=DEFAULT    \n",
    "    [host] OMP_THREAD_LIMIT='0'    \n",
    "    [host] OMP_TOOL='enabled'    \n",
    "    [host] OMP_TOOL_LIBRARIES: value is not defined  \n",
    "OPENMP DISPLAY ENVIRONMENT END\n",
    "```"
   ]
  },
  {
   "cell_type": "markdown",
   "metadata": {},
   "source": [
    "### __error__ Directive"
   ]
  },
  {
   "cell_type": "markdown",
   "metadata": {},
   "source": [
    "The __error__ directive provides a consistent method for C, C++, and Fortran to emit a  _fatal_  or  _warning_  message at  _compilation_  or  _execution_  time, as determined by a __severity__  or an __at__ clause, respectively. When __severity(fatal)__ is present, the compilation  or execution is aborted. Without any clauses the default behavior is as if __at(compilation)__  and __severity(fatal)__ were specified."
   ]
  },
  {
   "cell_type": "markdown",
   "metadata": {},
   "source": [
    "The C, C++, and Fortran examples below show all the cases for reporting messages."
   ]
  },
  {
   "cell_type": "code",
   "execution_count": null,
   "metadata": {},
   "outputs": [],
   "source": [
    "//%compiler: clang\n",
    "//%cflags: -fopenmp\n",
    "\n",
    "/*\n",
    "* name:       error.1\n",
    "* type:       C\n",
    "* version:    omp_5.2\n",
    "*/\n",
    "#include <stdio.h>\n",
    "#include   <omp.h>\n",
    "\n",
    "int main(){\n",
    "\n",
    "#pragma omp metadirective \\\n",
    "            when(implementation={vendor(gnu)}: nothing )   \\\n",
    "            otherwise(error at(compilation) severity(fatal) \\\n",
    "                    message(\"GNU compiler required.\"))\n",
    "\n",
    "  if( omp_get_num_procs() < 3 ){\n",
    "    #pragma omp error at(runtime) severity(fatal) \\\n",
    "                      message(\"3 or more procs required.\")\n",
    "  }\n",
    "\n",
    "  #pragma omp parallel master\n",
    "  {\n",
    "    // Give notice about master deprecation at compile time and run time.\n",
    "    #pragma omp error at(compilation) severity(warning) \\\n",
    "                      message(\"Notice: master is deprecated.\")\n",
    "    #pragma omp error at(runtime) severity(warning) \\\n",
    "                      message(\"Notice: masked used next release.\")\n",
    "\n",
    "     printf(\" Hello from thread number 0.\\n\");\n",
    "  }\n",
    "\n",
    "}"
   ]
  },
  {
   "cell_type": "code",
   "execution_count": null,
   "metadata": {},
   "outputs": [],
   "source": [
    "!!%compiler: gfortran\n",
    "!!%cflags: -fopenmp\n",
    "\n",
    "! name:       error.1\n",
    "! type:       F-free\n",
    "! version:    omp_5.2\n",
    "program main\n",
    "use omp_lib\n",
    "\n",
    "!$omp  metadirective  &\n",
    "!$omp&     when( implementation={vendor(gnu)}: nothing    ) &\n",
    "!$omp&     otherwise( error at(compilation) severity(fatal) &\n",
    "!$omp&                message( \"GNU compiler required.\" ) )\n",
    "\n",
    "\n",
    "if( omp_get_num_procs() < 3 ) then\n",
    "   !$omp  error at(runtime) severity(fatal) &\n",
    "   !$omp&       message(\"3 or more procs required.\")\n",
    "endif\n",
    "\n",
    "  !$omp parallel master\n",
    "\n",
    "!! Give notice about master deprecation at compile time and run time.\n",
    "  !$omp  error at(compilation) severity(warning) &\n",
    "  !$omp&       message(\"Notice: master is deprecated.\")\n",
    "  !$omp  error at(runtime) severity(warning) &\n",
    "  !$omp&       message(\"Notice: masked to be used in next release.\")\n",
    "\n",
    "  print*,\" Hello from thread number 0.\"\n",
    "\n",
    "  !$omp end parallel master\n",
    "\n",
    "end program"
   ]
  }
 ],
 "metadata": {
  "kernelspec": {
   "display_name": "Native",
   "language": "native",
   "name": "native"
  },
  "language_info": {
   "file_extension": ".c",
   "mimetype": "text/plain",
   "name": "c"
  }
 },
 "nbformat": 4,
 "nbformat_minor": 4
}