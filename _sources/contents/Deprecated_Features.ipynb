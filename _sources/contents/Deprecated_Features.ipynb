{
 "cells": [
  {
   "cell_type": "markdown",
   "metadata": {},
   "source": [
    ""
   ]
  },
  {
   "cell_type": "markdown",
   "metadata": {},
   "source": [
    "# Feature Deprecations and Updates in Examples"
   ]
  },
  {
   "cell_type": "markdown",
   "metadata": {},
   "source": [
    "{deprecated_features}   **deprecated features**"
   ]
  },
  {
   "cell_type": "markdown",
   "metadata": {},
   "source": [
    "Deprecation of features began in OpenMP 5.0.  Examples that use a deprecated feature have been updated with an equivalent  replacement feature."
   ]
  },
  {
   "cell_type": "markdown",
   "metadata": {},
   "source": [
    "Table  summarizes deprecated features and  their replacements in each version.  Affected examples are updated  accordingly and listed in Section ."
   ]
  },
  {
   "cell_type": "markdown",
   "metadata": {},
   "source": [
    "\nolinenumbers \renewcommand{\arraystretch}{1.4} \tablefirsthead{\hline  **Version**  &  **Deprecated Feature**  &  **Replacement**  \hline[-3.5ex] } \tablehead{\multicolumn{2}{l}{\slshape table continued from previous page} \hline  **Version**  &  **Deprecated Feature**  &  **Replacement**  \hline[-3ex] } \tabletail{\hline[-4ex] \multicolumn{2}{l}{\slshape table continued on next page} } \tablelasttail{\hline[-2ex]} \tablecaption{Deprecated Features and Their Replacements} {p{0.4in} p{2.3in} p{2.2in}} 5.2 & `default` clause on metadirectives      & `otherwise` clause  5.2 & delimited `declare` `target` directive for C/C++      & `begin` `declare` `target` directive  5.2 & `to` clause on `declare` `target` directive      & `enter` clause  5.2 & non-argument `destroy` clause on `depobj` construct      & `destroy(` _argument_ `)`  5.2 & `allocate` construct for Fortran `ALLOCATE` statements      & `allocators` construct  5.2 & `depend` clause on `ordered` construct      & `doacross` clause  5.2 & `linear(` _modifier(list): linear-step_ `)` clause      & `linear(` _list:_  `step(` _linear-step_ `)` _, modifier_ `)` clause  \hline 5.1 & `master` construct      & `masked` construct  5.1 & `master` affinity policy      & `primary` affinity policy  \hline 5.0 & `omp_lock_hint_*` constants      & `omp_sync_hint_*` constants [2pt]"
   ]
  },
  {
   "cell_type": "markdown",
   "metadata": {},
   "source": [
    "\linenumbers These replacements appear in examples that illustrate, otherwise, earlier features. When using a compiler that is compliant with a version prior to  the indicated version, the earlier form of an example for a previous version is listed as a reference."
   ]
  },
  {
   "cell_type": "markdown",
   "metadata": {},
   "source": [
    "\newpage"
   ]
  },
  {
   "cell_type": "markdown",
   "metadata": {},
   "source": [
    "## Updated Examples for Different Versions"
   ]
  },
  {
   "cell_type": "markdown",
   "metadata": {},
   "source": [
    ""
   ]
  },
  {
   "cell_type": "markdown",
   "metadata": {},
   "source": [
    "The following tables list the updated examples for different versions as  a result of feature deprecation. The **Earlier Version** column of  the tables shows the version tag of the earlier version. It also shows the prior name of an example when it has been renamed."
   ]
  },
  {
   "cell_type": "markdown",
   "metadata": {},
   "source": [
    "Table  lists the updated examples for OpenMP 5.2 in the Examples Document Version [https://github.com/OpenMP/Examples/tree/v5.2]{5.2}. The **Earlier Version** column of the table lists the earlier version tags of the examples that can be found in  the Examples Document Version  [https://github.com/OpenMP/Examples/tree/v5.1]{5.1}."
   ]
  },
  {
   "cell_type": "markdown",
   "metadata": {},
   "source": [
    "**clauses!default `default`** **clauses!otherwise `otherwise`** **clauses!to `to`** **clauses!enter `enter`** **clauses!depend `depend`** **clauses!doacross `doacross`** **clauses!linear `linear`** **clauses!destroy `destroy`** **default clause `default` clause** **otherwise clause `otherwise` clause** **to clause `to` clause** **enter clause `enter` clause** **depend clause `depend` clause** **doacross clause `doacross` clause** **linear clause `linear` clause** **destroy clause `destroy` clause** **directives!begin declare target `begin` `declare` `target`** **begin declare target directive `begin` `declare` `target` directive** **allocate construct `allocate` construct** **allocators construct `allocators` construct**"
   ]
  },
  {
   "cell_type": "markdown",
   "metadata": {},
   "source": [
    "\nolinenumbers \renewcommand{\arraystretch}{1.0} \tablefirsthead{\hline[-2ex]  **Example Name**  &  **Earlier Version**  &  **Feature Updated**  [2pt] \hline[-2ex] } \tablehead{\multicolumn{2}{l}{\slshape table continued from previous page}[2pt] \hline[-2ex]  **Example Name**  &  **Earlier Version**  &  **Feature Updated** [2pt] \hline[-2ex] } \tabletail{\hline[-2.5ex] \multicolumn{2}{l}{\slshape table continued on next page} } \tablelasttail{\hline[-1ex]} \tablecaption{Updated Examples for Version 5.2} {p{1.7in} p{1.2in} p{2.1in}}   \hexentry{error.1}[f90]{5.1} &      `default` clause on metadirectives    \hexentry{metadirective.1}[f90]{5.0} &      replaced with `otherwise` clause    \hexentry{metadirective.2}[f90]{5.0} &    \hexentry{metadirective.3}[f90]{5.0} &    \hexentry{metadirective.4}[f90]{5.1} &    \hexentry{target_ptr_map.4}{5.1} &    \hexentry{target_ptr_map.5}[f90]{5.1} & [2pt] \hline[-2ex]   \hexentry[f90]{array_shaping.1}{5.0} &     `to` clause on `declare` `target`    \hexentry{target_reverse_offload.7}{5.0} &     directive replaced with `enter` clause    \hexentry{target_task_reduction.1}[f90]{5.1} &    \hexentry{target_task_reduction.2a}[f90]{5.0} &    \hexentry{target_task_reduction.2b}[f90]{5.1} &[2pt] \hline[-2ex]   \hexentry{array_shaping.1}{5.0} &      delimited `declare` `target`    \hexentry{async_target.1}{4.0} &      directive replaced with    \hexentry{async_target.2}{4.0} &      `begin` `declare` `target`    \hexentry{declare_target.1}{4.0} &      directive for C/C++    \hexentry[cpp]{declare_target.2c}{4.0} &    \hexentry{declare_target.3}{4.0} &    \hexentry{declare_target.4}{4.0} &    \hexentry{declare_target.5}{4.0} &    \hexentry{declare_target.6}{4.0} &    \hexentry{declare_variant.1}{5.0} &    \hexentry{device.1}{4.0} &    \hexentry{metadirective.3}{5.0} &    \hexentry{target_ptr_map.2}{5.0} &    \hexentry{target_ptr_map.3a}{5.0} &    \hexentry{target_ptr_map.3b}{5.0} &    \hexentry{target_struct_map.1}{5.0} &    \hexentry[cpp]{target_struct_map.2}{5.0} &    \hexentry{target_struct_map.3}{5.0} &    \hexentry{target_struct_map.4}{5.0} & [2pt] \hline[-2ex]   \hexentry{doacross.1}[f90]{4.5} &     `depend` clause on `ordered`    \hexentry{doacross.2}[f90]{4.5} &     construct replaced with `doacross`    \hexentry{doacross.3}[f90]{4.5} &     clause    \hexentry{doacross.4}[f90]{4.5} & [2pt] \hline[-2ex]   \hexentry[cpp]{linear_modifier.1}[f90]{4.5} &     modifier syntax change for `linear`    \hexentry[cpp]{linear_modifier.2}[f90]{4.5} &     clause on `declare` `simd` directive    \hexentry{linear_modifier.3}[f90]{4.5} & [2pt] \hline[-2ex]   \hexentry[f90]{allocators.1}{5.0} &     `allocate` construct replaced with `allocators` construct     for Fortran allocate statements [2pt] \hline[-2ex]   \hexentry{depobj.1}[f90]{5.0} &     argument added to `destroy` clause on `depobj`      construct [2pt]"
   ]
  },
  {
   "cell_type": "markdown",
   "metadata": {},
   "source": [
    "\linenumbers Table  lists the updated examples for OpenMP 5.1 in the Examples Document Version [https://github.com/OpenMP/Examples/tree/v5.1]{5.1}. The **Earlier Version** column of the table lists the earlier version tags and prior names of the examples that can be found in  the Examples Document Version  [https://github.com/OpenMP/Examples/tree/v5.0.1]{5.0.1}."
   ]
  },
  {
   "cell_type": "markdown",
   "metadata": {},
   "source": [
    "**affinity!master policy `master` policy** **affinity!primary policy `primary` policy** **constructs!master `master`** **constructs!masked `masked`** **master construct `master` construct** **masked construct `masked` construct**"
   ]
  },
  {
   "cell_type": "markdown",
   "metadata": {},
   "source": [
    "\nolinenumbers \renewcommand{\arraystretch}{1.0} \tablefirsthead{\hline[-2ex]  **Example Name**  &  **Earlier Version**  &  **Feature Updated**  [2pt] \hline[-2ex] } \tablehead{\multicolumn{2}{l}{\slshape table continued from previous page}[2pt] \hline[-2ex]  **Example Name**  &  **Earlier Version**  &  **Feature Updated** [2pt] \hline[-2ex] } \tabletail{\hline[-2.5ex] \multicolumn{2}{l}{\slshape table continued on next page} } \tablelasttail{\hline[-1ex]} \tablecaption{Updated Examples for Version 5.1} {p{1.8in} p{1.4in} p{1.8in}}   \hexentry{affinity.5}[f]{4.0} &     `master` affinity policy replaced with `primary` policy [2pt] \hline[-2ex]   \hexentry{async_target.3}[f90]{5.0} &      `master` construct replaced    \hexentry{cancellation.2}[f90]{4.0} &      with `masked` construct    \hexentry{copyprivate.2}[f]{3.0} &    \hexentry[f]{fort_sa_private.5}{3.0} &    \hexentry{lock_owner.1}[f]{3.0} &    \hexmentry{masked.1}[f]{3.0}{master.1} &    \hexmentry{parallel_masked_taskloop.1}[f90]{5.0}{parallel_master_taskloop.1} &   \hexentry{reduction.6}[f]{3.0} &    \hexentry{target_task_reduction.1}[f90]{5.0} &    \hexentry{target_task_reduction.2b}[f90]{5.0} &    \hexentry{taskloop_simd_reduction.1}[f90]{5.0} &    \hexentry{task_detach.1}[f90]{5.0} & [2pt]"
   ]
  },
  {
   "cell_type": "markdown",
   "metadata": {},
   "source": [
    "\linenumbers Table  lists the updated examples for OpenMP 5.0 in the Examples Document Version [https://github.com/OpenMP/Examples/tree/v5.1]{5.1}. The **Earlier Version** column of the table lists the earlier version tags of the examples that can be found in  the Examples Document Version  [https://github.com/OpenMP/Examples/tree/v5.0.1]{5.0.1}."
   ]
  },
  {
   "cell_type": "markdown",
   "metadata": {},
   "source": [
    "\nolinenumbers \renewcommand{\arraystretch}{1.0} \tablefirsthead{\hline[-2ex]  **Example Name**  &  **Earlier Version**  &  **Feature Updated**  [2pt] \hline[-2ex] } \tablehead{\multicolumn{2}{l}{\slshape table continued from previous page}[2pt] \hline[-2ex]  **Example Name**  &  **Earlier Version**  &  **Feature Updated** [2pt] \hline[-2ex] } \tabletail{\hline[-2.5ex] \multicolumn{2}{l}{\slshape table continued on next page} } \tablelasttail{\hline[-1ex]} \tablecaption{Updated Examples for Version 5.0} {p{1.6in} p{1.3in} p{2.1in}}  \hexentry{critical.2}[f]{4.5} &    `omp_lock_hint_*` constants   \hexentry[cpp]{init_lock_with_hint.1}[f]{4.5} &    replaced with `omp_sync_hint_*` constants [2pt]"
   ]
  },
  {
   "cell_type": "markdown",
   "metadata": {},
   "source": [
    "\linenumbers"
   ]
  },
  {
   "cell_type": "markdown",
   "metadata": {},
   "source": [
    ""
   ]
  }
 ],
 "metadata": {
  "kernelspec": {
   "display_name": "Native",
   "language": "native",
   "name": "native"
  },
  "language_info": {
   "file_extension": ".c",
   "mimetype": "text/plain",
   "name": "none"
  }
 },
 "nbformat": 4,
 "nbformat_minor": 2
}